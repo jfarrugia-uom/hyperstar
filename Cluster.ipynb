{
 "cells": [
  {
   "cell_type": "code",
   "execution_count": 4,
   "metadata": {},
   "outputs": [],
   "source": [
    "import argparse\n",
    "import csv\n",
    "import operator\n",
    "import pickle\n",
    "import random\n",
    "import sys\n",
    "import numpy as np\n",
    "from sklearn.cluster import KMeans\n",
    "from sklearn.metrics import silhouette_score\n",
    "from multiprocessing import Pool"
   ]
  },
  {
   "cell_type": "code",
   "execution_count": 5,
   "metadata": {},
   "outputs": [],
   "source": [
    "# set notebook arguments\n",
    "args = {}\n",
    "args['train'] = \"train.npz\"\n",
    "#args['seed'] = 1337\n",
    "args['seed'] = 1000\n",
    "args['k'] = 25\n",
    "\n",
    "# set random seed for replicable results\n",
    "RANDOM_SEED = args['seed']\n",
    "random.seed(RANDOM_SEED)"
   ]
  },
  {
   "cell_type": "code",
   "execution_count": 6,
   "metadata": {},
   "outputs": [
    {
     "name": "stdout",
     "output_type": "stream",
     "text": [
      "Just written the k-means result for k=25.\n"
     ]
    }
   ],
   "source": [
    "with np.load(args['train']) as npz:\n",
    "    X_index_train = npz['X_index']\n",
    "    Y_all_train   = npz['Y_all']\n",
    "    Z_all_train   = npz['Z_all']\n",
    "\n",
    "X_all_train = Z_all_train[X_index_train[:, 0], :]\n",
    "\n",
    "train_offsets = Y_all_train - X_all_train\n",
    "\n",
    "if args['k']:\n",
    "    km = KMeans(n_clusters=args['k'], n_jobs=-1, random_state=RANDOM_SEED)\n",
    "    km.fit_predict(train_offsets)\n",
    "    pickle.dump(km, open('kmeans.pickle', 'wb'))\n",
    "    print('Just written the k-means result for k=%d.' % (km.n_clusters))\n",
    "    #sys.exit(0)\n"
   ]
  },
  {
   "cell_type": "code",
   "execution_count": null,
   "metadata": {},
   "outputs": [],
   "source": [
    "# semes like this code is not executed on account of sys.exit(0)\n",
    "# at the end of block above\n",
    "kmeans = {}\n",
    "\n",
    "for k in range(2, 20 + 1):\n",
    "    kmeans[k] = KMeans(n_clusters=k, n_jobs=-1, random_state=RANDOM_SEED)\n",
    "    kmeans[k].fit_predict(train_offsets)\n",
    "    print('k-means for k=%d computed.' % (k))\n",
    "\n",
    "def evaluate(k):\n",
    "    km = kmeans[k]\n",
    "    score = silhouette_score(train_offsets, km.labels_, metric='euclidean', random_state=RANDOM_SEED)\n",
    "    print('Silhouette score for k=%d is %f.' % (k, score))\n",
    "    return (k, score)\n",
    "\n",
    "scores = {}\n",
    "\n",
    "with open('kmeans-scores.txt', 'w', newline='') as f:\n",
    "    writer = csv.writer(f, dialect='excel-tab', lineterminator='\\n')\n",
    "    writer.writerow(('k', 'silhouette'))\n",
    "    with Pool(12) as pool:\n",
    "        for k, score in pool.imap_unordered(evaluate, kmeans):\n",
    "            scores[k] = score\n",
    "            writer.writerow((k, score))\n",
    "\n",
    "k, score = max(scores.items(), key=operator.itemgetter(1))\n",
    "pickle.dump(kmeans[k], open('kmeans.pickle', 'wb'))\n"
   ]
  }
 ],
 "metadata": {
  "kernelspec": {
   "display_name": "Python 3",
   "language": "python",
   "name": "python3"
  },
  "language_info": {
   "codemirror_mode": {
    "name": "ipython",
    "version": 3
   },
   "file_extension": ".py",
   "mimetype": "text/x-python",
   "name": "python",
   "nbconvert_exporter": "python",
   "pygments_lexer": "ipython3",
   "version": "3.6.3"
  }
 },
 "nbformat": 4,
 "nbformat_minor": 2
}
