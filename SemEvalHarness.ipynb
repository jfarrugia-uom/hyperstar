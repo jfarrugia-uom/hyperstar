{
 "cells": [
  {
   "cell_type": "code",
   "execution_count": 1,
   "metadata": {},
   "outputs": [],
   "source": [
    "from gensim.models.keyedvectors import KeyedVectors\n",
    "import numpy as np\n",
    "\n",
    "import io\n",
    "import os\n",
    "import codecs\n",
    "import argparse\n",
    "import random\n",
    "\n",
    "from collections import Counter\n",
    "from collections import defaultdict\n",
    "from itertools import product\n",
    "\n",
    "# very useful feature used to reload python modules\n",
    "from importlib import reload\n",
    "\n",
    "# import module that loads data, tokenises the tuples, initialises the embeddings matrix\n",
    "import crim_data\n",
    "import semeval_data\n",
    "\n",
    "import multiprojection_model\n",
    "import multiprojection_dual\n",
    "# contains code to evaluate according to semeval2018 metrics\n",
    "import semeval_eval\n",
    "import crim_evaluator\n",
    "import crim_dual_evaluator\n",
    "\n",
    "\n",
    "import pandas as pd\n",
    "import matplotlib.pyplot as plt\n",
    "import seaborn as sns\n",
    "%matplotlib inline\n"
   ]
  },
  {
   "cell_type": "markdown",
   "metadata": {},
   "source": [
    "# SemEval 2018, Task 9 Preamble"
   ]
  },
  {
   "cell_type": "code",
   "execution_count": 2,
   "metadata": {},
   "outputs": [],
   "source": [
    "# initialise embeddings and normalise to unit-norm\n",
    "#model = KeyedVectors.load_word2vec_format('embeddings/w2v_umbc_8w_10n_300d.txt', binary=False)\n",
    "#model = KeyedVectors.load_word2vec_format('embeddings/glove_umbc_15w_300d.txt', binary=False)\n",
    "model = KeyedVectors.load_word2vec_format('embeddings/fast_umbc_5ng_8w_300d.vec', binary=False)\n",
    "\n",
    "#model.save_word2vec_format('embeddings/GoogleNews-vectors-negative300.txt', binary=False)\n",
    "model.init_sims(replace=True)"
   ]
  },
  {
   "cell_type": "code",
   "execution_count": 3,
   "metadata": {},
   "outputs": [],
   "source": [
    "# ignore words which don't feature in embeddings model\n",
    "def read_subsumptions(filenames, w2v, word_type='Both'):\n",
    "    hypo, hyper = filenames\n",
    "        \n",
    "    subsumptions = []\n",
    "    is_concept = []\n",
    "    \n",
    "    with open(hypo, mode='r') as f_hypo, open(hyper, mode='r') as f_hyper:         \n",
    "        for x, y in zip(f_hypo, f_hyper):\n",
    "            query, category = x.strip().split(\"\\t\")                        \n",
    "            query = query.replace(\" \", \"_\").lower()                        \n",
    "            y = y.strip()            \n",
    "            # check that we have embeddings for query word            \n",
    "            if (query in w2v and (word_type==category or word_type=='Both')):\n",
    "                for h in y.split(\"\\t\"):\n",
    "                    h = h.replace(\" \", \"_\").lower()\n",
    "                    if h in w2v:\n",
    "                        subsumptions.append((query, h))\n",
    "                        is_concept.append(0 if category=='Entity' else 1 )\n",
    "        \n",
    "        return is_concept, subsumptions\n",
    "                    \n",
    "# ignore vocab entries not having correspononding embeddings                                                \n",
    "def read_vocab(filename, w2v):\n",
    "        \n",
    "    vocab = []    \n",
    "    # load data itemsf\n",
    "    with open(filename, mode='r') as f:        \n",
    "        for word in f:\n",
    "            word = word.strip().replace(\" \",\"_\").lower()            \n",
    "            if word in w2v:\n",
    "                vocab.append(word)\n",
    "                              \n",
    "    return vocab"
   ]
  },
  {
   "cell_type": "code",
   "execution_count": 4,
   "metadata": {
    "scrolled": true
   },
   "outputs": [
    {
     "name": "stdout",
     "output_type": "stream",
     "text": [
      "Concept\n",
      "Tuples in validation set: 112; tuples in test set: 4935; tuples in training: 7182\n",
      "Unique hyponyms in validation set: 30; hyponyms in test set: 1057; hyponyms in training: 978\n",
      "Unique hypernyms in validation set: 109; hypernyms in test set: 2574; hypernyms in training: 3475\n",
      "------------------------------\n",
      "Entity\n",
      "Tuples in validation set: 88; tuples in test set: 2112; tuples in training: 4595\n",
      "Unique hyponyms in validation set: 20; hyponyms in test set: 443; hyponyms in training: 521\n",
      "Unique hypernyms in validation set: 75; hypernyms in test set: 812; hypernyms in training: 1426\n",
      "------------------------------\n",
      "Both\n",
      "Tuples in validation set: 200; tuples in test set: 7047; tuples in training: 11777\n",
      "Unique hyponyms in validation set: 50; hyponyms in test set: 1499; hyponyms in training: 1499\n",
      "Unique hypernyms in validation set: 182; hypernyms in test set: 3075; hypernyms in training: 4232\n",
      "------------------------------\n",
      "Vocab size: 218106\n",
      "Total number of unique hypernyms: 5597; total hyponyms: 3045\n"
     ]
    }
   ],
   "source": [
    "# import SemEval data\n",
    "data_file_names = list(map(lambda x: '1A.english.%s.data.txt'%(x), ['trial', 'test', 'training']))\n",
    "gold_file_names = list(map(lambda x: '1A.english.%s.gold.txt'%(x), ['trial', 'test', 'training']))\n",
    "vocab_file_name = '1A.english.vocabulary.txt'\n",
    "\n",
    "file_names = list(zip(data_file_names, gold_file_names))\n",
    "# 0 = validation; 1 = test; 2 = training\n",
    "# create a dictionary for every dataset which maintains concepts, entities, and both\n",
    "validation, test, training = {}, {}, {}\n",
    "word_types = ['Concept', 'Entity','Both']\n",
    "for w in word_types:\n",
    "    validation[w] = read_subsumptions(file_names[0], model, w)[1] \n",
    "    test[w] = read_subsumptions(file_names[1], model, w)[1]\n",
    "    if w == 'Both':\n",
    "        is_concept, training[w] = read_subsumptions(file_names[2], model, w)\n",
    "    else:\n",
    "        training[w] = read_subsumptions(file_names[2], model, w)[1]\n",
    "\n",
    "vocabulary = read_vocab(vocab_file_name, model)\n",
    "    \n",
    "# create hypernym dictionary\n",
    "hyper_dict = defaultdict(list)\n",
    "for x, y in validation['Both'] + test['Both'] + training['Both']:\n",
    "    hyper_dict[x].append(y)\n",
    "    \n",
    "hyper_dict.default_factory = None\n",
    "\n",
    "# print some quick stats\n",
    "for w in word_types:\n",
    "    print (w)\n",
    "    print (\"Tuples in validation set: %d; tuples in test set: %d; tuples in training: %d\" \n",
    "          % (len(validation[w]), len(test[w]), len(training[w])))\n",
    "    \n",
    "    print (\"Unique hyponyms in validation set: %d; hyponyms in test set: %d; hyponyms in training: %d\"\n",
    "          % (len(set([x for (x,y) in validation[w]])), len(set([x for (x,y) in test[w]])), len(set([x for (x,y) in training[w]]))))\n",
    "    \n",
    "    print (\"Unique hypernyms in validation set: %d; hypernyms in test set: %d; hypernyms in training: %d\"\n",
    "          % (len(set([y for (x,y) in validation[w]])), len(set([y for (x,y) in test[w]])), len(set([y for (x,y) in training[w]]))))\n",
    "    print (\"-\"*30)\n",
    "    \n",
    "print (\"Vocab size: %d\" % len(vocabulary))\n",
    "\n",
    "# 647 terms were missing from the model vocab due to them appearing only once in the corpus.\n",
    "# According to the technical paper, only words appearing at least 5 times were considered for vocab \n",
    "# from within the general-purpose corpus\n",
    "\n",
    "# Also the word épée, is found without accents in the model.  Don't know why. But we'll ignore this single\n",
    "# word since it should not make a difference in the scheme of things.\n",
    "\n",
    "# total number of hyponyms\n",
    "tot_hypers = len(set([y for x, y in  validation['Both'] + test['Both']  + training['Both']]))\n",
    "tot_hypos = len(set([x for x, y in  validation['Both'] + test['Both']  + training['Both']]))\n",
    "print (\"Total number of unique hypernyms: %d; total hyponyms: %d\" % (tot_hypers, tot_hypos))"
   ]
  },
  {
   "cell_type": "code",
   "execution_count": 5,
   "metadata": {},
   "outputs": [
    {
     "name": "stdout",
     "output_type": "stream",
     "text": [
      "Initialising SemevalData...\n",
      "Creating tokenizer\n",
      "Dataset vocabulary size is 219034\n",
      "Vocab size is 219034 words\n",
      "Initialising negative sampler\n",
      "Tokenising all dataset tuples\n",
      "Creating embeddings matrix\n",
      "Done!\n"
     ]
    }
   ],
   "source": [
    "args = {'w2v':model,\n",
    "        'train':training, 'test':test, 'validation':validation, 'vocabulary':vocabulary, \n",
    "        'is_concept':is_concept        \n",
    "       }\n",
    "\n",
    "data = semeval_data.SemevalData(args)"
   ]
  },
  {
   "cell_type": "code",
   "execution_count": null,
   "metadata": {},
   "outputs": [],
   "source": []
  },
  {
   "cell_type": "code",
   "execution_count": null,
   "metadata": {},
   "outputs": [],
   "source": []
  },
  {
   "cell_type": "code",
   "execution_count": null,
   "metadata": {},
   "outputs": [],
   "source": []
  },
  {
   "cell_type": "code",
   "execution_count": 6,
   "metadata": {},
   "outputs": [],
   "source": [
    "def train_and_evaluate(hyp_model, train_split, valid_split, test_split):    \n",
    "    \n",
    "    # fit model\n",
    "    # the test split is only used to measure the test loss\n",
    "    hyp_model.fit(train_split, valid_split)    \n",
    "    # this step should not be required since the model is dynamically linked to the evaluator\n",
    "    hyp_model.evaluator.set_model(hyp_model.model)\n",
    "    \n",
    "    scores_all = []\n",
    "    # evaluate trained model on word in either category separately and together\n",
    "    for w in ['Concept', 'Entity', 'Both']:\n",
    "        print (\"Evaluating model on %s\" % (w) )\n",
    "        # generates predictions according to trained model\n",
    "        predictions = hyp_model.evaluator.predict(test_split[w])\n",
    "        # this converts the tokens back to words for evaluation\n",
    "        test_tuples = data.token_to_words(test_split[w])\n",
    "        # here we have a scorer that will mark our effort according to this particular test split\n",
    "        scorer = semeval_eval.HypernymEvaluation(test_tuples)\n",
    "        # get scores\n",
    "        score_names, all_scores = scorer.get_evaluation_scores(predictions)\n",
    "        # initialise scores (MRR, MAP, ...)\n",
    "        scores = {s:0.0 for s in score_names }\n",
    "        for k in range(len(score_names)):    \n",
    "            scores[score_names[k]] = float('%.5f' % (sum([score_list[k] for score_list in all_scores]) / len(all_scores)))    \n",
    "        \n",
    "        scores_all.append(scores)\n",
    "    return scores_all\n",
    "    "
   ]
  },
  {
   "cell_type": "code",
   "execution_count": null,
   "metadata": {},
   "outputs": [],
   "source": []
  },
  {
   "cell_type": "markdown",
   "metadata": {},
   "source": [
    "# MULTI-PROJECTION Section"
   ]
  },
  {
   "cell_type": "code",
   "execution_count": 7,
   "metadata": {},
   "outputs": [
    {
     "name": "stdout",
     "output_type": "stream",
     "text": [
      "WARNING:tensorflow:From /opt/conda/lib/python3.6/site-packages/tensorflow/python/ops/resource_variable_ops.py:435: colocate_with (from tensorflow.python.framework.ops) is deprecated and will be removed in a future version.\n",
      "Instructions for updating:\n",
      "Colocations handled automatically by placer.\n"
     ]
    }
   ],
   "source": [
    "embeddings_layer = multiprojection_model.get_embeddings_model(data.embeddings_matrix, 1)"
   ]
  },
  {
   "cell_type": "code",
   "execution_count": 8,
   "metadata": {},
   "outputs": [
    {
     "name": "stdout",
     "output_type": "stream",
     "text": [
      "WARNING:tensorflow:From /opt/conda/lib/python3.6/site-packages/tensorflow/python/keras/layers/core.py:143: calling dropout (from tensorflow.python.ops.nn_ops) with keep_prob is deprecated and will be removed in a future version.\n",
      "Instructions for updating:\n",
      "Please use `rate` instead of `keep_prob`. Rate should be set to `rate = 1 - keep_prob`.\n"
     ]
    }
   ],
   "source": [
    "# standard model parameters - we won't be changing these\n",
    "args['data']              = data\n",
    "args['embeddings_layer']  = embeddings_layer\n",
    "args['epochs']            = 15\n",
    "args['batch_size']        = 32\n",
    "args['synonym_sample_n']  = 1\n",
    "args['phi_k']             = 1\n",
    "args['lambda_c']          = 0.\n",
    "args['negative_sample_n'] = 10\n",
    "args['save_path']         = 'ft_semeval.npz'\n",
    "args['patience']          = 3\n",
    "args['eval_after_epoch']  = True\n",
    "args['lr']                = 0.001\n",
    "args['beta1']             = 0.9\n",
    "args['beta2']             = 0.9\n",
    "args['clip_value']        = 1.\n",
    "\n",
    "# generate parameter combinations\n",
    "#_clusters = [10, 5, 1]\n",
    "_clusters = [5, 1]\n",
    "#_lambda_c = [0, 0.1, 1]\n",
    "_lambda_c = [0.]\n",
    "#_neg_count = [10, 5, 1]\n",
    "_neg_count = [10]\n",
    "\n",
    "parameters = [_clusters, _lambda_c, _neg_count]\n",
    "\n",
    "param_list = list(product(*parameters))\n",
    "\n",
    "# initialise hypernymy discovery model which we will reuse by resetting the model with new args\n",
    "hyp_model = multiprojection_model.MultiProjModel(args)\n",
    "\n"
   ]
  },
  {
   "cell_type": "code",
   "execution_count": 9,
   "metadata": {
    "scrolled": true
   },
   "outputs": [
    {
     "name": "stdout",
     "output_type": "stream",
     "text": [
      "Running test with following parameters: phi_k: 5; lambda_c: 0.00; neg_count: 10\n",
      "Training model on Concept\n",
      "Fitting model with following parameters:\n",
      " batch_size=32;\n",
      " phi_k=5;\n",
      " lambda_c=0.00;\n",
      " epochs=15;\n",
      " negative_count=10;\n",
      " synonym_count=1\n",
      "Optimizer parameters:\n",
      " lr=0.00100;\n",
      " beta1=0.900;\n",
      " beta2=0.900;\n",
      " clip=1.00\n",
      "--------------------\n",
      "WARNING:tensorflow:From /opt/conda/lib/python3.6/site-packages/tensorflow/python/ops/math_ops.py:3066: to_int32 (from tensorflow.python.ops.math_ops) is deprecated and will be removed in a future version.\n",
      "Instructions for updating:\n",
      "Use tf.cast instead.\n",
      "Epoch: 1; Training Loss: 0.56345; Test Loss: 0.43088; Test MAP: 0.00000; Test MRR: 0.00000\n",
      "Epoch: 2; Training Loss: 0.41159; Test Loss: 0.32091; Test MAP: 0.00000; Test MRR: 0.00000\n",
      "Epoch: 3; Training Loss: 0.32432; Test Loss: 0.27120; Test MAP: 0.00000; Test MRR: 0.00000\n",
      "Epoch: 4; Training Loss: 0.27479; Test Loss: 0.24108; Test MAP: 0.02311; Test MRR: 0.04444\n",
      "Epoch: 5; Training Loss: 0.24261; Test Loss: 0.21384; Test MAP: 0.03141; Test MRR: 0.07500\n",
      "Epoch: 6; Training Loss: 0.21873; Test Loss: 0.19162; Test MAP: 0.04435; Test MRR: 0.08333\n",
      "Epoch: 7; Training Loss: 0.19988; Test Loss: 0.17810; Test MAP: 0.08423; Test MRR: 0.11587\n",
      "Epoch: 8; Training Loss: 0.18365; Test Loss: 0.16203; Test MAP: 0.06526; Test MRR: 0.12056\n",
      "Epoch: 9; Training Loss: 0.17020; Test Loss: 0.15525; Test MAP: 0.09884; Test MRR: 0.15278\n",
      "Epoch: 10; Training Loss: 0.15873; Test Loss: 0.14646; Test MAP: 0.07180; Test MRR: 0.16111\n",
      "Epoch: 11; Training Loss: 0.14938; Test Loss: 0.14112; Test MAP: 0.10624; Test MRR: 0.16667\n",
      "Epoch: 12; Training Loss: 0.13962; Test Loss: 0.13124; Test MAP: 0.11541; Test MRR: 0.19444\n",
      "Epoch: 13; Training Loss: 0.13249; Test Loss: 0.13199; Test MAP: 0.12539; Test MRR: 0.23333\n",
      "Epoch: 14; Training Loss: 0.12582; Test Loss: 0.12837; Test MAP: 0.12272; Test MRR: 0.19444\n",
      "Epoch: 15; Training Loss: 0.11936; Test Loss: 0.12685; Test MAP: 0.11105; Test MRR: 0.20139\n",
      "Done!\n",
      "Evaluating model on Concept\n",
      "Done 100\n",
      "Done 200\n",
      "Done 300\n",
      "Done 400\n",
      "Done 500\n",
      "Done 600\n",
      "Done 700\n",
      "Done 800\n",
      "Done 900\n",
      "Done 1000\n",
      "Evaluating model on Entity\n",
      "Done 100\n",
      "Done 200\n",
      "Done 300\n",
      "Done 400\n",
      "Evaluating model on Both\n",
      "Done 100\n",
      "Done 200\n",
      "Done 300\n",
      "Done 400\n",
      "Done 500\n",
      "Done 600\n",
      "Done 700\n",
      "Done 800\n",
      "Done 900\n",
      "Done 1000\n",
      "Done 1100\n",
      "Done 1200\n",
      "Done 1300\n",
      "Done 1400\n",
      "Training model on Entity\n",
      "Fitting model with following parameters:\n",
      " batch_size=32;\n",
      " phi_k=5;\n",
      " lambda_c=0.00;\n",
      " epochs=15;\n",
      " negative_count=10;\n",
      " synonym_count=1\n",
      "Optimizer parameters:\n",
      " lr=0.00100;\n",
      " beta1=0.900;\n",
      " beta2=0.900;\n",
      " clip=1.00\n",
      "--------------------\n",
      "Epoch: 1; Training Loss: 0.60355; Test Loss: 0.50330; Test MAP: 0.00000; Test MRR: 0.00000\n",
      "Epoch: 2; Training Loss: 0.48694; Test Loss: 0.39341; Test MAP: 0.00000; Test MRR: 0.00000\n",
      "Epoch: 3; Training Loss: 0.40164; Test Loss: 0.32460; Test MAP: 0.00000; Test MRR: 0.00000\n",
      "Epoch: 4; Training Loss: 0.34194; Test Loss: 0.28045; Test MAP: 0.00000; Test MRR: 0.00000\n",
      "Epoch: 5; Training Loss: 0.30014; Test Loss: 0.25006; Test MAP: 0.00326; Test MRR: 0.00714\n",
      "Epoch: 6; Training Loss: 0.26949; Test Loss: 0.22226; Test MAP: 0.05203; Test MRR: 0.09333\n",
      "Epoch: 7; Training Loss: 0.24556; Test Loss: 0.20272; Test MAP: 0.05678; Test MRR: 0.13333\n",
      "Epoch: 8; Training Loss: 0.22639; Test Loss: 0.18319; Test MAP: 0.07059; Test MRR: 0.16000\n",
      "Epoch: 9; Training Loss: 0.20986; Test Loss: 0.16989; Test MAP: 0.08142; Test MRR: 0.18750\n",
      "Epoch: 10; Training Loss: 0.19584; Test Loss: 0.15462; Test MAP: 0.10615; Test MRR: 0.21833\n",
      "Epoch: 11; Training Loss: 0.18386; Test Loss: 0.14333; Test MAP: 0.09872; Test MRR: 0.26250\n",
      "Epoch: 12; Training Loss: 0.17180; Test Loss: 0.13496; Test MAP: 0.10963; Test MRR: 0.21833\n",
      "Epoch: 13; Training Loss: 0.16277; Test Loss: 0.12748; Test MAP: 0.11494; Test MRR: 0.23500\n",
      "Epoch: 14; Training Loss: 0.15331; Test Loss: 0.12976; Test MAP: 0.10705; Test MRR: 0.21833\n",
      "Epoch: 15; Training Loss: 0.14532; Test Loss: 0.11643; Test MAP: 0.12183; Test MRR: 0.23333\n",
      "Done!\n",
      "Evaluating model on Concept\n",
      "Done 100\n",
      "Done 200\n",
      "Done 300\n",
      "Done 400\n",
      "Done 500\n",
      "Done 600\n",
      "Done 700\n",
      "Done 800\n",
      "Done 900\n",
      "Done 1000\n",
      "Evaluating model on Entity\n",
      "Done 100\n",
      "Done 200\n",
      "Done 300\n",
      "Done 400\n",
      "Evaluating model on Both\n",
      "Done 100\n",
      "Done 200\n",
      "Done 300\n",
      "Done 400\n",
      "Done 500\n",
      "Done 600\n",
      "Done 700\n",
      "Done 800\n",
      "Done 900\n",
      "Done 1000\n",
      "Done 1100\n",
      "Done 1200\n",
      "Done 1300\n",
      "Done 1400\n",
      "Training model on Both\n",
      "Fitting model with following parameters:\n",
      " batch_size=32;\n",
      " phi_k=5;\n",
      " lambda_c=0.00;\n",
      " epochs=15;\n",
      " negative_count=10;\n",
      " synonym_count=1\n",
      "Optimizer parameters:\n",
      " lr=0.00100;\n",
      " beta1=0.900;\n",
      " beta2=0.900;\n",
      " clip=1.00\n",
      "--------------------\n",
      "Epoch: 1; Training Loss: 0.50774; Test Loss: 0.34753; Test MAP: 0.00000; Test MRR: 0.00000\n",
      "Epoch: 2; Training Loss: 0.32845; Test Loss: 0.25822; Test MAP: 0.01632; Test MRR: 0.02333\n",
      "Epoch: 3; Training Loss: 0.25631; Test Loss: 0.20881; Test MAP: 0.07174; Test MRR: 0.14786\n",
      "Epoch: 4; Training Loss: 0.21745; Test Loss: 0.17486; Test MAP: 0.09693; Test MRR: 0.17352\n",
      "Epoch: 5; Training Loss: 0.19008; Test Loss: 0.15331; Test MAP: 0.10479; Test MRR: 0.19356\n",
      "Epoch: 6; Training Loss: 0.17054; Test Loss: 0.13973; Test MAP: 0.10952; Test MRR: 0.19654\n",
      "Epoch: 7; Training Loss: 0.15461; Test Loss: 0.13084; Test MAP: 0.11873; Test MRR: 0.24000\n",
      "Epoch: 8; Training Loss: 0.14129; Test Loss: 0.12695; Test MAP: 0.11833; Test MRR: 0.23400\n",
      "Epoch: 9; Training Loss: 0.13165; Test Loss: 0.12197; Test MAP: 0.13238; Test MRR: 0.23082\n",
      "Epoch: 10; Training Loss: 0.12324; Test Loss: 0.11366; Test MAP: 0.13135; Test MRR: 0.24417\n",
      "Epoch: 11; Training Loss: 0.11604; Test Loss: 0.11971; Test MAP: 0.13487; Test MRR: 0.25500\n",
      "Epoch: 12; Training Loss: 0.10976; Test Loss: 0.11471; Test MAP: 0.13019; Test MRR: 0.22633\n",
      "Epoch: 13; Training Loss: 0.10476; Test Loss: 0.10919; Test MAP: 0.11526; Test MRR: 0.22233\n",
      "Epoch: 14; Training Loss: 0.10056; Test Loss: 0.10800; Test MAP: 0.13769; Test MRR: 0.25400\n",
      "Epoch: 15; Training Loss: 0.09676; Test Loss: 0.11471; Test MAP: 0.13644; Test MRR: 0.25733\n",
      "Done!\n",
      "Evaluating model on Concept\n",
      "Done 100\n",
      "Done 200\n",
      "Done 300\n",
      "Done 400\n",
      "Done 500\n",
      "Done 600\n",
      "Done 700\n",
      "Done 800\n",
      "Done 900\n",
      "Done 1000\n",
      "Evaluating model on Entity\n",
      "Done 100\n",
      "Done 200\n",
      "Done 300\n",
      "Done 400\n",
      "Evaluating model on Both\n",
      "Done 100\n",
      "Done 200\n",
      "Done 300\n",
      "Done 400\n",
      "Done 500\n",
      "Done 600\n",
      "Done 700\n",
      "Done 800\n",
      "Done 900\n",
      "Done 1000\n",
      "Done 1100\n",
      "Done 1200\n",
      "Done 500\n",
      "Done 600\n",
      "Done 700\n",
      "Done 800\n",
      "Done 900\n",
      "Done 1000\n",
      "Evaluating model on Entity\n",
      "Done 100\n",
      "Done 200\n",
      "Done 300\n",
      "Done 400\n",
      "Evaluating model on Both\n",
      "Done 100\n",
      "Done 200\n",
      "Done 300\n",
      "Done 400\n",
      "Done 500\n",
      "Done 600\n",
      "Done 700\n",
      "Done 800\n",
      "Done 900\n",
      "Done 1000\n",
      "Done 1100\n",
      "Done 1200\n",
      "Done 1300\n",
      "Done 1400\n",
      "Training model on Entity\n",
      "Fitting model with following parameters:\n",
      " batch_size=32;\n",
      " phi_k=1;\n",
      " lambda_c=0.00;\n",
      " epochs=15;\n",
      " negative_count=10;\n",
      " synonym_count=1\n",
      "Optimizer parameters:\n",
      " lr=0.00100;\n",
      " beta1=0.900;\n",
      " beta2=0.900;\n",
      " clip=1.00\n",
      "--------------------\n",
      "Epoch: 1; Training Loss: 0.65451; Test Loss: 0.61040; Test MAP: 0.00000; Test MRR: 0.00000\n",
      "Epoch: 2; Training Loss: 0.58539; Test Loss: 0.54056; Test MAP: 0.00000; Test MRR: 0.00000\n",
      "Epoch: 3; Training Loss: 0.52512; Test Loss: 0.48080; Test MAP: 0.00000; Test MRR: 0.00000\n",
      "Epoch: 4; Training Loss: 0.47320; Test Loss: 0.43167; Test MAP: 0.00000; Test MRR: 0.00000\n",
      "Epoch: 5; Training Loss: 0.42947; Test Loss: 0.39090; Test MAP: 0.00000; Test MRR: 0.00000\n",
      "Epoch: 6; Training Loss: 0.39303; Test Loss: 0.35767; Test MAP: 0.00000; Test MRR: 0.00000\n",
      "Early Stop invoked at epoch 6\n",
      "Done!\n",
      "Evaluating model on Concept\n",
      "Done 100\n",
      "Done 200\n",
      "Done 300\n",
      "Done 400\n",
      "Done 500\n",
      "Done 600\n",
      "Done 700\n",
      "Done 800\n",
      "Done 900\n",
      "Done 1000\n",
      "Evaluating model on Entity\n",
      "Done 100\n",
      "Done 200\n",
      "Done 300\n",
      "Done 400\n",
      "Evaluating model on Both\n",
      "Done 100\n",
      "Done 200\n",
      "Done 300\n",
      "Done 400\n",
      "Done 500\n",
      "Done 600\n",
      "Done 700\n",
      "Done 800\n",
      "Done 900\n",
      "Done 1000\n",
      "Done 1100\n",
      "Done 1200\n",
      "Done 1300\n",
      "Done 1400\n",
      "Training model on Both\n",
      "Fitting model with following parameters:\n",
      " batch_size=32;\n",
      " phi_k=1;\n",
      " lambda_c=0.00;\n",
      " epochs=15;\n",
      " negative_count=10;\n",
      " synonym_count=1\n",
      "Optimizer parameters:\n",
      " lr=0.00100;\n",
      " beta1=0.900;\n",
      " beta2=0.900;\n",
      " clip=1.00\n",
      "--------------------\n",
      "Epoch: 1; Training Loss: 0.59876; Test Loss: 0.50295; Test MAP: 0.00000; Test MRR: 0.00000\n",
      "Epoch: 2; Training Loss: 0.45733; Test Loss: 0.38558; Test MAP: 0.00000; Test MRR: 0.00000\n",
      "Epoch: 3; Training Loss: 0.36641; Test Loss: 0.32046; Test MAP: 0.00080; Test MRR: 0.00200\n",
      "Epoch: 4; Training Loss: 0.31426; Test Loss: 0.28467; Test MAP: 0.02060; Test MRR: 0.05333\n"
     ]
    },
    {
     "name": "stdout",
     "output_type": "stream",
     "text": [
      "Epoch: 5; Training Loss: 0.28597; Test Loss: 0.26259; Test MAP: 0.07326; Test MRR: 0.15067\n",
      "Epoch: 6; Training Loss: 0.27002; Test Loss: 0.24925; Test MAP: 0.07683; Test MRR: 0.17067\n",
      "Epoch: 7; Training Loss: 0.26127; Test Loss: 0.23860; Test MAP: 0.09884; Test MRR: 0.20233\n",
      "Epoch: 8; Training Loss: 0.25500; Test Loss: 0.23088; Test MAP: 0.09295; Test MRR: 0.19317\n",
      "Epoch: 9; Training Loss: 0.24875; Test Loss: 0.22617; Test MAP: 0.09193; Test MRR: 0.17556\n",
      "Epoch: 10; Training Loss: 0.24313; Test Loss: 0.21685; Test MAP: 0.09638; Test MRR: 0.19733\n",
      "Early Stop invoked at epoch 10\n",
      "Done!\n",
      "Evaluating model on Concept\n",
      "Done 100\n",
      "Done 200\n",
      "Done 300\n",
      "Done 400\n",
      "Done 500\n",
      "Done 600\n",
      "Done 700\n",
      "Done 800\n",
      "Done 900\n",
      "Done 1000\n",
      "Evaluating model on Entity\n",
      "Done 100\n",
      "Done 200\n",
      "Done 300\n",
      "Done 400\n",
      "Evaluating model on Both\n",
      "Done 100\n",
      "Done 200\n",
      "Done 300\n",
      "Done 400\n",
      "Done 500\n",
      "Done 600\n",
      "Done 700\n",
      "Done 800\n",
      "Done 900\n",
      "Done 1000\n",
      "Done 1100\n",
      "Done 1200\n",
      "Done 1300\n",
      "Done 1400\n",
      "\n",
      "Finished 2 from 2 experiments\n",
      "------------------------------\n"
     ]
    }
   ],
   "source": [
    "# initialise final_scores dictionary\n",
    "final_scores = {k:defaultdict(list) for k in param_list}\n",
    "\n",
    "for idx2, _param in enumerate(param_list):\n",
    "    print (\"Running test with following parameters: phi_k: %d; lambda_c: %0.2f; neg_count: %d\" \\\n",
    "           % (_param[0], _param[1], _param[2]))\n",
    "\n",
    "    args['phi_k'] = _param[0]\n",
    "    args['lambda_c'] = _param[1]\n",
    "    args['negative_sample_n'] = _param[2]    \n",
    "\n",
    "    for w in ['Concept', 'Entity', 'Both']:\n",
    "        # train model on three sets of data\n",
    "        print (\"Training model on %s\" % (w))\n",
    "        args['save_path'] = 'ft_semeval_%d_%s.npz' % (_param[0], w)\n",
    "        hyp_model.reset_model(args=args)\n",
    "\n",
    "        all_scores = train_and_evaluate(hyp_model, \n",
    "                                        data.train_data_token[w], \n",
    "                                        data.valid_data_token[w],\n",
    "                                        data.test_data_token)\n",
    "        # run predictions on test\n",
    "\n",
    "        for scores in all_scores:\n",
    "            for s, v  in scores.items():\n",
    "                final_scores[_param][s].append(v)\n",
    "\n",
    "    print (\"\")\n",
    "    print (\"Finished %d from %d experiments\" % (idx2+1, len(param_list)))\n",
    "    print (\"-\"*30)"
   ]
  },
  {
   "cell_type": "code",
   "execution_count": null,
   "metadata": {},
   "outputs": [],
   "source": [
    "final_scores"
   ]
  },
  {
   "cell_type": "code",
   "execution_count": null,
   "metadata": {
    "scrolled": true
   },
   "outputs": [],
   "source": [
    "for k, v in final_scores.items():    \n",
    "    cl_size = k[0]\n",
    "    lam = k[1]\n",
    "    neg = k[2]\n",
    "    for k2, v2 in v.items():        \n",
    "        print (\"%d\\t%0.1f\\t%d\\t%s\\t%0.5f\\t%0.5f\\t%0.5f\" \n",
    "               % (cl_size, lam, neg, k2, v2[0], v2[1], v2[2]) )"
   ]
  },
  {
   "cell_type": "code",
   "execution_count": 10,
   "metadata": {},
   "outputs": [
    {
     "name": "stdout",
     "output_type": "stream",
     "text": [
      "5\t0.0\t10\tMRR\t0.20825\t0.30513\t0.23702\t0.05469\t0.39372\t0.15492\t0.21120\t0.39817\t0.26660\n",
      "5\t0.0\t10\tMAP\t0.09915\t0.13184\t0.10885\t0.02551\t0.19507\t0.07563\t0.10454\t0.19947\t0.13268\n",
      "5\t0.0\t10\tP@1\t0.16083\t0.25508\t0.18879\t0.04257\t0.33409\t0.12875\t0.16272\t0.31603\t0.20814\n",
      "5\t0.0\t10\tP@5\t0.09439\t0.12178\t0.10255\t0.02474\t0.18710\t0.07274\t0.10057\t0.19165\t0.12755\n",
      "5\t0.0\t10\tP@10\t0.08970\t0.11577\t0.09744\t0.02307\t0.17634\t0.06838\t0.09572\t0.18220\t0.12134\n",
      "1\t0.0\t10\tMRR\t0.18564\t0.23114\t0.19921\t0.00039\t0.00266\t0.00106\t0.17071\t0.38171\t0.23312\n",
      "1\t0.0\t10\tMAP\t0.09025\t0.10393\t0.09433\t0.00023\t0.00161\t0.00063\t0.08066\t0.18969\t0.11294\n",
      "1\t0.0\t10\tP@1\t0.14002\t0.18284\t0.15277\t0.00000\t0.00000\t0.00000\t0.12961\t0.32054\t0.18612\n",
      "1\t0.0\t10\tP@5\t0.08622\t0.09703\t0.08947\t0.00000\t0.00192\t0.00057\t0.07747\t0.17769\t0.10714\n",
      "1\t0.0\t10\tP@10\t0.08253\t0.09314\t0.08570\t0.00039\t0.00189\t0.00083\t0.07338\t0.17143\t0.10239\n"
     ]
    }
   ],
   "source": [
    "for k, v in final_scores.items():    \n",
    "    cl_size = k[0]\n",
    "    lam = k[1]\n",
    "    neg = k[2]\n",
    "    for k2, v2 in v.items():        \n",
    "        print (\"%d\\t%0.1f\\t%d\\t%s\\t%0.5f\\t%0.5f\\t%0.5f\\t%0.5f\\t%0.5f\\t%0.5f\\t%0.5f\\t%0.5f\\t%0.5f\" \n",
    "               % (cl_size, lam, neg, k2, v2[0], v2[1], v2[2], v2[3], v2[4], v2[5], v2[6], v2[7], v2[8]) )\n",
    "    "
   ]
  },
  {
   "cell_type": "code",
   "execution_count": null,
   "metadata": {},
   "outputs": [],
   "source": [
    "hyp_model.load_model()\n",
    "#weights = np.load(hyp_model.save_path)"
   ]
  },
  {
   "cell_type": "code",
   "execution_count": null,
   "metadata": {
    "scrolled": true
   },
   "outputs": [],
   "source": [
    "# we score as per the usual way the predictions\n",
    "predictions = {}\n",
    "for w in ['Concept', 'Entity', 'Both']:\n",
    "    print (\"Doing %s\" % (w))\n",
    "    predictions[w] = hyp_model.evaluator.predict(data.test_data_token[w])        \n",
    "    test_tuples = data.token_to_words(data.test_data_token[w])\n",
    "    scorer = semeval_eval.HypernymEvaluation(test_tuples)\n",
    "    # get scores\n",
    "    score_names, all_scores = scorer.get_evaluation_scores(predictions[w])\n",
    "    # initialise scores (MRR, MAP, ...)\n",
    "    scores = {s:0.0 for s in score_names }\n",
    "    for k in range(len(score_names)):    \n",
    "        scores[score_names[k]] = float('%.5f' % (sum([score_list[k] for score_list in all_scores]) / len(all_scores)))    \n",
    "    \n",
    "    print (scores)\n"
   ]
  },
  {
   "cell_type": "code",
   "execution_count": null,
   "metadata": {},
   "outputs": [],
   "source": [
    "plt.figure(figsize=(12,8))\n",
    "ax = sns.regplot(x=\"Median Freq\", y=\"MAP\", data=score_freq, x_jitter=0.02, y_jitter=0.01);\n",
    "ax.set(ylim=(-0.05, 1.05))"
   ]
  },
  {
   "cell_type": "code",
   "execution_count": null,
   "metadata": {},
   "outputs": [],
   "source": []
  },
  {
   "cell_type": "code",
   "execution_count": null,
   "metadata": {},
   "outputs": [],
   "source": []
  },
  {
   "cell_type": "code",
   "execution_count": null,
   "metadata": {},
   "outputs": [],
   "source": []
  },
  {
   "cell_type": "markdown",
   "metadata": {},
   "source": [
    "# DUAL Model Section"
   ]
  },
  {
   "cell_type": "code",
   "execution_count": null,
   "metadata": {},
   "outputs": [],
   "source": [
    "def train_and_evaluate_dual(dual_model, train_split, valid_split, test_split):    \n",
    "    \n",
    "    # fit model\n",
    "    # the test split is only used to measure the test loss\n",
    "    dual_model.fit(train_split, valid_split)    \n",
    "    # this step should not be required since the model is dynamically linked to the evaluator\n",
    "    dual_model.evaluator.set_model(dual_model.feature_extractor, dual_model.concept_model, dual_model.entity_model)    \n",
    "    \n",
    "    scores_all = []\n",
    "    # evaluate trained model on word in either category separately and together\n",
    "    for w in ['Concept', 'Entity', 'Both']:\n",
    "        print (\"Evaluating model on %s\" % (w) )\n",
    "        # generates predictions according to trained model\n",
    "        predictions = dual_model.evaluator.predict(test_split[w])\n",
    "        # this converts the tokens back to words for evaluation\n",
    "        test_tuples = data.token_to_words(test_split[w])\n",
    "        # here we have a scorer that will mark our effort according to this particular test split\n",
    "        scorer = semeval_eval.HypernymEvaluation(test_tuples)\n",
    "        # get scores\n",
    "        score_names, all_scores = scorer.get_evaluation_scores(predictions)\n",
    "        # initialise scores (MRR, MAP, ...)\n",
    "        scores = {s:0.0 for s in score_names }\n",
    "        for k in range(len(score_names)):    \n",
    "            scores[score_names[k]] = float('%.5f' % (sum([score_list[k] for score_list in all_scores]) / len(all_scores)))    \n",
    "        \n",
    "        scores_all.append(scores)                    \n",
    "    return scores_all\n",
    "\n",
    "def evaluate_only_dual(dual_model, test_split):\n",
    "    predictions = dual_model.evaluator.predict(test_split)\n",
    "    # this converts the tokens back to words for evaluation\n",
    "    test_tuples = data.token_to_words(test_split)\n",
    "    # here we have a scorer that will mark our effort according to this particular test split\n",
    "    scorer = semeval_eval.HypernymEvaluation(test_tuples)\n",
    "    # get scores\n",
    "    score_names, all_scores = scorer.get_evaluation_scores(predictions)\n",
    "    # initialise scores (MRR, MAP, ...)\n",
    "    scores = {s:0.0 for s in score_names }\n",
    "    for k in range(len(score_names)):    \n",
    "        scores[score_names[k]] = float('%.5f' % (sum([score_list[k] for score_list in all_scores]) / len(all_scores)))    \n",
    "\n",
    "    return predictions, scores"
   ]
  },
  {
   "cell_type": "code",
   "execution_count": null,
   "metadata": {},
   "outputs": [],
   "source": [
    "embeddings_layer = multiprojection_model.get_embeddings_model(data.embeddings_matrix, 1)"
   ]
  },
  {
   "cell_type": "code",
   "execution_count": null,
   "metadata": {},
   "outputs": [],
   "source": [
    "# standard model parameters - we won't be changing these\n",
    "args['data']              = data\n",
    "args['embeddings_layer']  = embeddings_layer\n",
    "args['epochs']            = 20\n",
    "args['batch_size']        = 64\n",
    "args['synonym_sample_n']  = 1\n",
    "args['phi_k']             = 1\n",
    "args['lambda_c']          = 0.\n",
    "args['negative_sample_n'] = 10\n",
    "args['save_path']         = 'dual_ft_semeval.npz'\n",
    "args['patience']          = 5\n",
    "args['eval_after_epoch']  = True\n",
    "args['lr']                = 0.001\n",
    "args['beta1']             = 0.9\n",
    "args['beta2']             = 0.9\n",
    "args['clip_value']        = 1.\n",
    "\n",
    "\n",
    "dual_model = multiprojection_dual.MultiProjModelDual(args)\n",
    "\n",
    "# generate parameter combinations\n",
    "#_clusters = [10, 5, 1]\n",
    "_clusters = [1, 5, 10]\n",
    "#_lambda_c = [0, 0.1, 1]\n",
    "_lambda_c = [0.]\n",
    "#_neg_count = [10, 5, 1]\n",
    "_neg_count = [10]\n",
    "\n",
    "parameters = [_clusters, _lambda_c, _neg_count]\n",
    "\n",
    "param_list = list(product(*parameters))\n"
   ]
  },
  {
   "cell_type": "code",
   "execution_count": null,
   "metadata": {},
   "outputs": [],
   "source": [
    "# initialise final_scores dictionary\n",
    "final_scores = {k:defaultdict(list) for k in param_list}\n",
    "\n",
    "for idx2, _param in enumerate(param_list):\n",
    "    print (\"Running test with following parameters: phi_k: %d; lambda_c: %0.2f; neg_count: %d\" \\\n",
    "           % (_param[0], _param[1], _param[2]))\n",
    "\n",
    "    args['phi_k'] = _param[0]\n",
    "    args['lambda_c'] = _param[1]\n",
    "    args['negative_sample_n'] = _param[2]    \n",
    "\n",
    "    for w in ['Both']:    \n",
    "        # train model on three sets of data\n",
    "        print (\"Training model on %s\" % (w))\n",
    "        args['save_path'] = 'dual_ft_semeval_%s.npz' % (w)\n",
    "        dual_model.reset_model(args=args)\n",
    "\n",
    "        all_scores = train_and_evaluate_dual(dual_model, \n",
    "                                             data.train_data_token[w], \n",
    "                                             data.valid_data_token[w],\n",
    "                                             data.test_data_token)\n",
    "        # run predictions on test\n",
    "\n",
    "        for scores in all_scores:\n",
    "            for s, v  in scores.items():\n",
    "                final_scores[_param][s].append(v)\n",
    "\n",
    "    print (\"\")\n",
    "    print (\"Finished %d from %d experiments\" % (idx2+1, len(param_list)))\n",
    "    print (\"-\"*30)\n",
    "\n",
    "    "
   ]
  },
  {
   "cell_type": "code",
   "execution_count": null,
   "metadata": {},
   "outputs": [],
   "source": [
    "for k, v in final_scores.items():    \n",
    "    cl_size = k[0]\n",
    "    lam = k[1]\n",
    "    neg = k[2]\n",
    "    for k2, v2 in v.items():        \n",
    "        print (\"%d\\t%0.1f\\t%d\\t%s\\t%0.5f\\t%0.5f\\t%0.5f\" \n",
    "               % (cl_size, lam, neg, k2, v2[0], v2[1], v2[2]) )"
   ]
  },
  {
   "cell_type": "code",
   "execution_count": null,
   "metadata": {},
   "outputs": [],
   "source": []
  },
  {
   "cell_type": "code",
   "execution_count": null,
   "metadata": {},
   "outputs": [],
   "source": []
  },
  {
   "cell_type": "code",
   "execution_count": null,
   "metadata": {},
   "outputs": [],
   "source": []
  },
  {
   "cell_type": "code",
   "execution_count": null,
   "metadata": {},
   "outputs": [],
   "source": []
  },
  {
   "cell_type": "code",
   "execution_count": null,
   "metadata": {},
   "outputs": [],
   "source": []
  },
  {
   "cell_type": "code",
   "execution_count": null,
   "metadata": {},
   "outputs": [],
   "source": []
  },
  {
   "cell_type": "code",
   "execution_count": null,
   "metadata": {},
   "outputs": [],
   "source": []
  },
  {
   "cell_type": "code",
   "execution_count": null,
   "metadata": {},
   "outputs": [],
   "source": []
  },
  {
   "cell_type": "markdown",
   "metadata": {},
   "source": [
    "# Analysis of Prediction quality vs hypernym freq in training set"
   ]
  },
  {
   "cell_type": "code",
   "execution_count": null,
   "metadata": {},
   "outputs": [],
   "source": [
    "# perform freq analysis of all hypernyms in training set; query terms will not features in test but test terms\n",
    "# will certainly be related to hypernyms found in training set.\n",
    "def get_hypernym_freq(dataset):\n",
    "    all_hypernyms = Counter([y for x, y in data.token_to_words(dataset)])\n",
    "    cnt_distinct_hyper = sum(all_hypernyms.values())\n",
    "    #sorted([(y, x) for x, y in all_hypernyms.items()], reverse=True)\n",
    "    hyper_freq = {w:round((cnt/cnt_distinct_hyper), 5) for w, cnt in all_hypernyms.items()}\n",
    "    return hyper_freq"
   ]
  },
  {
   "cell_type": "code",
   "execution_count": null,
   "metadata": {},
   "outputs": [],
   "source": [
    "np.sum(list(hyper_freq.values()))"
   ]
  },
  {
   "cell_type": "code",
   "execution_count": null,
   "metadata": {
    "scrolled": false
   },
   "outputs": [],
   "source": [
    "predictions = yummy.evaluator.predict(test_data_split[4])"
   ]
  },
  {
   "cell_type": "code",
   "execution_count": null,
   "metadata": {},
   "outputs": [],
   "source": [
    "predictions"
   ]
  },
  {
   "cell_type": "code",
   "execution_count": null,
   "metadata": {},
   "outputs": [],
   "source": [
    "# we score as per the usual way the predictions\n",
    "test_tuples = data.token_to_words(test_data_split[4])\n",
    "scorer = semeval_eval.HypernymEvaluation(test_tuples)\n",
    "# get scores\n",
    "score_names, all_scores = scorer.get_evaluation_scores(predictions)\n",
    "# initialise scores (MRR, MAP, ...)\n",
    "scores = {s:0.0 for s in score_names }\n",
    "for k in range(len(score_names)):    \n",
    "    scores[score_names[k]] = float('%.5f' % (sum([score_list[k] for score_list in all_scores]) / len(all_scores)))    \n",
    "    \n",
    "# we create a dictionary of ground truth hypernyms for the test split of interest    \n",
    "ground_truth = defaultdict(list)\n",
    "for x, y in test_tuples:\n",
    "    ground_truth[x].append(y)\n",
    "ground_truth.default_factory = None    "
   ]
  },
  {
   "cell_type": "code",
   "execution_count": null,
   "metadata": {
    "scrolled": true
   },
   "outputs": [],
   "source": [
    "# all MAP scores\n",
    "list(predictions.items())[34]"
   ]
  },
  {
   "cell_type": "code",
   "execution_count": null,
   "metadata": {},
   "outputs": [],
   "source": [
    "def get_score_freq_matrix(test_data, predictions, hyper_freq, jitter=False):\n",
    "    # we score as per the usual way the predictions\n",
    "    test_tuples = data.token_to_words(test_data)\n",
    "    scorer = semeval_eval.HypernymEvaluation(test_tuples)\n",
    "    # get scores\n",
    "    score_names, all_scores = scorer.get_evaluation_scores(predictions)\n",
    "    # initialise scores (MRR, MAP, ...)\n",
    "    scores = {s:0.0 for s in score_names }\n",
    "    for k in range(len(score_names)):    \n",
    "        scores[score_names[k]] = float('%.5f' % (sum([score_list[k] for score_list in all_scores]) / len(all_scores)))    \n",
    "\n",
    "    # we create a dictionary of ground truth hypernyms for the test split of interest    \n",
    "    ground_truth = defaultdict(list)\n",
    "    for x, y in test_tuples:\n",
    "        ground_truth[x].append(y)\n",
    "    ground_truth.default_factory = None    \n",
    "\n",
    "\n",
    "    # retain MAP scores only from score list of lists\n",
    "    all_map = np.round(np.asarray(all_scores)[:,1], 3)\n",
    "\n",
    "    # iterate over every query term in test set; create dataset with AP score for word, median freq of ground\n",
    "    # truth hypernym, based on appearance in training set.  Hypernyms that did not appear at all, will be assigned\n",
    "    # freq of 0.\n",
    "    score_freq_matrix = np.zeros((all_map.shape[0], 2))\n",
    "    # sort prediction keys explicityly to make sure we process in the same order processed by evaluator\n",
    "    for idx, w in enumerate(sorted(predictions.keys())):\n",
    "        # find freq of predictions\n",
    "        score_freq_matrix[idx][0] = all_map[idx]\n",
    "        gold = ground_truth[w]\n",
    "        score_freq_matrix[idx][1] = np.median(([hyper_freq[g] if g in hyper_freq else 0. for g in gold]))\n",
    "        \n",
    "    if jitter:\n",
    "        # add some jitter to the signal to make it easier to interpret in the scatterplot\n",
    "        mu, sigma = 0, 0.01 \n",
    "        # creating a noise with the same dimension as the dataset (2,2) \n",
    "        noise = np.random.normal(mu, sigma, (all_map.shape[0], 2) )\n",
    "        score_freq_matrix =  score_freq_matrix + noise\n",
    "\n",
    "    score_freq = pd.DataFrame(score_freq_matrix, columns=['AP', 'Median Freq'])\n",
    "    # add query word to data frame\n",
    "    score_freq = score_freq.assign(word=pd.Series(list(predictions.keys())).values)\n",
    "    return score_freq"
   ]
  },
  {
   "cell_type": "code",
   "execution_count": null,
   "metadata": {},
   "outputs": [],
   "source": [
    "#score_freq.loc[score_freq.MAP == 1.,].sort_values('Median Freq', ascending=False)\n",
    "\n",
    "# prediction contains the generated hypernyms for YAMANE on the 5th fold of the training_data\n",
    "score_freq_yam=get_score_freq_matrix(test_data_split[4], predictions, hyper_freq)\n",
    "\n",
    "# prediction_2 contains the generated hypernyms for CRIM on the 5th fold of the training data\n",
    "score_freq=get_score_freq_matrix(test_data_split[4], predictions_2, hyper_freq)"
   ]
  },
  {
   "cell_type": "code",
   "execution_count": null,
   "metadata": {},
   "outputs": [],
   "source": [
    "#sns.relplot(x=\"Median Freq\", y=\"MAP\", data=score_freq);\n",
    "plt.figure(figsize=(12,8))\n",
    "ax = sns.regplot(x=\"Median Freq\", y=\"AP\", data=score_freq_yam, x_jitter=0.01, y_jitter=0.005, marker=\"x\");\n",
    "ax.set(ylim=(-0.05, 1.05))"
   ]
  },
  {
   "cell_type": "code",
   "execution_count": null,
   "metadata": {
    "scrolled": false
   },
   "outputs": [],
   "source": [
    "plt.figure(figsize=(12,8))\n",
    "ax = sns.regplot(x=\"Median Freq\", y=\"AP\", data=score_freq, x_jitter=0.01, y_jitter=0.005);\n",
    "ax.set(ylim=(-0.05, 1.05))\n"
   ]
  },
  {
   "cell_type": "code",
   "execution_count": null,
   "metadata": {},
   "outputs": [],
   "source": [
    "top_yummy_wrong"
   ]
  },
  {
   "cell_type": "code",
   "execution_count": null,
   "metadata": {},
   "outputs": [],
   "source": [
    "# analyze top-ranked word for term words scoring 0 MAP\n",
    "yummy_wrong_terms = score_freq_yam.loc[score_freq_yam.MAP==0, 'word'].tolist()\n",
    "crim_wrong_terms  = score_freq.loc[score_freq.MAP==0, 'word'].tolist()\n",
    "\n",
    "top_crim_wrong = []\n",
    "top_yummy_wrong = []\n",
    "\n",
    "for w in crim_wrong_terms:\n",
    "    top_crim_wrong.append(predictions_2[w][0])\n",
    "    \n",
    "for w in yummy_wrong_terms:\n",
    "    top_yummy_wrong.append(predictions[w][0])    \n",
    "    \n",
    "top_crim_wrong =  sorted([(v,k) for k, v in Counter(top_crim_wrong).items()], reverse=True)[:15]\n",
    "top_yummy_wrong =  sorted([(v,k) for k, v in Counter(top_yummy_wrong).items()], reverse=True)[:15]\n",
    "\n",
    "# multiply words according to frequency\n",
    "yummy_wrong_flat = [li for lol in list(map(lambda w: [w[1]] * w[0], top_yummy_wrong)) for li in lol  ]\n",
    "crim_wrong_flat = [li for lol in list(map(lambda w: [w[1]] * w[0], top_crim_wrong)) for li in lol  ]\n",
    "\n",
    "combined_wrong_list = list(zip(['CRIM'] * len(crim_wrong_flat), crim_wrong_flat))\n",
    "combined_wrong_list.extend(list(zip(['Yamane'] * len(yummy_wrong_flat), yummy_wrong_flat)))"
   ]
  },
  {
   "cell_type": "code",
   "execution_count": null,
   "metadata": {},
   "outputs": [],
   "source": [
    "incorrect_df =  pd.DataFrame(combined_wrong_list, columns=['Model', 'Highest Ranked Incorrect Word'])"
   ]
  },
  {
   "cell_type": "code",
   "execution_count": null,
   "metadata": {},
   "outputs": [],
   "source": [
    "incorrect_df.loc[incorrect_df.Model == 'CRIM',]"
   ]
  },
  {
   "cell_type": "code",
   "execution_count": null,
   "metadata": {},
   "outputs": [],
   "source": [
    "plt.figure(figsize=(12,8))\n",
    "g = sns.countplot(x=\"Highest Ranked Incorrect Word\", \n",
    "                  palette=sns.cubehelix_palette(15, start=2, rot=0.35, dark=0.47, light=0.85, reverse=True), \n",
    "                  data=incorrect_df.loc[incorrect_df.Model == 'CRIM',])\n",
    "g.set_xticklabels(g.get_xticklabels(), rotation=30)"
   ]
  },
  {
   "cell_type": "code",
   "execution_count": null,
   "metadata": {},
   "outputs": [],
   "source": [
    "for w in sorted([(v, k)for k, v in hyper_freq.items()], reverse=True)[:10]:\n",
    "    print (w[1], w[0])\n",
    "    \n",
    "hyper_freq['action']"
   ]
  },
  {
   "cell_type": "code",
   "execution_count": null,
   "metadata": {},
   "outputs": [],
   "source": [
    "plt.figure(figsize=(12,8))\n",
    "g = sns.countplot(x=\"Highest Ranked Incorrect Word\", \n",
    "                  palette=sns.cubehelix_palette(15, start=2, rot=0.35, dark=0.47, light=0.85, reverse=True), \n",
    "                  data=incorrect_df.loc[incorrect_df.Model == 'Yamane',])\n",
    "g.set_xticklabels(g.get_xticklabels(), rotation=30)"
   ]
  },
  {
   "cell_type": "code",
   "execution_count": null,
   "metadata": {
    "scrolled": true
   },
   "outputs": [],
   "source": [
    "for w in sorted([(v, k)for k, v in hyper_freq.items()], reverse=True)[:10]:\n",
    "    print (w[1], w[0])"
   ]
  },
  {
   "cell_type": "code",
   "execution_count": null,
   "metadata": {},
   "outputs": [],
   "source": [
    "# least frequent hypernyms\n",
    "for w in [(v, k) for k, v in hyper_freq.items() if v == min(hyper_freq.values())][:10]:\n",
    "    print (w[1], w[0])"
   ]
  },
  {
   "cell_type": "code",
   "execution_count": null,
   "metadata": {},
   "outputs": [],
   "source": [
    "# let's see good scores low frequency\n",
    "good_words = score_freq.loc[(score_freq.AP >= 1.0) & (score_freq['Median Freq'] < 0.005) , 'word'].tolist()\n",
    "score_freq.loc[(score_freq.AP >= 1.0) & (score_freq['Median Freq'] < 0.005) , ]"
   ]
  },
  {
   "cell_type": "code",
   "execution_count": null,
   "metadata": {
    "scrolled": true
   },
   "outputs": [],
   "source": [
    "for w in good_words:\n",
    "    print (\"%s: %s\" % (w, \", \".join(predictions_2[w])))\n",
    "    print (\"%s: %s\" % (w, \", \".join(hyper_dict[w])))\n",
    "    print (\"-\"*30)\n",
    "    \n",
    "#print (hyper_dict['intercourse'])\n",
    "#predictions_2['intercourse']\n"
   ]
  },
  {
   "cell_type": "code",
   "execution_count": null,
   "metadata": {},
   "outputs": [],
   "source": []
  },
  {
   "cell_type": "code",
   "execution_count": null,
   "metadata": {},
   "outputs": [],
   "source": []
  },
  {
   "cell_type": "code",
   "execution_count": null,
   "metadata": {},
   "outputs": [],
   "source": []
  },
  {
   "cell_type": "markdown",
   "metadata": {},
   "source": [
    "# Scratch Pad"
   ]
  },
  {
   "cell_type": "code",
   "execution_count": null,
   "metadata": {},
   "outputs": [],
   "source": [
    "reload(semeval_data)\n",
    "reload(multiprojection_model)\n",
    "reload(crim_evaluator)\n",
    "reload(multiprojection_dual)\n",
    "reload(crim_dual_evaluator)"
   ]
  },
  {
   "cell_type": "raw",
   "metadata": {},
   "source": [
    "Concept\n",
    "Tuples in validation set: 112; tuples in test set: 4936; tuples in training: 7184\n",
    "Unique hyponyms in validation set: 30; hyponyms in test set: 1057; hyponyms in training: 979\n",
    "------------------------------\n",
    "Entity\n",
    "Tuples in validation set: 88; tuples in test set: 2112; tuples in training: 4595\n",
    "Unique hyponyms in validation set: 20; hyponyms in test set: 443; hyponyms in training: 521\n",
    "------------------------------\n",
    "Both\n",
    "Tuples in validation set: 200; tuples in test set: 7048; tuples in training: 11779\n",
    "Unique hyponyms in validation set: 50; hyponyms in test set: 1499; hyponyms in training: 1500"
   ]
  },
  {
   "cell_type": "code",
   "execution_count": null,
   "metadata": {},
   "outputs": [],
   "source": [
    "len(set(read_vocab(vocab_file_name)).difference(set(vocabulary)))"
   ]
  },
  {
   "cell_type": "code",
   "execution_count": null,
   "metadata": {},
   "outputs": [],
   "source": [
    "# remove vocab term having no vector in embeddings\n",
    "def get_terms_having_vectors(w2v, dataset):\n",
    "    return [(q,h) for q, h in dataset if q in w2v and h in w2v]\n",
    "\n",
    "# remove any words which don't have corresponding embeddings \n",
    "for w in word_types:\n",
    "    validation[w] = get_terms_having_vectors(model, validation[w])\n",
    "    test[w] = get_terms_having_vectors(model, test[w])\n",
    "    training[w] = get_terms_having_vectors(model, training[w])\n",
    "\n",
    "vocabulary = list(filter(lambda w: w in model, vocabulary))   "
   ]
  },
  {
   "cell_type": "code",
   "execution_count": null,
   "metadata": {},
   "outputs": [],
   "source": []
  },
  {
   "cell_type": "code",
   "execution_count": null,
   "metadata": {},
   "outputs": [],
   "source": []
  },
  {
   "cell_type": "code",
   "execution_count": null,
   "metadata": {},
   "outputs": [],
   "source": []
  },
  {
   "cell_type": "code",
   "execution_count": null,
   "metadata": {},
   "outputs": [],
   "source": []
  },
  {
   "cell_type": "code",
   "execution_count": null,
   "metadata": {},
   "outputs": [],
   "source": []
  },
  {
   "cell_type": "code",
   "execution_count": null,
   "metadata": {},
   "outputs": [],
   "source": []
  }
 ],
 "metadata": {
  "kernelspec": {
   "display_name": "Python 3",
   "language": "python",
   "name": "python3"
  },
  "language_info": {
   "codemirror_mode": {
    "name": "ipython",
    "version": 3
   },
   "file_extension": ".py",
   "mimetype": "text/x-python",
   "name": "python",
   "nbconvert_exporter": "python",
   "pygments_lexer": "ipython3",
   "version": "3.6.3"
  }
 },
 "nbformat": 4,
 "nbformat_minor": 2
}
