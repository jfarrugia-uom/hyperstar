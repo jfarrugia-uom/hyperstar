{
 "cells": [
  {
   "cell_type": "code",
   "execution_count": 1,
   "metadata": {},
   "outputs": [],
   "source": [
    "#!/usr/bin/env python\n",
    "import codecs\n",
    "import argparse\n",
    "import csv\n",
    "import random\n",
    "#from gensim.models.word2vec import Word2Vec\n",
    "from collections import defaultdict\n",
    "import numpy as np\n",
    "try:\n",
    "    from sklearn.model_selection import train_test_split\n",
    "except ImportError:\n",
    "    from sklearn.cross_validation import train_test_split\n",
    "    \n",
    "from gensim.models import KeyedVectors"
   ]
  },
  {
   "cell_type": "code",
   "execution_count": 2,
   "metadata": {},
   "outputs": [],
   "source": [
    "#parser = argparse.ArgumentParser(description='Preparation.')\n",
    "#parser.add_argument('--w2v',  default='GoogleNews-vectors-negative300.bin', nargs='?', help='Path to the word2vec model.')\n",
    "#parser.add_argument('--seed', default=228, type=int, nargs='?', help='Random seed.')\n",
    "#args = vars(parser.parse_args())\n",
    "\n",
    "#RANDOM_SEED = 1337\n",
    "RANDOM_SEED = 228\n",
    "random.seed(RANDOM_SEED)\n",
    "#w2v_label = \"GoogleNews-vectors-negative300.bin\"\n",
    "#w2v_label = \"wiki-news-300d-1M-subword.vec\"\n",
    "#w2v_label = 'w2v.6B.300d.txt'\n",
    "w2v_label = 'w2v.840B.300d.txt'"
   ]
  },
  {
   "cell_type": "code",
   "execution_count": 9,
   "metadata": {},
   "outputs": [],
   "source": [
    "w2v = Word2Vec.load_word2vec_format(w2v_label, binary=True, unicode_errors='ignore')\n",
    "w2v.init_sims(replace=True)\n",
    "print('Using %d word2vec dimensions from \"%s\".' % (w2v.layer1_size, w2v_label))\n"
   ]
  },
  {
   "cell_type": "code",
   "execution_count": 1,
   "metadata": {},
   "outputs": [],
   "source": [
    "from gensim.models import KeyedVectors\n",
    "\n",
    "w2v_labels = ['w2v.6B.300d.txt', 'w2v.840B.300d.txt']\n",
    "for w2v_label in w2v_labels:\n",
    "    w2v = KeyedVectors.load_word2vec_format(w2v_label, binary=False)\n",
    "    w2v.save_word2vec_format(w2v_label+\".bin\", binary=True)"
   ]
  },
  {
   "cell_type": "code",
   "execution_count": 11,
   "metadata": {},
   "outputs": [],
   "source": [
    "# load FT vectors\n",
    "#w2v = KeyedVectors.load_word2vec_format(w2v_label, binary=False)\n",
    "# save model in binary format\n",
    "#w2v.save_word2vec_format(w2v_label+\".bin\", binary=True)\n",
    "# load vectors from binary file\n",
    "w2v = KeyedVectors.load_word2vec_format(w2v_label + \".bin\", binary=True)\n",
    "w2v.init_sims(replace=True)\n",
    "\n",
    "print('Using %d fasttext dimensions from \"%s\".' % (w2v.vector_size, w2v_label))"
   ]
  },
  {
   "cell_type": "code",
   "execution_count": 3,
   "metadata": {},
   "outputs": [
    {
     "data": {
      "text/plain": [
       "(2196017, 300)"
      ]
     },
     "execution_count": 3,
     "metadata": {},
     "output_type": "execute_result"
    }
   ],
   "source": [
    "# we now have GloVe vectors\n",
    "#https://machinelearningmastery.com/develop-word-embeddings-python-gensim/\n",
    "# first step is to convert to word2vec\n",
    "from gensim.scripts.glove2word2vec import glove2word2vec\n",
    "#glove_input_file = 'glove.6B.300d.txt'\n",
    "glove_input_file = 'glove.840B.300d.txt'\n",
    "glove2word2vec(glove_input_file, w2v_label)\n"
   ]
  },
  {
   "cell_type": "code",
   "execution_count": 4,
   "metadata": {},
   "outputs": [
    {
     "name": "stdout",
     "output_type": "stream",
     "text": [
      "Using 300 GloVe dimensions from \"w2v.840B.300d.txt\".\n"
     ]
    }
   ],
   "source": [
    "# import GloVe vectors\n",
    "from gensim.models import KeyedVectors\n",
    "w2v = KeyedVectors.load_word2vec_format(w2v_label, binary=False)\n",
    "\n",
    "print('Using %d GloVe dimensions from \"%s\".' % (w2v.vector_size, w2v_label))"
   ]
  },
  {
   "cell_type": "code",
   "execution_count": 5,
   "metadata": {},
   "outputs": [],
   "source": [
    "#w2v.most_similar(positive=['woman', 'king'], negative=['man'], topn=1)\n",
    "# convert vectors to unit norm \n",
    "# equivalent to dividing each dimension value by the norm of the vector\n",
    "w2v.init_sims(replace=True)\n"
   ]
  },
  {
   "cell_type": "code",
   "execution_count": 6,
   "metadata": {},
   "outputs": [],
   "source": [
    "def read_subsumptions(filename):\n",
    "    subsumptions = []\n",
    "\n",
    "    with codecs.open(filename, encoding='utf-8') as f:\n",
    "        reader = csv.reader(f, delimiter='\\t', quoting=csv.QUOTE_NONE)\n",
    "\n",
    "        for row in reader:\n",
    "            subsumptions.append((row[0], row[1]))\n",
    "\n",
    "    return subsumptions\n",
    "\n",
    "def read_synonyms(filename):\n",
    "    synonyms = defaultdict(lambda: list())\n",
    "\n",
    "    with codecs.open(filename,encoding='utf-8') as f:\n",
    "        reader = csv.reader(f, delimiter='\\t', quoting=csv.QUOTE_NONE)\n",
    "\n",
    "        for row in reader:\n",
    "            for word in row[1].split(','):\n",
    "                synonyms[row[0]].append(word)\n",
    "\n",
    "    #synonyms.default_factory = None\n",
    "    return synonyms\n",
    "\n",
    "subsumptions_train      = read_subsumptions('subsumptions-train.txt')\n",
    "subsumptions_validation = read_subsumptions('subsumptions-validation.txt')\n",
    "subsumptions_test       = read_subsumptions('subsumptions-test.txt')\n",
    "synonyms                = read_synonyms('synonyms.txt')\n"
   ]
  },
  {
   "cell_type": "code",
   "execution_count": 7,
   "metadata": {},
   "outputs": [
    {
     "name": "stdout",
     "output_type": "stream",
     "text": [
      "Training set length 4374\n",
      "Validation entries not in training: 1483\n"
     ]
    }
   ],
   "source": [
    "# ensure that train does not overlap test\n",
    "#set(subsumptions_train).intersection(set(subsumptions_validation))\n",
    "print (\"Training set length %d\" % (len(subsumptions_train)))\n",
    "\n",
    "\n",
    "print (\"Validation entries not in training: %d\" % (len(set(subsumptions_validation) - set(subsumptions_train))))\n",
    "# we have a further 570 relations that don't feature in the test set\n",
    "# let's lump them in the train set and see if this improves the results\n",
    "\n",
    "#more_training = list(set(subsumptions_validation) - set(subsumptions_train))\n",
    "\n",
    "#subsumptions_train.extend(more_training)"
   ]
  },
  {
   "cell_type": "code",
   "execution_count": 8,
   "metadata": {
    "scrolled": true
   },
   "outputs": [
    {
     "name": "stdout",
     "output_type": "stream",
     "text": [
      "Key not found: water_vapor\n",
      "Synonym not found: cell_phone\n",
      "Synonym not found: water_vapor\n",
      "Key not found: soft_drink\n",
      "Key not found: cell_phone\n",
      "Synonym not found: soft_drink\n",
      "Key not found: outer_space\n",
      "Synonym not found: outer_space\n",
      "Synonym not found: cell_phone\n",
      "Synonym not found: soft_drink\n"
     ]
    }
   ],
   "source": [
    "for k, v in list(synonyms.items()):\n",
    "    # if vector equivalent of key is not found, pop entire key\n",
    "    if not (k in w2v.vocab):\n",
    "        print (\"Key not found: %s\" % (k))\n",
    "        synonyms.pop(k)\n",
    "        # if lower-case version of k term is found...\n",
    "        if k.lower() in w2v.vocab:\n",
    "            synonyms[k.lower()] = [_v.lower() for _v in v]            \n",
    "    else:\n",
    "        # if key is found, iterate over synonyms and eliminate\n",
    "        # does not having embedding (oov)\n",
    "        for word in v:\n",
    "            if not word in w2v.vocab:\n",
    "                print (\"Synonym not found: %s\" % (word))\n",
    "                v.remove(word)\n",
    "                if word.lower() in w2v.vocab:\n",
    "                    v.append(word.lower())\n",
    "                                                                        "
   ]
  },
  {
   "cell_type": "code",
   "execution_count": 9,
   "metadata": {
    "scrolled": true
   },
   "outputs": [
    {
     "name": "stdout",
     "output_type": "stream",
     "text": [
      "4369\n",
      "1539\n"
     ]
    }
   ],
   "source": [
    "# check that words exist in vocab prior to computing feature vectors\n",
    "# of train, test and validation\n",
    "\n",
    "#'john' in w2v.vocab\n",
    "def confirmVocab(wordList):\n",
    "    return [*filter(lambda x: x[0] in w2v.vocab and x[1] in w2v.vocab, wordList)]\n",
    "\n",
    "#print (len(subsumptions_validation), count)\n",
    "subsumptions_train       = confirmVocab(subsumptions_train)\n",
    "subsumptions_test        = confirmVocab(subsumptions_test)\n",
    "subsumptions_validation  = confirmVocab(subsumptions_validation)\n",
    "\n",
    "print (len(subsumptions_train))\n",
    "print (len(subsumptions_test))"
   ]
  },
  {
   "cell_type": "code",
   "execution_count": 10,
   "metadata": {},
   "outputs": [],
   "source": [
    "def compute_XZ(subsumptions):\n",
    "    X_index, Z_all = [], []\n",
    "\n",
    "    for hyponym, hypernym in subsumptions:\n",
    "        offset        = len(Z_all)\n",
    "        word_synonyms = [hyponym] + synonyms[hyponym]\n",
    "\n",
    "        X_index.append([offset, len(word_synonyms)])\n",
    "\n",
    "        for synonym in word_synonyms:\n",
    "            Z_all.append(w2v[synonym])\n",
    "\n",
    "    return (np.array(X_index, dtype='int32'), np.array(Z_all))\n",
    "\n",
    "X_index_train,      Z_all_train      = compute_XZ(subsumptions_train)\n",
    "X_index_validation, Z_all_validation = compute_XZ(subsumptions_validation)\n",
    "X_index_test,       Z_all_test       = compute_XZ(subsumptions_test)\n",
    "\n",
    "Y_all_train      = np.array([w2v[w] for _, w in subsumptions_train])\n",
    "Y_all_validation = np.array([w2v[w] for _, w in subsumptions_validation])\n",
    "Y_all_test       = np.array([w2v[w] for _, w in subsumptions_test])\n"
   ]
  },
  {
   "cell_type": "code",
   "execution_count": 11,
   "metadata": {},
   "outputs": [
    {
     "name": "stdout",
     "output_type": "stream",
     "text": [
      "I have 4369 train, 1483 validation and 1539 test examples.\n"
     ]
    }
   ],
   "source": [
    "np.savez_compressed('train.npz',      X_index=X_index_train,\n",
    "                                      Y_all=Y_all_train,\n",
    "                                      Z_all=Z_all_train)\n",
    "\n",
    "np.savez_compressed('validation.npz', X_index=X_index_validation,\n",
    "                                      Y_all=Y_all_validation,\n",
    "                                      Z_all=Z_all_validation)\n",
    "\n",
    "np.savez_compressed('test.npz',       X_index=X_index_test,\n",
    "                                      Y_all=Y_all_test,\n",
    "                                      Z_all=Z_all_test)\n",
    "\n",
    "print('I have %d train, %d validation and %d test examples.' % (\n",
    "    Y_all_train.shape[0],\n",
    "    Y_all_validation.shape[0],\n",
    "    Y_all_test.shape[0])\n",
    ")"
   ]
  }
 ],
 "metadata": {
  "kernelspec": {
   "display_name": "Python 3",
   "language": "python",
   "name": "python3"
  },
  "language_info": {
   "codemirror_mode": {
    "name": "ipython",
    "version": 3
   },
   "file_extension": ".py",
   "mimetype": "text/x-python",
   "name": "python",
   "nbconvert_exporter": "python",
   "pygments_lexer": "ipython3",
   "version": "3.6.3"
  }
 },
 "nbformat": 4,
 "nbformat_minor": 2
}
