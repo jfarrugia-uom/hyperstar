{
 "cells": [
  {
   "cell_type": "code",
   "execution_count": 1,
   "metadata": {},
   "outputs": [],
   "source": [
    "import pandas as pd\n",
    "import researchpy as rp\n",
    "import seaborn as sns\n",
    "\n",
    "import statsmodels.api as sm\n",
    "from statsmodels.formula.api import ols\n",
    "import statsmodels.stats.multicomp"
   ]
  },
  {
   "cell_type": "code",
   "execution_count": 18,
   "metadata": {},
   "outputs": [],
   "source": [
    "df = pd.read_csv('upload_bce_harmonic_ANOVA.txt', header=0, sep=\"\\t\")\n",
    "df.drop('metric',axis=1,inplace=True)"
   ]
  },
  {
   "cell_type": "code",
   "execution_count": 23,
   "metadata": {},
   "outputs": [
    {
     "data": {
      "text/html": [
       "<div>\n",
       "<style scoped>\n",
       "    .dataframe tbody tr th:only-of-type {\n",
       "        vertical-align: middle;\n",
       "    }\n",
       "\n",
       "    .dataframe tbody tr th {\n",
       "        vertical-align: top;\n",
       "    }\n",
       "\n",
       "    .dataframe thead th {\n",
       "        text-align: right;\n",
       "    }\n",
       "</style>\n",
       "<table border=\"1\" class=\"dataframe\">\n",
       "  <thead>\n",
       "    <tr style=\"text-align: right;\">\n",
       "      <th></th>\n",
       "      <th>embeddings</th>\n",
       "      <th>projections</th>\n",
       "      <th>lambda_c</th>\n",
       "      <th>negative_count</th>\n",
       "      <th>variable</th>\n",
       "      <th>value</th>\n",
       "    </tr>\n",
       "  </thead>\n",
       "  <tbody>\n",
       "    <tr>\n",
       "      <th>0</th>\n",
       "      <td>ft</td>\n",
       "      <td>1</td>\n",
       "      <td>0.0</td>\n",
       "      <td>1</td>\n",
       "      <td>hm_fold1</td>\n",
       "      <td>0.4277</td>\n",
       "    </tr>\n",
       "    <tr>\n",
       "      <th>1</th>\n",
       "      <td>ft</td>\n",
       "      <td>1</td>\n",
       "      <td>0.0</td>\n",
       "      <td>5</td>\n",
       "      <td>hm_fold1</td>\n",
       "      <td>0.4313</td>\n",
       "    </tr>\n",
       "    <tr>\n",
       "      <th>2</th>\n",
       "      <td>ft</td>\n",
       "      <td>1</td>\n",
       "      <td>0.0</td>\n",
       "      <td>10</td>\n",
       "      <td>hm_fold1</td>\n",
       "      <td>0.4301</td>\n",
       "    </tr>\n",
       "    <tr>\n",
       "      <th>3</th>\n",
       "      <td>ft</td>\n",
       "      <td>1</td>\n",
       "      <td>0.1</td>\n",
       "      <td>1</td>\n",
       "      <td>hm_fold1</td>\n",
       "      <td>0.4164</td>\n",
       "    </tr>\n",
       "    <tr>\n",
       "      <th>4</th>\n",
       "      <td>ft</td>\n",
       "      <td>1</td>\n",
       "      <td>0.1</td>\n",
       "      <td>5</td>\n",
       "      <td>hm_fold1</td>\n",
       "      <td>0.4149</td>\n",
       "    </tr>\n",
       "  </tbody>\n",
       "</table>\n",
       "</div>"
      ],
      "text/plain": [
       "  embeddings  projections  lambda_c  negative_count  variable   value\n",
       "0         ft            1       0.0               1  hm_fold1  0.4277\n",
       "1         ft            1       0.0               5  hm_fold1  0.4313\n",
       "2         ft            1       0.0              10  hm_fold1  0.4301\n",
       "3         ft            1       0.1               1  hm_fold1  0.4164\n",
       "4         ft            1       0.1               5  hm_fold1  0.4149"
      ]
     },
     "execution_count": 23,
     "metadata": {},
     "output_type": "execute_result"
    }
   ],
   "source": [
    "df.head()"
   ]
  },
  {
   "cell_type": "code",
   "execution_count": 20,
   "metadata": {},
   "outputs": [],
   "source": [
    "# filter out yamane results\n",
    "df = df.loc[df.method == 'multi',]\n",
    "df.drop('method', axis=1, inplace=True)"
   ]
  },
  {
   "cell_type": "code",
   "execution_count": 22,
   "metadata": {},
   "outputs": [],
   "source": [
    "# unpivot data\n",
    "#df = pd.melt(df.reset_index(), id_vars=['embeddings', 'model','clusters', 'metric'], value_vars=['fold_1','fold_2','fold_3','fold_4','fold_5'])\n",
    "df = pd.melt(df.reset_index(), id_vars=['embeddings', 'projections','lambda_c','negative_count'], value_vars=['hm_fold1','hm_fold2','hm_fold3','hm_fold4','hm_fold5'])"
   ]
  },
  {
   "cell_type": "code",
   "execution_count": 24,
   "metadata": {},
   "outputs": [],
   "source": [
    "# drop metric and variable columns since they're not useful\n",
    "\n",
    "df.drop('variable',axis=1,inplace=True)\n",
    "\n",
    "# rename value to actual metric (our dependent variable)\n",
    "df.rename(columns={'value':'map_mrr'}, inplace=True)"
   ]
  },
  {
   "cell_type": "code",
   "execution_count": 37,
   "metadata": {},
   "outputs": [],
   "source": [
    "# separate the embeddings\n",
    "w2v = df.loc[df['embeddings']=='w2v', :]\n",
    "ft = df.loc[df['embeddings']=='ft', :]\n",
    "glove = df.loc[df['embeddings']=='glove', :]\n"
   ]
  },
  {
   "cell_type": "code",
   "execution_count": 26,
   "metadata": {},
   "outputs": [],
   "source": [
    "def anova_table(aov):\n",
    "    aov['mean_sq'] = aov[:]['sum_sq']/aov[:]['df']\n",
    "    \n",
    "    aov['eta_sq'] = aov[:-1]['sum_sq']/sum(aov['sum_sq'])\n",
    "    \n",
    "    aov['omega_sq'] = (aov[:-1]['sum_sq']-(aov[:-1]['df']*aov['mean_sq'][-1]))/(sum(aov['sum_sq'])+aov['mean_sq'][-1])\n",
    "    \n",
    "    cols = ['sum_sq', 'mean_sq', 'df', 'F', 'PR(>F)', 'eta_sq', 'omega_sq']\n",
    "    aov = aov[cols]\n",
    "    return aov\n",
    "\n"
   ]
  },
  {
   "cell_type": "code",
   "execution_count": 29,
   "metadata": {},
   "outputs": [],
   "source": [
    "def print_model(mod):\n",
    "    print(f\"Overall model F({mod.df_model: .0f},{mod.df_resid: .0f}) = {mod.fvalue: .3f}, p = {mod.f_pvalue: .10f}\")"
   ]
  },
  {
   "cell_type": "code",
   "execution_count": 38,
   "metadata": {},
   "outputs": [
    {
     "data": {
      "text/plain": [
       "embeddings        45\n",
       "projections       45\n",
       "lambda_c          45\n",
       "negative_count    45\n",
       "map_mrr           45\n",
       "dtype: int64"
      ]
     },
     "execution_count": 38,
     "metadata": {},
     "output_type": "execute_result"
    }
   ],
   "source": [
    "# Statistical evidence  of multicollinearity found when attempting to run 3-way ANOVA explaining the interaction\n",
    "# of projections, lambda_c and negative_count.  From our results, we observed that regularisation impace\n",
    "# looked small.  We will eliminate this factor and performa 2-way ANOVA, which also reduces the complexity\n",
    "# of the exercise as a welcome side-effect.\n",
    "w2v = w2v.loc[w2v.lambda_c==0,]\n",
    "\n",
    "w2v.count()"
   ]
  },
  {
   "cell_type": "markdown",
   "metadata": {},
   "source": [
    "# Evaluate w2v results"
   ]
  },
  {
   "cell_type": "code",
   "execution_count": 39,
   "metadata": {},
   "outputs": [
    {
     "name": "stdout",
     "output_type": "stream",
     "text": [
      "Overall model F( 8, 36) =  11.230, p =  0.0000000850\n"
     ]
    }
   ],
   "source": [
    "\n",
    "\n",
    "# Fits the model with the interaction term\n",
    "# This will also automatically include the main effects for each factor\n",
    "w2v_model = ols('map_mrr ~ C(projections)*C(negative_count)', w2v).fit()\n",
    "\n",
    "# Seeing if the overall model is significant\n",
    "print_model(w2v_model)\n",
    "\n",
    "# the interaction model is significant, F(8, 36) = 11.23, p<< 0.05"
   ]
  },
  {
   "cell_type": "code",
   "execution_count": 40,
   "metadata": {},
   "outputs": [
    {
     "data": {
      "text/html": [
       "<table class=\"simpletable\">\n",
       "<caption>OLS Regression Results</caption>\n",
       "<tr>\n",
       "  <th>Dep. Variable:</th>         <td>map_mrr</td>     <th>  R-squared:         </th> <td>   0.714</td>\n",
       "</tr>\n",
       "<tr>\n",
       "  <th>Model:</th>                   <td>OLS</td>       <th>  Adj. R-squared:    </th> <td>   0.650</td>\n",
       "</tr>\n",
       "<tr>\n",
       "  <th>Method:</th>             <td>Least Squares</td>  <th>  F-statistic:       </th> <td>   11.23</td>\n",
       "</tr>\n",
       "<tr>\n",
       "  <th>Date:</th>             <td>Mon, 18 Mar 2019</td> <th>  Prob (F-statistic):</th> <td>8.50e-08</td>\n",
       "</tr>\n",
       "<tr>\n",
       "  <th>Time:</th>                 <td>22:57:07</td>     <th>  Log-Likelihood:    </th> <td>  136.31</td>\n",
       "</tr>\n",
       "<tr>\n",
       "  <th>No. Observations:</th>      <td>    45</td>      <th>  AIC:               </th> <td>  -254.6</td>\n",
       "</tr>\n",
       "<tr>\n",
       "  <th>Df Residuals:</th>          <td>    36</td>      <th>  BIC:               </th> <td>  -238.4</td>\n",
       "</tr>\n",
       "<tr>\n",
       "  <th>Df Model:</th>              <td>     8</td>      <th>                     </th>     <td> </td>   \n",
       "</tr>\n",
       "<tr>\n",
       "  <th>Covariance Type:</th>      <td>nonrobust</td>    <th>                     </th>     <td> </td>   \n",
       "</tr>\n",
       "</table>\n",
       "<table class=\"simpletable\">\n",
       "<tr>\n",
       "                        <td></td>                          <th>coef</th>     <th>std err</th>      <th>t</th>      <th>P>|t|</th>  <th>[0.025</th>    <th>0.975]</th>  \n",
       "</tr>\n",
       "<tr>\n",
       "  <th>Intercept</th>                                    <td>    0.3748</td> <td>    0.006</td> <td>   64.060</td> <td> 0.000</td> <td>    0.363</td> <td>    0.387</td>\n",
       "</tr>\n",
       "<tr>\n",
       "  <th>C(projections)[T.5]</th>                          <td>   -0.0346</td> <td>    0.008</td> <td>   -4.180</td> <td> 0.000</td> <td>   -0.051</td> <td>   -0.018</td>\n",
       "</tr>\n",
       "<tr>\n",
       "  <th>C(projections)[T.10]</th>                         <td>   -0.0519</td> <td>    0.008</td> <td>   -6.276</td> <td> 0.000</td> <td>   -0.069</td> <td>   -0.035</td>\n",
       "</tr>\n",
       "<tr>\n",
       "  <th>C(negative_count)[T.5]</th>                       <td>    0.0060</td> <td>    0.008</td> <td>    0.728</td> <td> 0.472</td> <td>   -0.011</td> <td>    0.023</td>\n",
       "</tr>\n",
       "<tr>\n",
       "  <th>C(negative_count)[T.10]</th>                      <td>    0.0092</td> <td>    0.008</td> <td>    1.110</td> <td> 0.275</td> <td>   -0.008</td> <td>    0.026</td>\n",
       "</tr>\n",
       "<tr>\n",
       "  <th>C(projections)[T.5]:C(negative_count)[T.5]</th>   <td>    0.0162</td> <td>    0.012</td> <td>    1.385</td> <td> 0.175</td> <td>   -0.008</td> <td>    0.040</td>\n",
       "</tr>\n",
       "<tr>\n",
       "  <th>C(projections)[T.10]:C(negative_count)[T.5]</th>  <td>    0.0287</td> <td>    0.012</td> <td>    2.455</td> <td> 0.019</td> <td>    0.005</td> <td>    0.052</td>\n",
       "</tr>\n",
       "<tr>\n",
       "  <th>C(projections)[T.5]:C(negative_count)[T.10]</th>  <td>    0.0178</td> <td>    0.012</td> <td>    1.520</td> <td> 0.137</td> <td>   -0.006</td> <td>    0.042</td>\n",
       "</tr>\n",
       "<tr>\n",
       "  <th>C(projections)[T.10]:C(negative_count)[T.10]</th> <td>    0.0237</td> <td>    0.012</td> <td>    2.022</td> <td> 0.051</td> <td>-6.91e-05</td> <td>    0.047</td>\n",
       "</tr>\n",
       "</table>\n",
       "<table class=\"simpletable\">\n",
       "<tr>\n",
       "  <th>Omnibus:</th>       <td> 2.736</td> <th>  Durbin-Watson:     </th> <td>   1.156</td>\n",
       "</tr>\n",
       "<tr>\n",
       "  <th>Prob(Omnibus):</th> <td> 0.255</td> <th>  Jarque-Bera (JB):  </th> <td>   2.040</td>\n",
       "</tr>\n",
       "<tr>\n",
       "  <th>Skew:</th>          <td>-0.518</td> <th>  Prob(JB):          </th> <td>   0.361</td>\n",
       "</tr>\n",
       "<tr>\n",
       "  <th>Kurtosis:</th>      <td> 3.117</td> <th>  Cond. No.          </th> <td>    13.9</td>\n",
       "</tr>\n",
       "</table><br/><br/>Warnings:<br/>[1] Standard Errors assume that the covariance matrix of the errors is correctly specified."
      ],
      "text/plain": [
       "<class 'statsmodels.iolib.summary.Summary'>\n",
       "\"\"\"\n",
       "                            OLS Regression Results                            \n",
       "==============================================================================\n",
       "Dep. Variable:                map_mrr   R-squared:                       0.714\n",
       "Model:                            OLS   Adj. R-squared:                  0.650\n",
       "Method:                 Least Squares   F-statistic:                     11.23\n",
       "Date:                Mon, 18 Mar 2019   Prob (F-statistic):           8.50e-08\n",
       "Time:                        22:57:07   Log-Likelihood:                 136.31\n",
       "No. Observations:                  45   AIC:                            -254.6\n",
       "Df Residuals:                      36   BIC:                            -238.4\n",
       "Df Model:                           8                                         \n",
       "Covariance Type:            nonrobust                                         \n",
       "================================================================================================================\n",
       "                                                   coef    std err          t      P>|t|      [0.025      0.975]\n",
       "----------------------------------------------------------------------------------------------------------------\n",
       "Intercept                                        0.3748      0.006     64.060      0.000       0.363       0.387\n",
       "C(projections)[T.5]                             -0.0346      0.008     -4.180      0.000      -0.051      -0.018\n",
       "C(projections)[T.10]                            -0.0519      0.008     -6.276      0.000      -0.069      -0.035\n",
       "C(negative_count)[T.5]                           0.0060      0.008      0.728      0.472      -0.011       0.023\n",
       "C(negative_count)[T.10]                          0.0092      0.008      1.110      0.275      -0.008       0.026\n",
       "C(projections)[T.5]:C(negative_count)[T.5]       0.0162      0.012      1.385      0.175      -0.008       0.040\n",
       "C(projections)[T.10]:C(negative_count)[T.5]      0.0287      0.012      2.455      0.019       0.005       0.052\n",
       "C(projections)[T.5]:C(negative_count)[T.10]      0.0178      0.012      1.520      0.137      -0.006       0.042\n",
       "C(projections)[T.10]:C(negative_count)[T.10]     0.0237      0.012      2.022      0.051   -6.91e-05       0.047\n",
       "==============================================================================\n",
       "Omnibus:                        2.736   Durbin-Watson:                   1.156\n",
       "Prob(Omnibus):                  0.255   Jarque-Bera (JB):                2.040\n",
       "Skew:                          -0.518   Prob(JB):                        0.361\n",
       "Kurtosis:                       3.117   Cond. No.                         13.9\n",
       "==============================================================================\n",
       "\n",
       "Warnings:\n",
       "[1] Standard Errors assume that the covariance matrix of the errors is correctly specified.\n",
       "\"\"\""
      ]
     },
     "execution_count": 40,
     "metadata": {},
     "output_type": "execute_result"
    }
   ],
   "source": [
    "w2v_model.summary()"
   ]
  },
  {
   "cell_type": "code",
   "execution_count": 41,
   "metadata": {},
   "outputs": [
    {
     "data": {
      "text/html": [
       "<div>\n",
       "<style scoped>\n",
       "    .dataframe tbody tr th:only-of-type {\n",
       "        vertical-align: middle;\n",
       "    }\n",
       "\n",
       "    .dataframe tbody tr th {\n",
       "        vertical-align: top;\n",
       "    }\n",
       "\n",
       "    .dataframe thead th {\n",
       "        text-align: right;\n",
       "    }\n",
       "</style>\n",
       "<table border=\"1\" class=\"dataframe\">\n",
       "  <thead>\n",
       "    <tr style=\"text-align: right;\">\n",
       "      <th></th>\n",
       "      <th>sum_sq</th>\n",
       "      <th>mean_sq</th>\n",
       "      <th>df</th>\n",
       "      <th>F</th>\n",
       "      <th>PR(&gt;F)</th>\n",
       "      <th>eta_sq</th>\n",
       "      <th>omega_sq</th>\n",
       "    </tr>\n",
       "  </thead>\n",
       "  <tbody>\n",
       "    <tr>\n",
       "      <th>C(projections)</th>\n",
       "      <td>0.009269</td>\n",
       "      <td>0.004634</td>\n",
       "      <td>2.0</td>\n",
       "      <td>27.083575</td>\n",
       "      <td>6.646222e-08</td>\n",
       "      <td>0.430448</td>\n",
       "      <td>0.411286</td>\n",
       "    </tr>\n",
       "    <tr>\n",
       "      <th>C(negative_count)</th>\n",
       "      <td>0.004867</td>\n",
       "      <td>0.002434</td>\n",
       "      <td>2.0</td>\n",
       "      <td>14.221349</td>\n",
       "      <td>2.807489e-05</td>\n",
       "      <td>0.226024</td>\n",
       "      <td>0.208474</td>\n",
       "    </tr>\n",
       "    <tr>\n",
       "      <th>C(projections):C(negative_count)</th>\n",
       "      <td>0.001237</td>\n",
       "      <td>0.000309</td>\n",
       "      <td>4.0</td>\n",
       "      <td>1.807324</td>\n",
       "      <td>1.487992e-01</td>\n",
       "      <td>0.057449</td>\n",
       "      <td>0.025460</td>\n",
       "    </tr>\n",
       "    <tr>\n",
       "      <th>Residual</th>\n",
       "      <td>0.006160</td>\n",
       "      <td>0.000171</td>\n",
       "      <td>36.0</td>\n",
       "      <td>NaN</td>\n",
       "      <td>NaN</td>\n",
       "      <td>NaN</td>\n",
       "      <td>NaN</td>\n",
       "    </tr>\n",
       "  </tbody>\n",
       "</table>\n",
       "</div>"
      ],
      "text/plain": [
       "                                    sum_sq   mean_sq    df          F  \\\n",
       "C(projections)                    0.009269  0.004634   2.0  27.083575   \n",
       "C(negative_count)                 0.004867  0.002434   2.0  14.221349   \n",
       "C(projections):C(negative_count)  0.001237  0.000309   4.0   1.807324   \n",
       "Residual                          0.006160  0.000171  36.0        NaN   \n",
       "\n",
       "                                        PR(>F)    eta_sq  omega_sq  \n",
       "C(projections)                    6.646222e-08  0.430448  0.411286  \n",
       "C(negative_count)                 2.807489e-05  0.226024  0.208474  \n",
       "C(projections):C(negative_count)  1.487992e-01  0.057449  0.025460  \n",
       "Residual                                   NaN       NaN       NaN  "
      ]
     },
     "execution_count": 41,
     "metadata": {},
     "output_type": "execute_result"
    }
   ],
   "source": [
    "# Creates the ANOVA table\n",
    "res = sm.stats.anova_lm(w2v_model, typ= 1)\n",
    "anova_table(res)\n",
    "# the projection count and negative sample count interaction term was not significant.  \n",
    "# we re-run the model, this time investigating the effect of oprojections and negative_Cont independently"
   ]
  },
  {
   "cell_type": "code",
   "execution_count": 43,
   "metadata": {},
   "outputs": [
    {
     "name": "stdout",
     "output_type": "stream",
     "text": [
      "Overall model F( 4, 40) =  19.110, p =  0.0000000074\n"
     ]
    }
   ],
   "source": [
    "# we remove the interaction term and analyse the indepedent variables separately\n",
    "\n",
    "w2v_model2 = ols('map_mrr ~ C(projections)+ C(negative_count)', w2v).fit()\n",
    "print_model(w2v_model2)\n"
   ]
  },
  {
   "cell_type": "code",
   "execution_count": 44,
   "metadata": {},
   "outputs": [
    {
     "data": {
      "text/html": [
       "<table class=\"simpletable\">\n",
       "<caption>OLS Regression Results</caption>\n",
       "<tr>\n",
       "  <th>Dep. Variable:</th>         <td>map_mrr</td>     <th>  R-squared:         </th> <td>   0.656</td>\n",
       "</tr>\n",
       "<tr>\n",
       "  <th>Model:</th>                   <td>OLS</td>       <th>  Adj. R-squared:    </th> <td>   0.622</td>\n",
       "</tr>\n",
       "<tr>\n",
       "  <th>Method:</th>             <td>Least Squares</td>  <th>  F-statistic:       </th> <td>   19.11</td>\n",
       "</tr>\n",
       "<tr>\n",
       "  <th>Date:</th>             <td>Mon, 18 Mar 2019</td> <th>  Prob (F-statistic):</th> <td>7.40e-09</td>\n",
       "</tr>\n",
       "<tr>\n",
       "  <th>Time:</th>                 <td>23:01:50</td>     <th>  Log-Likelihood:    </th> <td>  132.20</td>\n",
       "</tr>\n",
       "<tr>\n",
       "  <th>No. Observations:</th>      <td>    45</td>      <th>  AIC:               </th> <td>  -254.4</td>\n",
       "</tr>\n",
       "<tr>\n",
       "  <th>Df Residuals:</th>          <td>    40</td>      <th>  BIC:               </th> <td>  -245.4</td>\n",
       "</tr>\n",
       "<tr>\n",
       "  <th>Df Model:</th>              <td>     4</td>      <th>                     </th>     <td> </td>   \n",
       "</tr>\n",
       "<tr>\n",
       "  <th>Covariance Type:</th>      <td>nonrobust</td>    <th>                     </th>     <td> </td>   \n",
       "</tr>\n",
       "</table>\n",
       "<table class=\"simpletable\">\n",
       "<tr>\n",
       "             <td></td>                <th>coef</th>     <th>std err</th>      <th>t</th>      <th>P>|t|</th>  <th>[0.025</th>    <th>0.975]</th>  \n",
       "</tr>\n",
       "<tr>\n",
       "  <th>Intercept</th>               <td>    0.3652</td> <td>    0.005</td> <td>   80.557</td> <td> 0.000</td> <td>    0.356</td> <td>    0.374</td>\n",
       "</tr>\n",
       "<tr>\n",
       "  <th>C(projections)[T.5]</th>     <td>   -0.0233</td> <td>    0.005</td> <td>   -4.683</td> <td> 0.000</td> <td>   -0.033</td> <td>   -0.013</td>\n",
       "</tr>\n",
       "<tr>\n",
       "  <th>C(projections)[T.10]</th>    <td>   -0.0345</td> <td>    0.005</td> <td>   -6.940</td> <td> 0.000</td> <td>   -0.044</td> <td>   -0.024</td>\n",
       "</tr>\n",
       "<tr>\n",
       "  <th>C(negative_count)[T.5]</th>  <td>    0.0210</td> <td>    0.005</td> <td>    4.228</td> <td> 0.000</td> <td>    0.011</td> <td>    0.031</td>\n",
       "</tr>\n",
       "<tr>\n",
       "  <th>C(negative_count)[T.10]</th> <td>    0.0230</td> <td>    0.005</td> <td>    4.630</td> <td> 0.000</td> <td>    0.013</td> <td>    0.033</td>\n",
       "</tr>\n",
       "</table>\n",
       "<table class=\"simpletable\">\n",
       "<tr>\n",
       "  <th>Omnibus:</th>       <td> 1.361</td> <th>  Durbin-Watson:     </th> <td>   1.366</td>\n",
       "</tr>\n",
       "<tr>\n",
       "  <th>Prob(Omnibus):</th> <td> 0.506</td> <th>  Jarque-Bera (JB):  </th> <td>   1.286</td>\n",
       "</tr>\n",
       "<tr>\n",
       "  <th>Skew:</th>          <td>-0.287</td> <th>  Prob(JB):          </th> <td>   0.526</td>\n",
       "</tr>\n",
       "<tr>\n",
       "  <th>Kurtosis:</th>      <td> 2.403</td> <th>  Cond. No.          </th> <td>    4.44</td>\n",
       "</tr>\n",
       "</table><br/><br/>Warnings:<br/>[1] Standard Errors assume that the covariance matrix of the errors is correctly specified."
      ],
      "text/plain": [
       "<class 'statsmodels.iolib.summary.Summary'>\n",
       "\"\"\"\n",
       "                            OLS Regression Results                            \n",
       "==============================================================================\n",
       "Dep. Variable:                map_mrr   R-squared:                       0.656\n",
       "Model:                            OLS   Adj. R-squared:                  0.622\n",
       "Method:                 Least Squares   F-statistic:                     19.11\n",
       "Date:                Mon, 18 Mar 2019   Prob (F-statistic):           7.40e-09\n",
       "Time:                        23:01:50   Log-Likelihood:                 132.20\n",
       "No. Observations:                  45   AIC:                            -254.4\n",
       "Df Residuals:                      40   BIC:                            -245.4\n",
       "Df Model:                           4                                         \n",
       "Covariance Type:            nonrobust                                         \n",
       "===========================================================================================\n",
       "                              coef    std err          t      P>|t|      [0.025      0.975]\n",
       "-------------------------------------------------------------------------------------------\n",
       "Intercept                   0.3652      0.005     80.557      0.000       0.356       0.374\n",
       "C(projections)[T.5]        -0.0233      0.005     -4.683      0.000      -0.033      -0.013\n",
       "C(projections)[T.10]       -0.0345      0.005     -6.940      0.000      -0.044      -0.024\n",
       "C(negative_count)[T.5]      0.0210      0.005      4.228      0.000       0.011       0.031\n",
       "C(negative_count)[T.10]     0.0230      0.005      4.630      0.000       0.013       0.033\n",
       "==============================================================================\n",
       "Omnibus:                        1.361   Durbin-Watson:                   1.366\n",
       "Prob(Omnibus):                  0.506   Jarque-Bera (JB):                1.286\n",
       "Skew:                          -0.287   Prob(JB):                        0.526\n",
       "Kurtosis:                       2.403   Cond. No.                         4.44\n",
       "==============================================================================\n",
       "\n",
       "Warnings:\n",
       "[1] Standard Errors assume that the covariance matrix of the errors is correctly specified.\n",
       "\"\"\""
      ]
     },
     "execution_count": 44,
     "metadata": {},
     "output_type": "execute_result"
    }
   ],
   "source": [
    "w2v_model2.summary()"
   ]
  },
  {
   "cell_type": "code",
   "execution_count": 45,
   "metadata": {},
   "outputs": [
    {
     "data": {
      "text/html": [
       "<div>\n",
       "<style scoped>\n",
       "    .dataframe tbody tr th:only-of-type {\n",
       "        vertical-align: middle;\n",
       "    }\n",
       "\n",
       "    .dataframe tbody tr th {\n",
       "        vertical-align: top;\n",
       "    }\n",
       "\n",
       "    .dataframe thead th {\n",
       "        text-align: right;\n",
       "    }\n",
       "</style>\n",
       "<table border=\"1\" class=\"dataframe\">\n",
       "  <thead>\n",
       "    <tr style=\"text-align: right;\">\n",
       "      <th></th>\n",
       "      <th>sum_sq</th>\n",
       "      <th>mean_sq</th>\n",
       "      <th>df</th>\n",
       "      <th>F</th>\n",
       "      <th>PR(&gt;F)</th>\n",
       "      <th>eta_sq</th>\n",
       "      <th>omega_sq</th>\n",
       "    </tr>\n",
       "  </thead>\n",
       "  <tbody>\n",
       "    <tr>\n",
       "      <th>C(projections)</th>\n",
       "      <td>0.009269</td>\n",
       "      <td>0.004634</td>\n",
       "      <td>2.0</td>\n",
       "      <td>25.060390</td>\n",
       "      <td>8.804424e-08</td>\n",
       "      <td>0.430448</td>\n",
       "      <td>0.409752</td>\n",
       "    </tr>\n",
       "    <tr>\n",
       "      <th>C(negative_count)</th>\n",
       "      <td>0.004867</td>\n",
       "      <td>0.002434</td>\n",
       "      <td>2.0</td>\n",
       "      <td>13.158992</td>\n",
       "      <td>4.060443e-05</td>\n",
       "      <td>0.226024</td>\n",
       "      <td>0.207069</td>\n",
       "    </tr>\n",
       "    <tr>\n",
       "      <th>Residual</th>\n",
       "      <td>0.007397</td>\n",
       "      <td>0.000185</td>\n",
       "      <td>40.0</td>\n",
       "      <td>NaN</td>\n",
       "      <td>NaN</td>\n",
       "      <td>NaN</td>\n",
       "      <td>NaN</td>\n",
       "    </tr>\n",
       "  </tbody>\n",
       "</table>\n",
       "</div>"
      ],
      "text/plain": [
       "                     sum_sq   mean_sq    df          F        PR(>F)  \\\n",
       "C(projections)     0.009269  0.004634   2.0  25.060390  8.804424e-08   \n",
       "C(negative_count)  0.004867  0.002434   2.0  13.158992  4.060443e-05   \n",
       "Residual           0.007397  0.000185  40.0        NaN           NaN   \n",
       "\n",
       "                     eta_sq  omega_sq  \n",
       "C(projections)     0.430448  0.409752  \n",
       "C(negative_count)  0.226024  0.207069  \n",
       "Residual                NaN       NaN  "
      ]
     },
     "execution_count": 45,
     "metadata": {},
     "output_type": "execute_result"
    }
   ],
   "source": [
    "res2 = sm.stats.anova_lm(w2v_model2, typ= 1)\n",
    "anova_table(res2)\n",
    "\n",
    "# Both factors were found to have a mild to medium effect.  \n",
    "# Negative count had an effect on map_mrr, F(2,40)=13.159, p < 0.05 omega^2 = 0.21\n",
    "# Projection influenced map_mrr at F(2,40) =25.06, p < 0.05, omega^2=0.41"
   ]
  },
  {
   "cell_type": "code",
   "execution_count": 46,
   "metadata": {
    "scrolled": true
   },
   "outputs": [
    {
     "name": "stdout",
     "output_type": "stream",
     "text": [
      "Multiple Comparison of Means - Tukey HSD,FWER=0.05\n",
      "============================================\n",
      "group1 group2 meandiff  lower  upper  reject\n",
      "--------------------------------------------\n",
      "  1      5     0.021    0.0033 0.0387  True \n",
      "  1      10    0.023    0.0053 0.0407  True \n",
      "  5      10    0.002   -0.0157 0.0197 False \n",
      "--------------------------------------------\n"
     ]
    }
   ],
   "source": [
    "# employ Tukey's HSD to find evidence of effect in model\n",
    "mc = statsmodels.stats.multicomp.MultiComparison(w2v['map_mrr'], w2v['negative_count'])\n",
    "mc_results = mc.tukeyhsd()\n",
    "print(mc_results)\n",
    "\n",
    "# It is justifiable to increase negative count from 1 to 5 or from 1 to 10, both of which are expected to\n",
    "# increase map_mrr.  Performance does not increase significantly when the negative count is augmented to 10 from 5."
   ]
  },
  {
   "cell_type": "code",
   "execution_count": 47,
   "metadata": {},
   "outputs": [
    {
     "name": "stdout",
     "output_type": "stream",
     "text": [
      "Multiple Comparison of Means - Tukey HSD,FWER=0.05\n",
      "=============================================\n",
      "group1 group2 meandiff  lower   upper  reject\n",
      "---------------------------------------------\n",
      "  1      5    -0.0233  -0.0384 -0.0081  True \n",
      "  1      10   -0.0345  -0.0496 -0.0193  True \n",
      "  5      10   -0.0112  -0.0264  0.004  False \n",
      "---------------------------------------------\n"
     ]
    }
   ],
   "source": [
    "mc = statsmodels.stats.multicomp.MultiComparison(w2v['map_mrr'], w2v['projections'])\n",
    "mc_results = mc.tukeyhsd()\n",
    "print(mc_results)\n",
    "\n",
    "# larger number of projection have a detrimental effect on map_mrr.  Increasing projections from 1 to 10,\n",
    "# will reduce the mean difference by 0.035 points.  A lower, but still significant effect is observed with \n",
    "# 5 projections.\n",
    "\n",
    "# RUNS COUNTER TO CRIM, who found that increasing projections helped their results. \n",
    "# Their setup, however was not equivalent.  They trained embeddings alongside the rest of the model; \n",
    "# learning rate was significantly smaller; dropout rate was different and the number of training epochs\n",
    "# much larger."
   ]
  },
  {
   "cell_type": "markdown",
   "metadata": {},
   "source": [
    "# Evaluate GloVe"
   ]
  },
  {
   "cell_type": "code",
   "execution_count": 50,
   "metadata": {},
   "outputs": [
    {
     "data": {
      "text/plain": [
       "embeddings        45\n",
       "projections       45\n",
       "lambda_c          45\n",
       "negative_count    45\n",
       "map_mrr           45\n",
       "dtype: int64"
      ]
     },
     "execution_count": 50,
     "metadata": {},
     "output_type": "execute_result"
    }
   ],
   "source": [
    "# filter out regularisation attempts\n",
    "glove = glove.loc[glove.lambda_c==0,]\n",
    "\n",
    "glove.count()"
   ]
  },
  {
   "cell_type": "code",
   "execution_count": 52,
   "metadata": {},
   "outputs": [
    {
     "name": "stdout",
     "output_type": "stream",
     "text": [
      "Overall model F( 8, 36) =  17.774, p =  0.0000000002\n"
     ]
    }
   ],
   "source": [
    "glove_model = ols('map_mrr ~ C(projections)*C(negative_count)', glove).fit()\n",
    "\n",
    "# Seeing if the overall model is significant\n",
    "print_model(glove_model)\n"
   ]
  },
  {
   "cell_type": "code",
   "execution_count": 53,
   "metadata": {
    "scrolled": true
   },
   "outputs": [
    {
     "data": {
      "text/html": [
       "<table class=\"simpletable\">\n",
       "<caption>OLS Regression Results</caption>\n",
       "<tr>\n",
       "  <th>Dep. Variable:</th>         <td>map_mrr</td>     <th>  R-squared:         </th> <td>   0.798</td>\n",
       "</tr>\n",
       "<tr>\n",
       "  <th>Model:</th>                   <td>OLS</td>       <th>  Adj. R-squared:    </th> <td>   0.753</td>\n",
       "</tr>\n",
       "<tr>\n",
       "  <th>Method:</th>             <td>Least Squares</td>  <th>  F-statistic:       </th> <td>   17.77</td>\n",
       "</tr>\n",
       "<tr>\n",
       "  <th>Date:</th>             <td>Mon, 18 Mar 2019</td> <th>  Prob (F-statistic):</th> <td>2.21e-10</td>\n",
       "</tr>\n",
       "<tr>\n",
       "  <th>Time:</th>                 <td>23:20:48</td>     <th>  Log-Likelihood:    </th> <td>  143.16</td>\n",
       "</tr>\n",
       "<tr>\n",
       "  <th>No. Observations:</th>      <td>    45</td>      <th>  AIC:               </th> <td>  -268.3</td>\n",
       "</tr>\n",
       "<tr>\n",
       "  <th>Df Residuals:</th>          <td>    36</td>      <th>  BIC:               </th> <td>  -252.1</td>\n",
       "</tr>\n",
       "<tr>\n",
       "  <th>Df Model:</th>              <td>     8</td>      <th>                     </th>     <td> </td>   \n",
       "</tr>\n",
       "<tr>\n",
       "  <th>Covariance Type:</th>      <td>nonrobust</td>    <th>                     </th>     <td> </td>   \n",
       "</tr>\n",
       "</table>\n",
       "<table class=\"simpletable\">\n",
       "<tr>\n",
       "                        <td></td>                          <th>coef</th>     <th>std err</th>      <th>t</th>      <th>P>|t|</th>  <th>[0.025</th>    <th>0.975]</th>  \n",
       "</tr>\n",
       "<tr>\n",
       "  <th>Intercept</th>                                    <td>    0.3062</td> <td>    0.005</td> <td>   60.943</td> <td> 0.000</td> <td>    0.296</td> <td>    0.316</td>\n",
       "</tr>\n",
       "<tr>\n",
       "  <th>C(projections)[T.5]</th>                          <td>    0.0290</td> <td>    0.007</td> <td>    4.075</td> <td> 0.000</td> <td>    0.015</td> <td>    0.043</td>\n",
       "</tr>\n",
       "<tr>\n",
       "  <th>C(projections)[T.10]</th>                         <td>    0.0422</td> <td>    0.007</td> <td>    5.941</td> <td> 0.000</td> <td>    0.028</td> <td>    0.057</td>\n",
       "</tr>\n",
       "<tr>\n",
       "  <th>C(negative_count)[T.5]</th>                       <td>    0.0050</td> <td>    0.007</td> <td>    0.701</td> <td> 0.488</td> <td>   -0.009</td> <td>    0.019</td>\n",
       "</tr>\n",
       "<tr>\n",
       "  <th>C(negative_count)[T.10]</th>                      <td>    0.0023</td> <td>    0.007</td> <td>    0.324</td> <td> 0.748</td> <td>   -0.012</td> <td>    0.017</td>\n",
       "</tr>\n",
       "<tr>\n",
       "  <th>C(projections)[T.5]:C(negative_count)[T.5]</th>   <td>    0.0133</td> <td>    0.010</td> <td>    1.319</td> <td> 0.195</td> <td>   -0.007</td> <td>    0.034</td>\n",
       "</tr>\n",
       "<tr>\n",
       "  <th>C(projections)[T.10]:C(negative_count)[T.5]</th>  <td>    0.0056</td> <td>    0.010</td> <td>    0.555</td> <td> 0.582</td> <td>   -0.015</td> <td>    0.026</td>\n",
       "</tr>\n",
       "<tr>\n",
       "  <th>C(projections)[T.5]:C(negative_count)[T.10]</th>  <td>    0.0142</td> <td>    0.010</td> <td>    1.413</td> <td> 0.166</td> <td>   -0.006</td> <td>    0.035</td>\n",
       "</tr>\n",
       "<tr>\n",
       "  <th>C(projections)[T.10]:C(negative_count)[T.10]</th> <td>   -0.0047</td> <td>    0.010</td> <td>   -0.466</td> <td> 0.644</td> <td>   -0.025</td> <td>    0.016</td>\n",
       "</tr>\n",
       "</table>\n",
       "<table class=\"simpletable\">\n",
       "<tr>\n",
       "  <th>Omnibus:</th>       <td> 1.243</td> <th>  Durbin-Watson:     </th> <td>   0.797</td>\n",
       "</tr>\n",
       "<tr>\n",
       "  <th>Prob(Omnibus):</th> <td> 0.537</td> <th>  Jarque-Bera (JB):  </th> <td>   0.482</td>\n",
       "</tr>\n",
       "<tr>\n",
       "  <th>Skew:</th>          <td>-0.117</td> <th>  Prob(JB):          </th> <td>   0.786</td>\n",
       "</tr>\n",
       "<tr>\n",
       "  <th>Kurtosis:</th>      <td> 3.450</td> <th>  Cond. No.          </th> <td>    13.9</td>\n",
       "</tr>\n",
       "</table><br/><br/>Warnings:<br/>[1] Standard Errors assume that the covariance matrix of the errors is correctly specified."
      ],
      "text/plain": [
       "<class 'statsmodels.iolib.summary.Summary'>\n",
       "\"\"\"\n",
       "                            OLS Regression Results                            \n",
       "==============================================================================\n",
       "Dep. Variable:                map_mrr   R-squared:                       0.798\n",
       "Model:                            OLS   Adj. R-squared:                  0.753\n",
       "Method:                 Least Squares   F-statistic:                     17.77\n",
       "Date:                Mon, 18 Mar 2019   Prob (F-statistic):           2.21e-10\n",
       "Time:                        23:20:48   Log-Likelihood:                 143.16\n",
       "No. Observations:                  45   AIC:                            -268.3\n",
       "Df Residuals:                      36   BIC:                            -252.1\n",
       "Df Model:                           8                                         \n",
       "Covariance Type:            nonrobust                                         \n",
       "================================================================================================================\n",
       "                                                   coef    std err          t      P>|t|      [0.025      0.975]\n",
       "----------------------------------------------------------------------------------------------------------------\n",
       "Intercept                                        0.3062      0.005     60.943      0.000       0.296       0.316\n",
       "C(projections)[T.5]                              0.0290      0.007      4.075      0.000       0.015       0.043\n",
       "C(projections)[T.10]                             0.0422      0.007      5.941      0.000       0.028       0.057\n",
       "C(negative_count)[T.5]                           0.0050      0.007      0.701      0.488      -0.009       0.019\n",
       "C(negative_count)[T.10]                          0.0023      0.007      0.324      0.748      -0.012       0.017\n",
       "C(projections)[T.5]:C(negative_count)[T.5]       0.0133      0.010      1.319      0.195      -0.007       0.034\n",
       "C(projections)[T.10]:C(negative_count)[T.5]      0.0056      0.010      0.555      0.582      -0.015       0.026\n",
       "C(projections)[T.5]:C(negative_count)[T.10]      0.0142      0.010      1.413      0.166      -0.006       0.035\n",
       "C(projections)[T.10]:C(negative_count)[T.10]    -0.0047      0.010     -0.466      0.644      -0.025       0.016\n",
       "==============================================================================\n",
       "Omnibus:                        1.243   Durbin-Watson:                   0.797\n",
       "Prob(Omnibus):                  0.537   Jarque-Bera (JB):                0.482\n",
       "Skew:                          -0.117   Prob(JB):                        0.786\n",
       "Kurtosis:                       3.450   Cond. No.                         13.9\n",
       "==============================================================================\n",
       "\n",
       "Warnings:\n",
       "[1] Standard Errors assume that the covariance matrix of the errors is correctly specified.\n",
       "\"\"\""
      ]
     },
     "execution_count": 53,
     "metadata": {},
     "output_type": "execute_result"
    }
   ],
   "source": [
    "glove_model.summary()"
   ]
  },
  {
   "cell_type": "code",
   "execution_count": 54,
   "metadata": {},
   "outputs": [
    {
     "data": {
      "text/html": [
       "<div>\n",
       "<style scoped>\n",
       "    .dataframe tbody tr th:only-of-type {\n",
       "        vertical-align: middle;\n",
       "    }\n",
       "\n",
       "    .dataframe tbody tr th {\n",
       "        vertical-align: top;\n",
       "    }\n",
       "\n",
       "    .dataframe thead th {\n",
       "        text-align: right;\n",
       "    }\n",
       "</style>\n",
       "<table border=\"1\" class=\"dataframe\">\n",
       "  <thead>\n",
       "    <tr style=\"text-align: right;\">\n",
       "      <th></th>\n",
       "      <th>sum_sq</th>\n",
       "      <th>mean_sq</th>\n",
       "      <th>df</th>\n",
       "      <th>F</th>\n",
       "      <th>PR(&gt;F)</th>\n",
       "      <th>eta_sq</th>\n",
       "      <th>omega_sq</th>\n",
       "    </tr>\n",
       "  </thead>\n",
       "  <tbody>\n",
       "    <tr>\n",
       "      <th>C(projections)</th>\n",
       "      <td>0.016400</td>\n",
       "      <td>0.008200</td>\n",
       "      <td>2.0</td>\n",
       "      <td>64.956633</td>\n",
       "      <td>1.136541e-12</td>\n",
       "      <td>0.729072</td>\n",
       "      <td>0.713842</td>\n",
       "    </tr>\n",
       "    <tr>\n",
       "      <th>C(negative_count)</th>\n",
       "      <td>0.000951</td>\n",
       "      <td>0.000476</td>\n",
       "      <td>2.0</td>\n",
       "      <td>3.767302</td>\n",
       "      <td>3.269056e-02</td>\n",
       "      <td>0.042284</td>\n",
       "      <td>0.030887</td>\n",
       "    </tr>\n",
       "    <tr>\n",
       "      <th>C(projections):C(negative_count)</th>\n",
       "      <td>0.000599</td>\n",
       "      <td>0.000150</td>\n",
       "      <td>4.0</td>\n",
       "      <td>1.185520</td>\n",
       "      <td>3.336857e-01</td>\n",
       "      <td>0.026613</td>\n",
       "      <td>0.004141</td>\n",
       "    </tr>\n",
       "    <tr>\n",
       "      <th>Residual</th>\n",
       "      <td>0.004545</td>\n",
       "      <td>0.000126</td>\n",
       "      <td>36.0</td>\n",
       "      <td>NaN</td>\n",
       "      <td>NaN</td>\n",
       "      <td>NaN</td>\n",
       "      <td>NaN</td>\n",
       "    </tr>\n",
       "  </tbody>\n",
       "</table>\n",
       "</div>"
      ],
      "text/plain": [
       "                                    sum_sq   mean_sq    df          F  \\\n",
       "C(projections)                    0.016400  0.008200   2.0  64.956633   \n",
       "C(negative_count)                 0.000951  0.000476   2.0   3.767302   \n",
       "C(projections):C(negative_count)  0.000599  0.000150   4.0   1.185520   \n",
       "Residual                          0.004545  0.000126  36.0        NaN   \n",
       "\n",
       "                                        PR(>F)    eta_sq  omega_sq  \n",
       "C(projections)                    1.136541e-12  0.729072  0.713842  \n",
       "C(negative_count)                 3.269056e-02  0.042284  0.030887  \n",
       "C(projections):C(negative_count)  3.336857e-01  0.026613  0.004141  \n",
       "Residual                                   NaN       NaN       NaN  "
      ]
     },
     "execution_count": 54,
     "metadata": {},
     "output_type": "execute_result"
    }
   ],
   "source": [
    "# Creates the ANOVA table\n",
    "res = sm.stats.anova_lm(glove_model, typ= 1)\n",
    "anova_table(res)\n",
    "# the projection count and negative sample count interaction term was not significant.  \n",
    "# we re-run the model, this time investigating the effect of oprojections and negative_Cont independently"
   ]
  },
  {
   "cell_type": "code",
   "execution_count": 55,
   "metadata": {},
   "outputs": [
    {
     "name": "stdout",
     "output_type": "stream",
     "text": [
      "Overall model F( 4, 40) =  33.736, p =  0.0000000000\n"
     ]
    }
   ],
   "source": [
    "glove_model2 = ols('map_mrr ~ C(projections) + C(negative_count)', glove).fit()\n",
    "\n",
    "print_model(glove_model2)"
   ]
  },
  {
   "cell_type": "code",
   "execution_count": 56,
   "metadata": {},
   "outputs": [
    {
     "data": {
      "text/html": [
       "<div>\n",
       "<style scoped>\n",
       "    .dataframe tbody tr th:only-of-type {\n",
       "        vertical-align: middle;\n",
       "    }\n",
       "\n",
       "    .dataframe tbody tr th {\n",
       "        vertical-align: top;\n",
       "    }\n",
       "\n",
       "    .dataframe thead th {\n",
       "        text-align: right;\n",
       "    }\n",
       "</style>\n",
       "<table border=\"1\" class=\"dataframe\">\n",
       "  <thead>\n",
       "    <tr style=\"text-align: right;\">\n",
       "      <th></th>\n",
       "      <th>sum_sq</th>\n",
       "      <th>mean_sq</th>\n",
       "      <th>df</th>\n",
       "      <th>F</th>\n",
       "      <th>PR(&gt;F)</th>\n",
       "      <th>eta_sq</th>\n",
       "      <th>omega_sq</th>\n",
       "    </tr>\n",
       "  </thead>\n",
       "  <tbody>\n",
       "    <tr>\n",
       "      <th>C(projections)</th>\n",
       "      <td>0.016400</td>\n",
       "      <td>0.008200</td>\n",
       "      <td>2.0</td>\n",
       "      <td>63.773506</td>\n",
       "      <td>3.617979e-13</td>\n",
       "      <td>0.729072</td>\n",
       "      <td>0.713561</td>\n",
       "    </tr>\n",
       "    <tr>\n",
       "      <th>C(negative_count)</th>\n",
       "      <td>0.000951</td>\n",
       "      <td>0.000476</td>\n",
       "      <td>2.0</td>\n",
       "      <td>3.698684</td>\n",
       "      <td>3.358268e-02</td>\n",
       "      <td>0.042284</td>\n",
       "      <td>0.030677</td>\n",
       "    </tr>\n",
       "    <tr>\n",
       "      <th>Residual</th>\n",
       "      <td>0.005143</td>\n",
       "      <td>0.000129</td>\n",
       "      <td>40.0</td>\n",
       "      <td>NaN</td>\n",
       "      <td>NaN</td>\n",
       "      <td>NaN</td>\n",
       "      <td>NaN</td>\n",
       "    </tr>\n",
       "  </tbody>\n",
       "</table>\n",
       "</div>"
      ],
      "text/plain": [
       "                     sum_sq   mean_sq    df          F        PR(>F)  \\\n",
       "C(projections)     0.016400  0.008200   2.0  63.773506  3.617979e-13   \n",
       "C(negative_count)  0.000951  0.000476   2.0   3.698684  3.358268e-02   \n",
       "Residual           0.005143  0.000129  40.0        NaN           NaN   \n",
       "\n",
       "                     eta_sq  omega_sq  \n",
       "C(projections)     0.729072  0.713561  \n",
       "C(negative_count)  0.042284  0.030677  \n",
       "Residual                NaN       NaN  "
      ]
     },
     "execution_count": 56,
     "metadata": {},
     "output_type": "execute_result"
    }
   ],
   "source": [
    "res2 = sm.stats.anova_lm(glove_model2, typ= 1)\n",
    "anova_table(res2)\n",
    "\n",
    "# The projection factor had a strong effect on map_mrr, F(2, 40) = 63.77, p << 0.05, omega^2 =0.71\n",
    "# However, the negative count had a very weak, although sitll significant effect, F(2, 40) = 3.70, p< 0.05,\n",
    "# omeg^2 = 0.031"
   ]
  },
  {
   "cell_type": "code",
   "execution_count": 57,
   "metadata": {},
   "outputs": [
    {
     "name": "stdout",
     "output_type": "stream",
     "text": [
      "Multiple Comparison of Means - Tukey HSD,FWER=0.05\n",
      "============================================\n",
      "group1 group2 meandiff  lower  upper  reject\n",
      "--------------------------------------------\n",
      "  1      5     0.0381   0.0274 0.0488  True \n",
      "  1      10    0.0425   0.0318 0.0532  True \n",
      "  5      10    0.0044  -0.0063 0.0151 False \n",
      "--------------------------------------------\n"
     ]
    }
   ],
   "source": [
    "mc = statsmodels.stats.multicomp.MultiComparison(glove['map_mrr'], glove['projections'])\n",
    "mc_results = mc.tukeyhsd()\n",
    "print(mc_results)\n",
    "\n",
    "# Increasing projections from 1 to 5 or 10 had a positive effect on map_mrr, \n",
    "# but a negligible effect when increasing projections from 5 to 10."
   ]
  },
  {
   "cell_type": "code",
   "execution_count": 58,
   "metadata": {},
   "outputs": [
    {
     "name": "stdout",
     "output_type": "stream",
     "text": [
      "Multiple Comparison of Means - Tukey HSD,FWER=0.05\n",
      "============================================\n",
      "group1 group2 meandiff  lower  upper  reject\n",
      "--------------------------------------------\n",
      "  1      5     0.0113  -0.0088 0.0314 False \n",
      "  1      10    0.0055  -0.0146 0.0256 False \n",
      "  5      10   -0.0058  -0.0259 0.0143 False \n",
      "--------------------------------------------\n"
     ]
    }
   ],
   "source": [
    "mc = statsmodels.stats.multicomp.MultiComparison(glove['map_mrr'], glove['negative_count'])\n",
    "mc_results = mc.tukeyhsd()\n",
    "print(mc_results)\n",
    "\n",
    "# post-hoc analysis revealed that increasing the negative count had no effect on the map_mrr."
   ]
  },
  {
   "cell_type": "markdown",
   "metadata": {},
   "source": [
    "# Evaluate fastText results"
   ]
  },
  {
   "cell_type": "code",
   "execution_count": 62,
   "metadata": {},
   "outputs": [
    {
     "data": {
      "text/plain": [
       "embeddings        45\n",
       "projections       45\n",
       "lambda_c          45\n",
       "negative_count    45\n",
       "map_mrr           45\n",
       "dtype: int64"
      ]
     },
     "execution_count": 62,
     "metadata": {},
     "output_type": "execute_result"
    }
   ],
   "source": [
    "ft = ft.loc[ft.lambda_c==0,]\n",
    "\n",
    "ft.count()"
   ]
  },
  {
   "cell_type": "code",
   "execution_count": 64,
   "metadata": {},
   "outputs": [
    {
     "name": "stdout",
     "output_type": "stream",
     "text": [
      "Overall model F( 8, 36) =  8.217, p =  0.0000029644\n"
     ]
    }
   ],
   "source": [
    "ft_model = ols('map_mrr ~ C(projections)*C(negative_count)', ft).fit()\n",
    "\n",
    "# Seeing if the overall model is significant\n",
    "print_model(ft_model)\n",
    "\n",
    "# the overall model for the  interaction of projection and negative_count was viable, F(8, 36) = 8.217, p<0.05"
   ]
  },
  {
   "cell_type": "code",
   "execution_count": 65,
   "metadata": {},
   "outputs": [
    {
     "data": {
      "text/html": [
       "<table class=\"simpletable\">\n",
       "<caption>OLS Regression Results</caption>\n",
       "<tr>\n",
       "  <th>Dep. Variable:</th>         <td>map_mrr</td>     <th>  R-squared:         </th> <td>   0.646</td>\n",
       "</tr>\n",
       "<tr>\n",
       "  <th>Model:</th>                   <td>OLS</td>       <th>  Adj. R-squared:    </th> <td>   0.567</td>\n",
       "</tr>\n",
       "<tr>\n",
       "  <th>Method:</th>             <td>Least Squares</td>  <th>  F-statistic:       </th> <td>   8.217</td>\n",
       "</tr>\n",
       "<tr>\n",
       "  <th>Date:</th>             <td>Mon, 18 Mar 2019</td> <th>  Prob (F-statistic):</th> <td>2.96e-06</td>\n",
       "</tr>\n",
       "<tr>\n",
       "  <th>Time:</th>                 <td>23:32:12</td>     <th>  Log-Likelihood:    </th> <td>  170.15</td>\n",
       "</tr>\n",
       "<tr>\n",
       "  <th>No. Observations:</th>      <td>    45</td>      <th>  AIC:               </th> <td>  -322.3</td>\n",
       "</tr>\n",
       "<tr>\n",
       "  <th>Df Residuals:</th>          <td>    36</td>      <th>  BIC:               </th> <td>  -306.0</td>\n",
       "</tr>\n",
       "<tr>\n",
       "  <th>Df Model:</th>              <td>     8</td>      <th>                     </th>     <td> </td>   \n",
       "</tr>\n",
       "<tr>\n",
       "  <th>Covariance Type:</th>      <td>nonrobust</td>    <th>                     </th>     <td> </td>   \n",
       "</tr>\n",
       "</table>\n",
       "<table class=\"simpletable\">\n",
       "<tr>\n",
       "                        <td></td>                          <th>coef</th>     <th>std err</th>      <th>t</th>      <th>P>|t|</th>  <th>[0.025</th>    <th>0.975]</th>  \n",
       "</tr>\n",
       "<tr>\n",
       "  <th>Intercept</th>                                    <td>    0.4276</td> <td>    0.003</td> <td>  155.042</td> <td> 0.000</td> <td>    0.422</td> <td>    0.433</td>\n",
       "</tr>\n",
       "<tr>\n",
       "  <th>C(projections)[T.5]</th>                          <td>    0.0028</td> <td>    0.004</td> <td>    0.723</td> <td> 0.474</td> <td>   -0.005</td> <td>    0.011</td>\n",
       "</tr>\n",
       "<tr>\n",
       "  <th>C(projections)[T.10]</th>                         <td>    0.0061</td> <td>    0.004</td> <td>    1.559</td> <td> 0.128</td> <td>   -0.002</td> <td>    0.014</td>\n",
       "</tr>\n",
       "<tr>\n",
       "  <th>C(negative_count)[T.5]</th>                       <td>    0.0027</td> <td>    0.004</td> <td>    0.682</td> <td> 0.500</td> <td>   -0.005</td> <td>    0.011</td>\n",
       "</tr>\n",
       "<tr>\n",
       "  <th>C(negative_count)[T.10]</th>                      <td>    0.0029</td> <td>    0.004</td> <td>    0.743</td> <td> 0.462</td> <td>   -0.005</td> <td>    0.011</td>\n",
       "</tr>\n",
       "<tr>\n",
       "  <th>C(projections)[T.5]:C(negative_count)[T.5]</th>   <td>    0.0050</td> <td>    0.006</td> <td>    0.910</td> <td> 0.369</td> <td>   -0.006</td> <td>    0.016</td>\n",
       "</tr>\n",
       "<tr>\n",
       "  <th>C(projections)[T.10]:C(negative_count)[T.5]</th>  <td>    0.0085</td> <td>    0.006</td> <td>    1.541</td> <td> 0.132</td> <td>   -0.003</td> <td>    0.020</td>\n",
       "</tr>\n",
       "<tr>\n",
       "  <th>C(projections)[T.5]:C(negative_count)[T.10]</th>  <td>    0.0108</td> <td>    0.006</td> <td>    1.961</td> <td> 0.058</td> <td>   -0.000</td> <td>    0.022</td>\n",
       "</tr>\n",
       "<tr>\n",
       "  <th>C(projections)[T.10]:C(negative_count)[T.10]</th> <td>    0.0130</td> <td>    0.006</td> <td>    2.353</td> <td> 0.024</td> <td>    0.002</td> <td>    0.024</td>\n",
       "</tr>\n",
       "</table>\n",
       "<table class=\"simpletable\">\n",
       "<tr>\n",
       "  <th>Omnibus:</th>       <td> 1.389</td> <th>  Durbin-Watson:     </th> <td>   1.048</td>\n",
       "</tr>\n",
       "<tr>\n",
       "  <th>Prob(Omnibus):</th> <td> 0.499</td> <th>  Jarque-Bera (JB):  </th> <td>   0.582</td>\n",
       "</tr>\n",
       "<tr>\n",
       "  <th>Skew:</th>          <td>-0.014</td> <th>  Prob(JB):          </th> <td>   0.748</td>\n",
       "</tr>\n",
       "<tr>\n",
       "  <th>Kurtosis:</th>      <td> 3.556</td> <th>  Cond. No.          </th> <td>    13.9</td>\n",
       "</tr>\n",
       "</table><br/><br/>Warnings:<br/>[1] Standard Errors assume that the covariance matrix of the errors is correctly specified."
      ],
      "text/plain": [
       "<class 'statsmodels.iolib.summary.Summary'>\n",
       "\"\"\"\n",
       "                            OLS Regression Results                            \n",
       "==============================================================================\n",
       "Dep. Variable:                map_mrr   R-squared:                       0.646\n",
       "Model:                            OLS   Adj. R-squared:                  0.567\n",
       "Method:                 Least Squares   F-statistic:                     8.217\n",
       "Date:                Mon, 18 Mar 2019   Prob (F-statistic):           2.96e-06\n",
       "Time:                        23:32:12   Log-Likelihood:                 170.15\n",
       "No. Observations:                  45   AIC:                            -322.3\n",
       "Df Residuals:                      36   BIC:                            -306.0\n",
       "Df Model:                           8                                         \n",
       "Covariance Type:            nonrobust                                         \n",
       "================================================================================================================\n",
       "                                                   coef    std err          t      P>|t|      [0.025      0.975]\n",
       "----------------------------------------------------------------------------------------------------------------\n",
       "Intercept                                        0.4276      0.003    155.042      0.000       0.422       0.433\n",
       "C(projections)[T.5]                              0.0028      0.004      0.723      0.474      -0.005       0.011\n",
       "C(projections)[T.10]                             0.0061      0.004      1.559      0.128      -0.002       0.014\n",
       "C(negative_count)[T.5]                           0.0027      0.004      0.682      0.500      -0.005       0.011\n",
       "C(negative_count)[T.10]                          0.0029      0.004      0.743      0.462      -0.005       0.011\n",
       "C(projections)[T.5]:C(negative_count)[T.5]       0.0050      0.006      0.910      0.369      -0.006       0.016\n",
       "C(projections)[T.10]:C(negative_count)[T.5]      0.0085      0.006      1.541      0.132      -0.003       0.020\n",
       "C(projections)[T.5]:C(negative_count)[T.10]      0.0108      0.006      1.961      0.058      -0.000       0.022\n",
       "C(projections)[T.10]:C(negative_count)[T.10]     0.0130      0.006      2.353      0.024       0.002       0.024\n",
       "==============================================================================\n",
       "Omnibus:                        1.389   Durbin-Watson:                   1.048\n",
       "Prob(Omnibus):                  0.499   Jarque-Bera (JB):                0.582\n",
       "Skew:                          -0.014   Prob(JB):                        0.748\n",
       "Kurtosis:                       3.556   Cond. No.                         13.9\n",
       "==============================================================================\n",
       "\n",
       "Warnings:\n",
       "[1] Standard Errors assume that the covariance matrix of the errors is correctly specified.\n",
       "\"\"\""
      ]
     },
     "execution_count": 65,
     "metadata": {},
     "output_type": "execute_result"
    }
   ],
   "source": [
    "ft_model.summary()"
   ]
  },
  {
   "cell_type": "code",
   "execution_count": 66,
   "metadata": {},
   "outputs": [
    {
     "data": {
      "text/html": [
       "<div>\n",
       "<style scoped>\n",
       "    .dataframe tbody tr th:only-of-type {\n",
       "        vertical-align: middle;\n",
       "    }\n",
       "\n",
       "    .dataframe tbody tr th {\n",
       "        vertical-align: top;\n",
       "    }\n",
       "\n",
       "    .dataframe thead th {\n",
       "        text-align: right;\n",
       "    }\n",
       "</style>\n",
       "<table border=\"1\" class=\"dataframe\">\n",
       "  <thead>\n",
       "    <tr style=\"text-align: right;\">\n",
       "      <th></th>\n",
       "      <th>sum_sq</th>\n",
       "      <th>mean_sq</th>\n",
       "      <th>df</th>\n",
       "      <th>F</th>\n",
       "      <th>PR(&gt;F)</th>\n",
       "      <th>eta_sq</th>\n",
       "      <th>omega_sq</th>\n",
       "    </tr>\n",
       "  </thead>\n",
       "  <tbody>\n",
       "    <tr>\n",
       "      <th>C(projections)</th>\n",
       "      <td>0.001337</td>\n",
       "      <td>0.000668</td>\n",
       "      <td>2.0</td>\n",
       "      <td>17.569438</td>\n",
       "      <td>0.000005</td>\n",
       "      <td>0.345405</td>\n",
       "      <td>0.322574</td>\n",
       "    </tr>\n",
       "    <tr>\n",
       "      <th>C(negative_count)</th>\n",
       "      <td>0.000911</td>\n",
       "      <td>0.000455</td>\n",
       "      <td>2.0</td>\n",
       "      <td>11.972467</td>\n",
       "      <td>0.000103</td>\n",
       "      <td>0.235372</td>\n",
       "      <td>0.213612</td>\n",
       "    </tr>\n",
       "    <tr>\n",
       "      <th>C(projections):C(negative_count)</th>\n",
       "      <td>0.000253</td>\n",
       "      <td>0.000063</td>\n",
       "      <td>4.0</td>\n",
       "      <td>1.662168</td>\n",
       "      <td>0.180146</td>\n",
       "      <td>0.065354</td>\n",
       "      <td>0.025782</td>\n",
       "    </tr>\n",
       "    <tr>\n",
       "      <th>Residual</th>\n",
       "      <td>0.001369</td>\n",
       "      <td>0.000038</td>\n",
       "      <td>36.0</td>\n",
       "      <td>NaN</td>\n",
       "      <td>NaN</td>\n",
       "      <td>NaN</td>\n",
       "      <td>NaN</td>\n",
       "    </tr>\n",
       "  </tbody>\n",
       "</table>\n",
       "</div>"
      ],
      "text/plain": [
       "                                    sum_sq   mean_sq    df          F  \\\n",
       "C(projections)                    0.001337  0.000668   2.0  17.569438   \n",
       "C(negative_count)                 0.000911  0.000455   2.0  11.972467   \n",
       "C(projections):C(negative_count)  0.000253  0.000063   4.0   1.662168   \n",
       "Residual                          0.001369  0.000038  36.0        NaN   \n",
       "\n",
       "                                    PR(>F)    eta_sq  omega_sq  \n",
       "C(projections)                    0.000005  0.345405  0.322574  \n",
       "C(negative_count)                 0.000103  0.235372  0.213612  \n",
       "C(projections):C(negative_count)  0.180146  0.065354  0.025782  \n",
       "Residual                               NaN       NaN       NaN  "
      ]
     },
     "execution_count": 66,
     "metadata": {},
     "output_type": "execute_result"
    }
   ],
   "source": [
    "# Creates the ANOVA table\n",
    "res = sm.stats.anova_lm(ft_model, typ= 1)\n",
    "anova_table(res)\n",
    "\n",
    "# But upon inspecting the ANOVA table, we found the interaction term itself not to be significant.\n",
    "# we fit a fresh model, that examines the independent effect of projections and negative_Count"
   ]
  },
  {
   "cell_type": "code",
   "execution_count": 68,
   "metadata": {},
   "outputs": [
    {
     "name": "stdout",
     "output_type": "stream",
     "text": [
      "Overall model F( 4, 40) =  13.854, p =  0.0000003547\n"
     ]
    },
    {
     "data": {
      "text/html": [
       "<div>\n",
       "<style scoped>\n",
       "    .dataframe tbody tr th:only-of-type {\n",
       "        vertical-align: middle;\n",
       "    }\n",
       "\n",
       "    .dataframe tbody tr th {\n",
       "        vertical-align: top;\n",
       "    }\n",
       "\n",
       "    .dataframe thead th {\n",
       "        text-align: right;\n",
       "    }\n",
       "</style>\n",
       "<table border=\"1\" class=\"dataframe\">\n",
       "  <thead>\n",
       "    <tr style=\"text-align: right;\">\n",
       "      <th></th>\n",
       "      <th>sum_sq</th>\n",
       "      <th>mean_sq</th>\n",
       "      <th>df</th>\n",
       "      <th>F</th>\n",
       "      <th>PR(&gt;F)</th>\n",
       "      <th>eta_sq</th>\n",
       "      <th>omega_sq</th>\n",
       "    </tr>\n",
       "  </thead>\n",
       "  <tbody>\n",
       "    <tr>\n",
       "      <th>C(projections)</th>\n",
       "      <td>0.001337</td>\n",
       "      <td>0.000668</td>\n",
       "      <td>2.0</td>\n",
       "      <td>16.478297</td>\n",
       "      <td>0.000006</td>\n",
       "      <td>0.345405</td>\n",
       "      <td>0.321078</td>\n",
       "    </tr>\n",
       "    <tr>\n",
       "      <th>C(negative_count)</th>\n",
       "      <td>0.000911</td>\n",
       "      <td>0.000455</td>\n",
       "      <td>2.0</td>\n",
       "      <td>11.228923</td>\n",
       "      <td>0.000135</td>\n",
       "      <td>0.235372</td>\n",
       "      <td>0.212187</td>\n",
       "    </tr>\n",
       "    <tr>\n",
       "      <th>Residual</th>\n",
       "      <td>0.001622</td>\n",
       "      <td>0.000041</td>\n",
       "      <td>40.0</td>\n",
       "      <td>NaN</td>\n",
       "      <td>NaN</td>\n",
       "      <td>NaN</td>\n",
       "      <td>NaN</td>\n",
       "    </tr>\n",
       "  </tbody>\n",
       "</table>\n",
       "</div>"
      ],
      "text/plain": [
       "                     sum_sq   mean_sq    df          F    PR(>F)    eta_sq  \\\n",
       "C(projections)     0.001337  0.000668   2.0  16.478297  0.000006  0.345405   \n",
       "C(negative_count)  0.000911  0.000455   2.0  11.228923  0.000135  0.235372   \n",
       "Residual           0.001622  0.000041  40.0        NaN       NaN       NaN   \n",
       "\n",
       "                   omega_sq  \n",
       "C(projections)     0.321078  \n",
       "C(negative_count)  0.212187  \n",
       "Residual                NaN  "
      ]
     },
     "execution_count": 68,
     "metadata": {},
     "output_type": "execute_result"
    }
   ],
   "source": [
    "ft_model2 = ols('map_mrr ~ C(projections) + C(negative_count)', ft).fit()\n",
    "print_model(ft_model2)\n",
    "\n",
    "res2 = sm.stats.anova_lm(ft_model2, typ= 1)\n",
    "anova_table(res2)\n",
    "\n",
    "# The negative count, and projection factos both had a significant independent effect on map_mrr.\n",
    "# Negative count is significant, F(2, 40) = 11.23, p < 0.05, omega^2 = 0.212\n",
    "# projections are significant, F(2, 40) = 16.48, p < 0.05, omegae^2 = 0.321\n"
   ]
  },
  {
   "cell_type": "code",
   "execution_count": 69,
   "metadata": {},
   "outputs": [
    {
     "name": "stdout",
     "output_type": "stream",
     "text": [
      "Multiple Comparison of Means - Tukey HSD,FWER=0.05\n",
      "============================================\n",
      "group1 group2 meandiff  lower  upper  reject\n",
      "--------------------------------------------\n",
      "  1      5     0.0081   0.0012 0.015   True \n",
      "  1      10    0.0132   0.0064 0.0201  True \n",
      "  5      10    0.0051  -0.0017 0.012  False \n",
      "--------------------------------------------\n"
     ]
    }
   ],
   "source": [
    "mc = statsmodels.stats.multicomp.MultiComparison(ft['map_mrr'], ft['projections'])\n",
    "mc_results = mc.tukeyhsd()\n",
    "print(mc_results)\n",
    "\n",
    "# Increase the projections to either 5 or 10 has a positive, significant effect on map_mrr \n",
    "# but a negligble effect can be observed when increasing projections from 5 to 10\n",
    "\n",
    "# GloVe and fastText word embeddings support CRIM's original findings - increasing projections does improve \n",
    "# results in this case, but introducing more than 5 projections layers increases complexity unnecessarily."
   ]
  },
  {
   "cell_type": "code",
   "execution_count": 70,
   "metadata": {},
   "outputs": [
    {
     "name": "stdout",
     "output_type": "stream",
     "text": [
      "Multiple Comparison of Means - Tukey HSD,FWER=0.05\n",
      "============================================\n",
      "group1 group2 meandiff  lower  upper  reject\n",
      "--------------------------------------------\n",
      "  1      5     0.0072  -0.0003 0.0146 False \n",
      "  1      10    0.0108   0.0034 0.0183  True \n",
      "  5      10    0.0037  -0.0038 0.0111 False \n",
      "--------------------------------------------\n"
     ]
    }
   ],
   "source": [
    "mc = statsmodels.stats.multicomp.MultiComparison(ft['map_mrr'], ft['negative_count'])\n",
    "mc_results = mc.tukeyhsd()\n",
    "print(mc_results)\n",
    "\n",
    "# when training with fastText embeddings, a significant improvement on map_mrr is likely to be observed\n",
    "# when augmenting each positive word-pair with 10 negative samples; \n",
    "# increasing negative samples from 1 to 5 or from 5 to 10 will have negligible effect on the yielded map_mrr.\n"
   ]
  },
  {
   "cell_type": "markdown",
   "metadata": {},
   "source": [
    "# Evaluate difference in embeddings using only baseline "
   ]
  },
  {
   "cell_type": "code",
   "execution_count": 78,
   "metadata": {},
   "outputs": [],
   "source": [
    "all_embeddings = df.loc[(df.lambda_c==0) & (df.negative_count==10),:]\n",
    "\n",
    "#all_embeddings.loc[, ['embeddings','clusters']]"
   ]
  },
  {
   "cell_type": "code",
   "execution_count": 79,
   "metadata": {},
   "outputs": [
    {
     "data": {
      "text/plain": [
       "embeddings        45\n",
       "projections       45\n",
       "lambda_c          45\n",
       "negative_count    45\n",
       "map_mrr           45\n",
       "dtype: int64"
      ]
     },
     "execution_count": 79,
     "metadata": {},
     "output_type": "execute_result"
    }
   ],
   "source": [
    "all_embeddings.head()\n",
    "all_embeddings.count()"
   ]
  },
  {
   "cell_type": "code",
   "execution_count": 80,
   "metadata": {},
   "outputs": [
    {
     "name": "stdout",
     "output_type": "stream",
     "text": [
      "Overall model F( 8, 36) =  147.199, p =  0.0000000000\n"
     ]
    }
   ],
   "source": [
    "all_model = ols('map_mrr ~ C(embeddings)*C(projections)', all_embeddings).fit()\n",
    "\n",
    "# Seeing if the overall model is significant\n",
    "print_model(all_model)\n",
    "\n",
    "# attempting to find an effect in the combination of embeddings, projections, and negative_count led\n",
    "# to an unstable model, where harboured a significant risk of multicollinearity\n",
    "# since our previous example have shown that a negative sample count set to 10, has at worst an insignificant\n",
    "# effect on the models, controlling for embeddings, we investigate the combined effect of embeddings\n",
    "# and projection count.\n",
    "\n",
    "# the overall model is viable, F(8,36) = 147.199, p << 0.05"
   ]
  },
  {
   "cell_type": "code",
   "execution_count": 81,
   "metadata": {},
   "outputs": [
    {
     "data": {
      "text/html": [
       "<table class=\"simpletable\">\n",
       "<caption>OLS Regression Results</caption>\n",
       "<tr>\n",
       "  <th>Dep. Variable:</th>         <td>map_mrr</td>     <th>  R-squared:         </th> <td>   0.970</td>\n",
       "</tr>\n",
       "<tr>\n",
       "  <th>Model:</th>                   <td>OLS</td>       <th>  Adj. R-squared:    </th> <td>   0.964</td>\n",
       "</tr>\n",
       "<tr>\n",
       "  <th>Method:</th>             <td>Least Squares</td>  <th>  F-statistic:       </th> <td>   147.2</td>\n",
       "</tr>\n",
       "<tr>\n",
       "  <th>Date:</th>             <td>Tue, 19 Mar 2019</td> <th>  Prob (F-statistic):</th> <td>3.86e-25</td>\n",
       "</tr>\n",
       "<tr>\n",
       "  <th>Time:</th>                 <td>00:14:21</td>     <th>  Log-Likelihood:    </th> <td>  152.86</td>\n",
       "</tr>\n",
       "<tr>\n",
       "  <th>No. Observations:</th>      <td>    45</td>      <th>  AIC:               </th> <td>  -287.7</td>\n",
       "</tr>\n",
       "<tr>\n",
       "  <th>Df Residuals:</th>          <td>    36</td>      <th>  BIC:               </th> <td>  -271.5</td>\n",
       "</tr>\n",
       "<tr>\n",
       "  <th>Df Model:</th>              <td>     8</td>      <th>                     </th>     <td> </td>   \n",
       "</tr>\n",
       "<tr>\n",
       "  <th>Covariance Type:</th>      <td>nonrobust</td>    <th>                     </th>     <td> </td>   \n",
       "</tr>\n",
       "</table>\n",
       "<table class=\"simpletable\">\n",
       "<tr>\n",
       "                       <td></td>                          <th>coef</th>     <th>std err</th>      <th>t</th>      <th>P>|t|</th>  <th>[0.025</th>    <th>0.975]</th>  \n",
       "</tr>\n",
       "<tr>\n",
       "  <th>Intercept</th>                                   <td>    0.4305</td> <td>    0.004</td> <td>  106.294</td> <td> 0.000</td> <td>    0.422</td> <td>    0.439</td>\n",
       "</tr>\n",
       "<tr>\n",
       "  <th>C(embeddings)[T.glove]</th>                      <td>   -0.1220</td> <td>    0.006</td> <td>  -21.302</td> <td> 0.000</td> <td>   -0.134</td> <td>   -0.110</td>\n",
       "</tr>\n",
       "<tr>\n",
       "  <th>C(embeddings)[T.w2v]</th>                        <td>   -0.0466</td> <td>    0.006</td> <td>   -8.135</td> <td> 0.000</td> <td>   -0.058</td> <td>   -0.035</td>\n",
       "</tr>\n",
       "<tr>\n",
       "  <th>C(projections)[T.5]</th>                         <td>    0.0136</td> <td>    0.006</td> <td>    2.381</td> <td> 0.023</td> <td>    0.002</td> <td>    0.025</td>\n",
       "</tr>\n",
       "<tr>\n",
       "  <th>C(projections)[T.10]</th>                        <td>    0.0191</td> <td>    0.006</td> <td>    3.327</td> <td> 0.002</td> <td>    0.007</td> <td>    0.031</td>\n",
       "</tr>\n",
       "<tr>\n",
       "  <th>C(embeddings)[T.glove]:C(projections)[T.5]</th>  <td>    0.0295</td> <td>    0.008</td> <td>    3.644</td> <td> 0.001</td> <td>    0.013</td> <td>    0.046</td>\n",
       "</tr>\n",
       "<tr>\n",
       "  <th>C(embeddings)[T.w2v]:C(projections)[T.5]</th>    <td>   -0.0304</td> <td>    0.008</td> <td>   -3.758</td> <td> 0.001</td> <td>   -0.047</td> <td>   -0.014</td>\n",
       "</tr>\n",
       "<tr>\n",
       "  <th>C(embeddings)[T.glove]:C(projections)[T.10]</th> <td>    0.0185</td> <td>    0.008</td> <td>    2.281</td> <td> 0.029</td> <td>    0.002</td> <td>    0.035</td>\n",
       "</tr>\n",
       "<tr>\n",
       "  <th>C(embeddings)[T.w2v]:C(projections)[T.10]</th>   <td>   -0.0473</td> <td>    0.008</td> <td>   -5.841</td> <td> 0.000</td> <td>   -0.064</td> <td>   -0.031</td>\n",
       "</tr>\n",
       "</table>\n",
       "<table class=\"simpletable\">\n",
       "<tr>\n",
       "  <th>Omnibus:</th>       <td> 7.852</td> <th>  Durbin-Watson:     </th> <td>   1.809</td>\n",
       "</tr>\n",
       "<tr>\n",
       "  <th>Prob(Omnibus):</th> <td> 0.020</td> <th>  Jarque-Bera (JB):  </th> <td>   6.795</td>\n",
       "</tr>\n",
       "<tr>\n",
       "  <th>Skew:</th>          <td>-0.804</td> <th>  Prob(JB):          </th> <td>  0.0335</td>\n",
       "</tr>\n",
       "<tr>\n",
       "  <th>Kurtosis:</th>      <td> 4.018</td> <th>  Cond. No.          </th> <td>    13.9</td>\n",
       "</tr>\n",
       "</table><br/><br/>Warnings:<br/>[1] Standard Errors assume that the covariance matrix of the errors is correctly specified."
      ],
      "text/plain": [
       "<class 'statsmodels.iolib.summary.Summary'>\n",
       "\"\"\"\n",
       "                            OLS Regression Results                            \n",
       "==============================================================================\n",
       "Dep. Variable:                map_mrr   R-squared:                       0.970\n",
       "Model:                            OLS   Adj. R-squared:                  0.964\n",
       "Method:                 Least Squares   F-statistic:                     147.2\n",
       "Date:                Tue, 19 Mar 2019   Prob (F-statistic):           3.86e-25\n",
       "Time:                        00:14:21   Log-Likelihood:                 152.86\n",
       "No. Observations:                  45   AIC:                            -287.7\n",
       "Df Residuals:                      36   BIC:                            -271.5\n",
       "Df Model:                           8                                         \n",
       "Covariance Type:            nonrobust                                         \n",
       "===============================================================================================================\n",
       "                                                  coef    std err          t      P>|t|      [0.025      0.975]\n",
       "---------------------------------------------------------------------------------------------------------------\n",
       "Intercept                                       0.4305      0.004    106.294      0.000       0.422       0.439\n",
       "C(embeddings)[T.glove]                         -0.1220      0.006    -21.302      0.000      -0.134      -0.110\n",
       "C(embeddings)[T.w2v]                           -0.0466      0.006     -8.135      0.000      -0.058      -0.035\n",
       "C(projections)[T.5]                             0.0136      0.006      2.381      0.023       0.002       0.025\n",
       "C(projections)[T.10]                            0.0191      0.006      3.327      0.002       0.007       0.031\n",
       "C(embeddings)[T.glove]:C(projections)[T.5]      0.0295      0.008      3.644      0.001       0.013       0.046\n",
       "C(embeddings)[T.w2v]:C(projections)[T.5]       -0.0304      0.008     -3.758      0.001      -0.047      -0.014\n",
       "C(embeddings)[T.glove]:C(projections)[T.10]     0.0185      0.008      2.281      0.029       0.002       0.035\n",
       "C(embeddings)[T.w2v]:C(projections)[T.10]      -0.0473      0.008     -5.841      0.000      -0.064      -0.031\n",
       "==============================================================================\n",
       "Omnibus:                        7.852   Durbin-Watson:                   1.809\n",
       "Prob(Omnibus):                  0.020   Jarque-Bera (JB):                6.795\n",
       "Skew:                          -0.804   Prob(JB):                       0.0335\n",
       "Kurtosis:                       4.018   Cond. No.                         13.9\n",
       "==============================================================================\n",
       "\n",
       "Warnings:\n",
       "[1] Standard Errors assume that the covariance matrix of the errors is correctly specified.\n",
       "\"\"\""
      ]
     },
     "execution_count": 81,
     "metadata": {},
     "output_type": "execute_result"
    }
   ],
   "source": [
    "all_model.summary()"
   ]
  },
  {
   "cell_type": "code",
   "execution_count": 82,
   "metadata": {},
   "outputs": [
    {
     "data": {
      "text/html": [
       "<div>\n",
       "<style scoped>\n",
       "    .dataframe tbody tr th:only-of-type {\n",
       "        vertical-align: middle;\n",
       "    }\n",
       "\n",
       "    .dataframe tbody tr th {\n",
       "        vertical-align: top;\n",
       "    }\n",
       "\n",
       "    .dataframe thead th {\n",
       "        text-align: right;\n",
       "    }\n",
       "</style>\n",
       "<table border=\"1\" class=\"dataframe\">\n",
       "  <thead>\n",
       "    <tr style=\"text-align: right;\">\n",
       "      <th></th>\n",
       "      <th>sum_sq</th>\n",
       "      <th>mean_sq</th>\n",
       "      <th>df</th>\n",
       "      <th>F</th>\n",
       "      <th>PR(&gt;F)</th>\n",
       "      <th>eta_sq</th>\n",
       "      <th>omega_sq</th>\n",
       "    </tr>\n",
       "  </thead>\n",
       "  <tbody>\n",
       "    <tr>\n",
       "      <th>C(embeddings)</th>\n",
       "      <td>0.088108</td>\n",
       "      <td>0.044054</td>\n",
       "      <td>2.0</td>\n",
       "      <td>537.041391</td>\n",
       "      <td>1.574158e-27</td>\n",
       "      <td>0.885045</td>\n",
       "      <td>0.882670</td>\n",
       "    </tr>\n",
       "    <tr>\n",
       "      <th>C(projections)</th>\n",
       "      <td>0.001411</td>\n",
       "      <td>0.000705</td>\n",
       "      <td>2.0</td>\n",
       "      <td>8.598063</td>\n",
       "      <td>8.863493e-04</td>\n",
       "      <td>0.014170</td>\n",
       "      <td>0.012511</td>\n",
       "    </tr>\n",
       "    <tr>\n",
       "      <th>C(embeddings):C(projections)</th>\n",
       "      <td>0.007080</td>\n",
       "      <td>0.001770</td>\n",
       "      <td>4.0</td>\n",
       "      <td>21.577992</td>\n",
       "      <td>3.765217e-09</td>\n",
       "      <td>0.071121</td>\n",
       "      <td>0.067769</td>\n",
       "    </tr>\n",
       "    <tr>\n",
       "      <th>Residual</th>\n",
       "      <td>0.002953</td>\n",
       "      <td>0.000082</td>\n",
       "      <td>36.0</td>\n",
       "      <td>NaN</td>\n",
       "      <td>NaN</td>\n",
       "      <td>NaN</td>\n",
       "      <td>NaN</td>\n",
       "    </tr>\n",
       "  </tbody>\n",
       "</table>\n",
       "</div>"
      ],
      "text/plain": [
       "                                sum_sq   mean_sq    df           F  \\\n",
       "C(embeddings)                 0.088108  0.044054   2.0  537.041391   \n",
       "C(projections)                0.001411  0.000705   2.0    8.598063   \n",
       "C(embeddings):C(projections)  0.007080  0.001770   4.0   21.577992   \n",
       "Residual                      0.002953  0.000082  36.0         NaN   \n",
       "\n",
       "                                    PR(>F)    eta_sq  omega_sq  \n",
       "C(embeddings)                 1.574158e-27  0.885045  0.882670  \n",
       "C(projections)                8.863493e-04  0.014170  0.012511  \n",
       "C(embeddings):C(projections)  3.765217e-09  0.071121  0.067769  \n",
       "Residual                               NaN       NaN       NaN  "
      ]
     },
     "execution_count": 82,
     "metadata": {},
     "output_type": "execute_result"
    }
   ],
   "source": [
    "# Creates the ANOVA table\n",
    "res = sm.stats.anova_lm(all_model, typ= 1)\n",
    "anova_table(res)\n",
    "\n",
    "# the combination of embeddings and projections is significant, F(4, 36) = 21.578, p << 0.05, although\n",
    "# the effect is very weak with an omega^2 of 0.07.  On the other hand, the effect of the embeddings independently is\n",
    "# very strong with an omega^2 = 0.88\n",
    "\n",
    "# we opt against risking exploring the embeddings independently since previous test have shown projections to be\n",
    "# often significant when examining embeddings spaces separately."
   ]
  },
  {
   "cell_type": "code",
   "execution_count": null,
   "metadata": {},
   "outputs": [],
   "source": [
    "# interaction effect is significant.  Rerun ANOVA with simple effect.  That is:\n",
    "# embeddings | c = 1\n",
    "# embeddings | c = 5\n",
    "# embeddings | c = 10"
   ]
  },
  {
   "cell_type": "code",
   "execution_count": 84,
   "metadata": {},
   "outputs": [
    {
     "name": "stdout",
     "output_type": "stream",
     "text": [
      "Overall model F( 2, 12) =  297.947, p =  0.0000000001\n"
     ]
    },
    {
     "name": "stderr",
     "output_type": "stream",
     "text": [
      "/users/cborg/jfarrugia/py3_venv/lib/python3.6/site-packages/scipy/stats/stats.py:1416: UserWarning: kurtosistest only valid for n>=20 ... continuing anyway, n=15\n",
      "  \"anyway, n=%i\" % int(n))\n"
     ]
    },
    {
     "data": {
      "text/html": [
       "<table class=\"simpletable\">\n",
       "<caption>OLS Regression Results</caption>\n",
       "<tr>\n",
       "  <th>Dep. Variable:</th>         <td>map_mrr</td>     <th>  R-squared:         </th> <td>   0.980</td>\n",
       "</tr>\n",
       "<tr>\n",
       "  <th>Model:</th>                   <td>OLS</td>       <th>  Adj. R-squared:    </th> <td>   0.977</td>\n",
       "</tr>\n",
       "<tr>\n",
       "  <th>Method:</th>             <td>Least Squares</td>  <th>  F-statistic:       </th> <td>   297.9</td>\n",
       "</tr>\n",
       "<tr>\n",
       "  <th>Date:</th>             <td>Tue, 19 Mar 2019</td> <th>  Prob (F-statistic):</th> <td>5.92e-11</td>\n",
       "</tr>\n",
       "<tr>\n",
       "  <th>Time:</th>                 <td>00:23:09</td>     <th>  Log-Likelihood:    </th> <td>  52.858</td>\n",
       "</tr>\n",
       "<tr>\n",
       "  <th>No. Observations:</th>      <td>    15</td>      <th>  AIC:               </th> <td>  -99.72</td>\n",
       "</tr>\n",
       "<tr>\n",
       "  <th>Df Residuals:</th>          <td>    12</td>      <th>  BIC:               </th> <td>  -97.59</td>\n",
       "</tr>\n",
       "<tr>\n",
       "  <th>Df Model:</th>              <td>     2</td>      <th>                     </th>     <td> </td>   \n",
       "</tr>\n",
       "<tr>\n",
       "  <th>Covariance Type:</th>      <td>nonrobust</td>    <th>                     </th>     <td> </td>   \n",
       "</tr>\n",
       "</table>\n",
       "<table class=\"simpletable\">\n",
       "<tr>\n",
       "             <td></td>               <th>coef</th>     <th>std err</th>      <th>t</th>      <th>P>|t|</th>  <th>[0.025</th>    <th>0.975]</th>  \n",
       "</tr>\n",
       "<tr>\n",
       "  <th>Intercept</th>              <td>    0.4305</td> <td>    0.004</td> <td>  120.693</td> <td> 0.000</td> <td>    0.423</td> <td>    0.438</td>\n",
       "</tr>\n",
       "<tr>\n",
       "  <th>C(embeddings)[T.glove]</th> <td>   -0.1220</td> <td>    0.005</td> <td>  -24.187</td> <td> 0.000</td> <td>   -0.133</td> <td>   -0.111</td>\n",
       "</tr>\n",
       "<tr>\n",
       "  <th>C(embeddings)[T.w2v]</th>   <td>   -0.0466</td> <td>    0.005</td> <td>   -9.237</td> <td> 0.000</td> <td>   -0.058</td> <td>   -0.036</td>\n",
       "</tr>\n",
       "</table>\n",
       "<table class=\"simpletable\">\n",
       "<tr>\n",
       "  <th>Omnibus:</th>       <td> 2.459</td> <th>  Durbin-Watson:     </th> <td>   1.915</td>\n",
       "</tr>\n",
       "<tr>\n",
       "  <th>Prob(Omnibus):</th> <td> 0.292</td> <th>  Jarque-Bera (JB):  </th> <td>   0.615</td>\n",
       "</tr>\n",
       "<tr>\n",
       "  <th>Skew:</th>          <td> 0.234</td> <th>  Prob(JB):          </th> <td>   0.735</td>\n",
       "</tr>\n",
       "<tr>\n",
       "  <th>Kurtosis:</th>      <td> 3.874</td> <th>  Cond. No.          </th> <td>    3.73</td>\n",
       "</tr>\n",
       "</table><br/><br/>Warnings:<br/>[1] Standard Errors assume that the covariance matrix of the errors is correctly specified."
      ],
      "text/plain": [
       "<class 'statsmodels.iolib.summary.Summary'>\n",
       "\"\"\"\n",
       "                            OLS Regression Results                            \n",
       "==============================================================================\n",
       "Dep. Variable:                map_mrr   R-squared:                       0.980\n",
       "Model:                            OLS   Adj. R-squared:                  0.977\n",
       "Method:                 Least Squares   F-statistic:                     297.9\n",
       "Date:                Tue, 19 Mar 2019   Prob (F-statistic):           5.92e-11\n",
       "Time:                        00:23:09   Log-Likelihood:                 52.858\n",
       "No. Observations:                  15   AIC:                            -99.72\n",
       "Df Residuals:                      12   BIC:                            -97.59\n",
       "Df Model:                           2                                         \n",
       "Covariance Type:            nonrobust                                         \n",
       "==========================================================================================\n",
       "                             coef    std err          t      P>|t|      [0.025      0.975]\n",
       "------------------------------------------------------------------------------------------\n",
       "Intercept                  0.4305      0.004    120.693      0.000       0.423       0.438\n",
       "C(embeddings)[T.glove]    -0.1220      0.005    -24.187      0.000      -0.133      -0.111\n",
       "C(embeddings)[T.w2v]      -0.0466      0.005     -9.237      0.000      -0.058      -0.036\n",
       "==============================================================================\n",
       "Omnibus:                        2.459   Durbin-Watson:                   1.915\n",
       "Prob(Omnibus):                  0.292   Jarque-Bera (JB):                0.615\n",
       "Skew:                           0.234   Prob(JB):                        0.735\n",
       "Kurtosis:                       3.874   Cond. No.                         3.73\n",
       "==============================================================================\n",
       "\n",
       "Warnings:\n",
       "[1] Standard Errors assume that the covariance matrix of the errors is correctly specified.\n",
       "\"\"\""
      ]
     },
     "execution_count": 84,
     "metadata": {},
     "output_type": "execute_result"
    }
   ],
   "source": [
    "cl_1 = all_embeddings.loc[all_embeddings.projections == 1,]\n",
    "cl_1_model = ols('map_mrr ~ C(embeddings)', cl_1).fit()\n",
    "\n",
    "# Seeing if the overall model is significant\n",
    "print_model(cl_1_model)\n",
    "cl_1_model.summary()"
   ]
  },
  {
   "cell_type": "code",
   "execution_count": 85,
   "metadata": {},
   "outputs": [
    {
     "data": {
      "text/html": [
       "<div>\n",
       "<style scoped>\n",
       "    .dataframe tbody tr th:only-of-type {\n",
       "        vertical-align: middle;\n",
       "    }\n",
       "\n",
       "    .dataframe tbody tr th {\n",
       "        vertical-align: top;\n",
       "    }\n",
       "\n",
       "    .dataframe thead th {\n",
       "        text-align: right;\n",
       "    }\n",
       "</style>\n",
       "<table border=\"1\" class=\"dataframe\">\n",
       "  <thead>\n",
       "    <tr style=\"text-align: right;\">\n",
       "      <th></th>\n",
       "      <th>sum_sq</th>\n",
       "      <th>mean_sq</th>\n",
       "      <th>df</th>\n",
       "      <th>F</th>\n",
       "      <th>PR(&gt;F)</th>\n",
       "      <th>eta_sq</th>\n",
       "      <th>omega_sq</th>\n",
       "    </tr>\n",
       "  </thead>\n",
       "  <tbody>\n",
       "    <tr>\n",
       "      <th>C(embeddings)</th>\n",
       "      <td>0.037914</td>\n",
       "      <td>0.018957</td>\n",
       "      <td>2.0</td>\n",
       "      <td>297.947076</td>\n",
       "      <td>5.917247e-11</td>\n",
       "      <td>0.98026</td>\n",
       "      <td>0.975365</td>\n",
       "    </tr>\n",
       "    <tr>\n",
       "      <th>Residual</th>\n",
       "      <td>0.000764</td>\n",
       "      <td>0.000064</td>\n",
       "      <td>12.0</td>\n",
       "      <td>NaN</td>\n",
       "      <td>NaN</td>\n",
       "      <td>NaN</td>\n",
       "      <td>NaN</td>\n",
       "    </tr>\n",
       "  </tbody>\n",
       "</table>\n",
       "</div>"
      ],
      "text/plain": [
       "                 sum_sq   mean_sq    df           F        PR(>F)   eta_sq  \\\n",
       "C(embeddings)  0.037914  0.018957   2.0  297.947076  5.917247e-11  0.98026   \n",
       "Residual       0.000764  0.000064  12.0         NaN           NaN      NaN   \n",
       "\n",
       "               omega_sq  \n",
       "C(embeddings)  0.975365  \n",
       "Residual            NaN  "
      ]
     },
     "execution_count": 85,
     "metadata": {},
     "output_type": "execute_result"
    }
   ],
   "source": [
    "res = sm.stats.anova_lm(cl_1_model, typ= 1)\n",
    "anova_table(res)\n",
    "\n",
    "# when examining the embeddings factor on single-cluster models, we found map_mrr to be \n",
    "# heavily influenced by the choice of embeddings, F(2, 12)= 297.95 p << 0.05, omega^2 = 0.97"
   ]
  },
  {
   "cell_type": "code",
   "execution_count": 87,
   "metadata": {},
   "outputs": [
    {
     "name": "stdout",
     "output_type": "stream",
     "text": [
      "Multiple Comparison of Means - Tukey HSD,FWER=0.05\n",
      "=============================================\n",
      "group1 group2 meandiff  lower   upper  reject\n",
      "---------------------------------------------\n",
      "  ft   glove   -0.122  -0.1355 -0.1086  True \n",
      "  ft    w2v   -0.0466  -0.0601 -0.0331  True \n",
      "glove   w2v    0.0754   0.062   0.0889  True \n",
      "---------------------------------------------\n"
     ]
    }
   ],
   "source": [
    "mc = statsmodels.stats.multicomp.MultiComparison(cl_1['map_mrr'], cl_1['embeddings'])\n",
    "mc_results = mc.tukeyhsd()\n",
    "print(mc_results)\n",
    "\n",
    "# post-hoc analysis further revealed that fastText embeddings had a positive, significant effect on map_mrr\n",
    "# The mean difference between fastText and GloVe was estimated at 0.122 points, in favour fastText\n",
    "# fastText embeddings will lead to a higher map_mrr than word2vec embeddings would but word2vec vectors\n",
    "# are also superior to GloVe.\n",
    "\n",
    "# In short, opting to train a CRIM model on GloVe embeddings seems to be a bad idea."
   ]
  },
  {
   "cell_type": "code",
   "execution_count": 99,
   "metadata": {
    "scrolled": true
   },
   "outputs": [
    {
     "name": "stdout",
     "output_type": "stream",
     "text": [
      "Overall model F( 2, 12) =  163.238, p =  0.0000000020\n"
     ]
    },
    {
     "name": "stderr",
     "output_type": "stream",
     "text": [
      "/users/cborg/jfarrugia/py3_venv/lib/python3.6/site-packages/scipy/stats/stats.py:1416: UserWarning: kurtosistest only valid for n>=20 ... continuing anyway, n=15\n",
      "  \"anyway, n=%i\" % int(n))\n"
     ]
    },
    {
     "data": {
      "text/html": [
       "<table class=\"simpletable\">\n",
       "<caption>OLS Regression Results</caption>\n",
       "<tr>\n",
       "  <th>Dep. Variable:</th>         <td>map_mrr</td>     <th>  R-squared:         </th> <td>   0.965</td>\n",
       "</tr>\n",
       "<tr>\n",
       "  <th>Model:</th>                   <td>OLS</td>       <th>  Adj. R-squared:    </th> <td>   0.959</td>\n",
       "</tr>\n",
       "<tr>\n",
       "  <th>Method:</th>             <td>Least Squares</td>  <th>  F-statistic:       </th> <td>   163.2</td>\n",
       "</tr>\n",
       "<tr>\n",
       "  <th>Date:</th>             <td>Tue, 19 Mar 2019</td> <th>  Prob (F-statistic):</th> <td>1.99e-09</td>\n",
       "</tr>\n",
       "<tr>\n",
       "  <th>Time:</th>                 <td>00:36:05</td>     <th>  Log-Likelihood:    </th> <td>  51.605</td>\n",
       "</tr>\n",
       "<tr>\n",
       "  <th>No. Observations:</th>      <td>    15</td>      <th>  AIC:               </th> <td>  -97.21</td>\n",
       "</tr>\n",
       "<tr>\n",
       "  <th>Df Residuals:</th>          <td>    12</td>      <th>  BIC:               </th> <td>  -95.09</td>\n",
       "</tr>\n",
       "<tr>\n",
       "  <th>Df Model:</th>              <td>     2</td>      <th>                     </th>     <td> </td>   \n",
       "</tr>\n",
       "<tr>\n",
       "  <th>Covariance Type:</th>      <td>nonrobust</td>    <th>                     </th>     <td> </td>   \n",
       "</tr>\n",
       "</table>\n",
       "<table class=\"simpletable\">\n",
       "<tr>\n",
       "             <td></td>               <th>coef</th>     <th>std err</th>      <th>t</th>      <th>P>|t|</th>  <th>[0.025</th>    <th>0.975]</th>  \n",
       "</tr>\n",
       "<tr>\n",
       "  <th>Intercept</th>              <td>    0.4442</td> <td>    0.004</td> <td>  114.535</td> <td> 0.000</td> <td>    0.436</td> <td>    0.453</td>\n",
       "</tr>\n",
       "<tr>\n",
       "  <th>C(embeddings)[T.glove]</th> <td>   -0.0925</td> <td>    0.005</td> <td>  -16.866</td> <td> 0.000</td> <td>   -0.104</td> <td>   -0.081</td>\n",
       "</tr>\n",
       "<tr>\n",
       "  <th>C(embeddings)[T.w2v]</th>   <td>   -0.0770</td> <td>    0.005</td> <td>  -14.047</td> <td> 0.000</td> <td>   -0.089</td> <td>   -0.065</td>\n",
       "</tr>\n",
       "</table>\n",
       "<table class=\"simpletable\">\n",
       "<tr>\n",
       "  <th>Omnibus:</th>       <td>10.517</td> <th>  Durbin-Watson:     </th> <td>   2.152</td>\n",
       "</tr>\n",
       "<tr>\n",
       "  <th>Prob(Omnibus):</th> <td> 0.005</td> <th>  Jarque-Bera (JB):  </th> <td>   6.888</td>\n",
       "</tr>\n",
       "<tr>\n",
       "  <th>Skew:</th>          <td>-1.228</td> <th>  Prob(JB):          </th> <td>  0.0319</td>\n",
       "</tr>\n",
       "<tr>\n",
       "  <th>Kurtosis:</th>      <td> 5.233</td> <th>  Cond. No.          </th> <td>    3.73</td>\n",
       "</tr>\n",
       "</table><br/><br/>Warnings:<br/>[1] Standard Errors assume that the covariance matrix of the errors is correctly specified."
      ],
      "text/plain": [
       "<class 'statsmodels.iolib.summary.Summary'>\n",
       "\"\"\"\n",
       "                            OLS Regression Results                            \n",
       "==============================================================================\n",
       "Dep. Variable:                map_mrr   R-squared:                       0.965\n",
       "Model:                            OLS   Adj. R-squared:                  0.959\n",
       "Method:                 Least Squares   F-statistic:                     163.2\n",
       "Date:                Tue, 19 Mar 2019   Prob (F-statistic):           1.99e-09\n",
       "Time:                        00:36:05   Log-Likelihood:                 51.605\n",
       "No. Observations:                  15   AIC:                            -97.21\n",
       "Df Residuals:                      12   BIC:                            -95.09\n",
       "Df Model:                           2                                         \n",
       "Covariance Type:            nonrobust                                         \n",
       "==========================================================================================\n",
       "                             coef    std err          t      P>|t|      [0.025      0.975]\n",
       "------------------------------------------------------------------------------------------\n",
       "Intercept                  0.4442      0.004    114.535      0.000       0.436       0.453\n",
       "C(embeddings)[T.glove]    -0.0925      0.005    -16.866      0.000      -0.104      -0.081\n",
       "C(embeddings)[T.w2v]      -0.0770      0.005    -14.047      0.000      -0.089      -0.065\n",
       "==============================================================================\n",
       "Omnibus:                       10.517   Durbin-Watson:                   2.152\n",
       "Prob(Omnibus):                  0.005   Jarque-Bera (JB):                6.888\n",
       "Skew:                          -1.228   Prob(JB):                       0.0319\n",
       "Kurtosis:                       5.233   Cond. No.                         3.73\n",
       "==============================================================================\n",
       "\n",
       "Warnings:\n",
       "[1] Standard Errors assume that the covariance matrix of the errors is correctly specified.\n",
       "\"\"\""
      ]
     },
     "execution_count": 99,
     "metadata": {},
     "output_type": "execute_result"
    }
   ],
   "source": [
    "cl_5 = all_embeddings.loc[all_embeddings.projections == 5,]\n",
    "cl_5_model = ols('map_mrr ~ C(embeddings)', cl_5).fit()\n",
    "\n",
    "# Seeing if the overall model is significant\n",
    "print_model(cl_5_model)\n",
    "cl_5_model.summary()\n",
    "\n",
    "# for reason not entirely clear, the ANOVA analyis on the effect of embeddings on 5-projection models\n",
    "# defied the conditions for ANOVA, specifically p < 0.05 was returned by the Omnibus test and Jarque-Bera\n",
    "# tests which test for homogeniety of variance and normality respectively."
   ]
  },
  {
   "cell_type": "code",
   "execution_count": 101,
   "metadata": {},
   "outputs": [
    {
     "data": {
      "text/plain": [
       "count    15.000000\n",
       "mean      0.387667\n",
       "std       0.042639\n",
       "min       0.344700\n",
       "25%       0.352050\n",
       "50%       0.372800\n",
       "75%       0.440700\n",
       "max       0.450100\n",
       "Name: map_mrr, dtype: float64"
      ]
     },
     "execution_count": 101,
     "metadata": {},
     "output_type": "execute_result"
    }
   ],
   "source": [
    "cl_5.map_mrr.describe()"
   ]
  },
  {
   "cell_type": "code",
   "execution_count": 102,
   "metadata": {},
   "outputs": [
    {
     "data": {
      "text/html": [
       "<div>\n",
       "<style scoped>\n",
       "    .dataframe tbody tr th:only-of-type {\n",
       "        vertical-align: middle;\n",
       "    }\n",
       "\n",
       "    .dataframe tbody tr th {\n",
       "        vertical-align: top;\n",
       "    }\n",
       "\n",
       "    .dataframe thead th {\n",
       "        text-align: right;\n",
       "    }\n",
       "</style>\n",
       "<table border=\"1\" class=\"dataframe\">\n",
       "  <thead>\n",
       "    <tr style=\"text-align: right;\">\n",
       "      <th></th>\n",
       "      <th>sum_sq</th>\n",
       "      <th>mean_sq</th>\n",
       "      <th>df</th>\n",
       "      <th>F</th>\n",
       "      <th>PR(&gt;F)</th>\n",
       "      <th>eta_sq</th>\n",
       "      <th>omega_sq</th>\n",
       "    </tr>\n",
       "  </thead>\n",
       "  <tbody>\n",
       "    <tr>\n",
       "      <th>C(embeddings)</th>\n",
       "      <td>0.024551</td>\n",
       "      <td>0.012275</td>\n",
       "      <td>2.0</td>\n",
       "      <td>163.238243</td>\n",
       "      <td>1.985713e-09</td>\n",
       "      <td>0.964547</td>\n",
       "      <td>0.955814</td>\n",
       "    </tr>\n",
       "    <tr>\n",
       "      <th>Residual</th>\n",
       "      <td>0.000902</td>\n",
       "      <td>0.000075</td>\n",
       "      <td>12.0</td>\n",
       "      <td>NaN</td>\n",
       "      <td>NaN</td>\n",
       "      <td>NaN</td>\n",
       "      <td>NaN</td>\n",
       "    </tr>\n",
       "  </tbody>\n",
       "</table>\n",
       "</div>"
      ],
      "text/plain": [
       "                 sum_sq   mean_sq    df           F        PR(>F)    eta_sq  \\\n",
       "C(embeddings)  0.024551  0.012275   2.0  163.238243  1.985713e-09  0.964547   \n",
       "Residual       0.000902  0.000075  12.0         NaN           NaN       NaN   \n",
       "\n",
       "               omega_sq  \n",
       "C(embeddings)  0.955814  \n",
       "Residual            NaN  "
      ]
     },
     "execution_count": 102,
     "metadata": {},
     "output_type": "execute_result"
    }
   ],
   "source": [
    "res = sm.stats.anova_lm(cl_5_model, typ= 1)\n",
    "anova_table(res)\n",
    "\n",
    "# ANOVA is robust to violations of normality and homogeneity of variance, as long as the group sizes are\n",
    "# equivalent, which they are, since each contain 5 samples collected from our 5-fold cross-validation \n",
    "# experiments.\n",
    "# A similarly strong effect of the embeddings factor on mrr_map was also estimated by the ANOVA model \n",
    "# in this case, F(2, 12) = 163.24, p << 0.05, omega^2 = 0.956"
   ]
  },
  {
   "cell_type": "code",
   "execution_count": 103,
   "metadata": {},
   "outputs": [
    {
     "name": "stdout",
     "output_type": "stream",
     "text": [
      "Multiple Comparison of Means - Tukey HSD,FWER=0.05\n",
      "=============================================\n",
      "group1 group2 meandiff  lower   upper  reject\n",
      "---------------------------------------------\n",
      "  ft   glove  -0.0925  -0.1071 -0.0779  True \n",
      "  ft    w2v    -0.077  -0.0917 -0.0624  True \n",
      "glove   w2v    0.0155   0.0008  0.0301  True \n",
      "---------------------------------------------\n"
     ]
    }
   ],
   "source": [
    "mc = statsmodels.stats.multicomp.MultiComparison(cl_5['map_mrr'], cl_5['embeddings'])\n",
    "mc_results = mc.tukeyhsd()\n",
    "print(mc_results)\n",
    "\n",
    "# Post-hoc analysis once again reveals the positive influence of fastText embeddings\n",
    "# and the negative influence of GloVe on the 5-projection CRIM setup."
   ]
  },
  {
   "cell_type": "code",
   "execution_count": 105,
   "metadata": {},
   "outputs": [
    {
     "name": "stdout",
     "output_type": "stream",
     "text": [
      "Overall model F( 2, 12) =  152.531, p =  0.0000000029\n"
     ]
    },
    {
     "name": "stderr",
     "output_type": "stream",
     "text": [
      "/users/cborg/jfarrugia/py3_venv/lib/python3.6/site-packages/scipy/stats/stats.py:1416: UserWarning: kurtosistest only valid for n>=20 ... continuing anyway, n=15\n",
      "  \"anyway, n=%i\" % int(n))\n"
     ]
    },
    {
     "data": {
      "text/html": [
       "<table class=\"simpletable\">\n",
       "<caption>OLS Regression Results</caption>\n",
       "<tr>\n",
       "  <th>Dep. Variable:</th>         <td>map_mrr</td>     <th>  R-squared:         </th> <td>   0.962</td>\n",
       "</tr>\n",
       "<tr>\n",
       "  <th>Model:</th>                   <td>OLS</td>       <th>  Adj. R-squared:    </th> <td>   0.956</td>\n",
       "</tr>\n",
       "<tr>\n",
       "  <th>Method:</th>             <td>Least Squares</td>  <th>  F-statistic:       </th> <td>   152.5</td>\n",
       "</tr>\n",
       "<tr>\n",
       "  <th>Date:</th>             <td>Tue, 19 Mar 2019</td> <th>  Prob (F-statistic):</th> <td>2.94e-09</td>\n",
       "</tr>\n",
       "<tr>\n",
       "  <th>Time:</th>                 <td>00:49:01</td>     <th>  Log-Likelihood:    </th> <td>  48.941</td>\n",
       "</tr>\n",
       "<tr>\n",
       "  <th>No. Observations:</th>      <td>    15</td>      <th>  AIC:               </th> <td>  -91.88</td>\n",
       "</tr>\n",
       "<tr>\n",
       "  <th>Df Residuals:</th>          <td>    12</td>      <th>  BIC:               </th> <td>  -89.76</td>\n",
       "</tr>\n",
       "<tr>\n",
       "  <th>Df Model:</th>              <td>     2</td>      <th>                     </th>     <td> </td>   \n",
       "</tr>\n",
       "<tr>\n",
       "  <th>Covariance Type:</th>      <td>nonrobust</td>    <th>                     </th>     <td> </td>   \n",
       "</tr>\n",
       "</table>\n",
       "<table class=\"simpletable\">\n",
       "<tr>\n",
       "             <td></td>               <th>coef</th>     <th>std err</th>      <th>t</th>      <th>P>|t|</th>  <th>[0.025</th>    <th>0.975]</th>  \n",
       "</tr>\n",
       "<tr>\n",
       "  <th>Intercept</th>              <td>    0.4496</td> <td>    0.005</td> <td>   97.068</td> <td> 0.000</td> <td>    0.440</td> <td>    0.460</td>\n",
       "</tr>\n",
       "<tr>\n",
       "  <th>C(embeddings)[T.glove]</th> <td>   -0.1035</td> <td>    0.007</td> <td>  -15.807</td> <td> 0.000</td> <td>   -0.118</td> <td>   -0.089</td>\n",
       "</tr>\n",
       "<tr>\n",
       "  <th>C(embeddings)[T.w2v]</th>   <td>   -0.0939</td> <td>    0.007</td> <td>  -14.338</td> <td> 0.000</td> <td>   -0.108</td> <td>   -0.080</td>\n",
       "</tr>\n",
       "</table>\n",
       "<table class=\"simpletable\">\n",
       "<tr>\n",
       "  <th>Omnibus:</th>       <td> 4.288</td> <th>  Durbin-Watson:     </th> <td>   2.453</td>\n",
       "</tr>\n",
       "<tr>\n",
       "  <th>Prob(Omnibus):</th> <td> 0.117</td> <th>  Jarque-Bera (JB):  </th> <td>   2.507</td>\n",
       "</tr>\n",
       "<tr>\n",
       "  <th>Skew:</th>          <td>-1.000</td> <th>  Prob(JB):          </th> <td>   0.285</td>\n",
       "</tr>\n",
       "<tr>\n",
       "  <th>Kurtosis:</th>      <td> 3.114</td> <th>  Cond. No.          </th> <td>    3.73</td>\n",
       "</tr>\n",
       "</table><br/><br/>Warnings:<br/>[1] Standard Errors assume that the covariance matrix of the errors is correctly specified."
      ],
      "text/plain": [
       "<class 'statsmodels.iolib.summary.Summary'>\n",
       "\"\"\"\n",
       "                            OLS Regression Results                            \n",
       "==============================================================================\n",
       "Dep. Variable:                map_mrr   R-squared:                       0.962\n",
       "Model:                            OLS   Adj. R-squared:                  0.956\n",
       "Method:                 Least Squares   F-statistic:                     152.5\n",
       "Date:                Tue, 19 Mar 2019   Prob (F-statistic):           2.94e-09\n",
       "Time:                        00:49:01   Log-Likelihood:                 48.941\n",
       "No. Observations:                  15   AIC:                            -91.88\n",
       "Df Residuals:                      12   BIC:                            -89.76\n",
       "Df Model:                           2                                         \n",
       "Covariance Type:            nonrobust                                         \n",
       "==========================================================================================\n",
       "                             coef    std err          t      P>|t|      [0.025      0.975]\n",
       "------------------------------------------------------------------------------------------\n",
       "Intercept                  0.4496      0.005     97.068      0.000       0.440       0.460\n",
       "C(embeddings)[T.glove]    -0.1035      0.007    -15.807      0.000      -0.118      -0.089\n",
       "C(embeddings)[T.w2v]      -0.0939      0.007    -14.338      0.000      -0.108      -0.080\n",
       "==============================================================================\n",
       "Omnibus:                        4.288   Durbin-Watson:                   2.453\n",
       "Prob(Omnibus):                  0.117   Jarque-Bera (JB):                2.507\n",
       "Skew:                          -1.000   Prob(JB):                        0.285\n",
       "Kurtosis:                       3.114   Cond. No.                         3.73\n",
       "==============================================================================\n",
       "\n",
       "Warnings:\n",
       "[1] Standard Errors assume that the covariance matrix of the errors is correctly specified.\n",
       "\"\"\""
      ]
     },
     "execution_count": 105,
     "metadata": {},
     "output_type": "execute_result"
    }
   ],
   "source": [
    "cl_10 = all_embeddings.loc[all_embeddings.projections == 10,]\n",
    "cl_10_model = ols('map_mrr ~ C(embeddings)', cl_10).fit()\n",
    "\n",
    "# Seeing if the overall model is significant\n",
    "print_model(cl_10_model)\n",
    "cl_10_model.summary()"
   ]
  },
  {
   "cell_type": "code",
   "execution_count": 106,
   "metadata": {},
   "outputs": [
    {
     "data": {
      "text/html": [
       "<div>\n",
       "<style scoped>\n",
       "    .dataframe tbody tr th:only-of-type {\n",
       "        vertical-align: middle;\n",
       "    }\n",
       "\n",
       "    .dataframe tbody tr th {\n",
       "        vertical-align: top;\n",
       "    }\n",
       "\n",
       "    .dataframe thead th {\n",
       "        text-align: right;\n",
       "    }\n",
       "</style>\n",
       "<table border=\"1\" class=\"dataframe\">\n",
       "  <thead>\n",
       "    <tr style=\"text-align: right;\">\n",
       "      <th></th>\n",
       "      <th>sum_sq</th>\n",
       "      <th>mean_sq</th>\n",
       "      <th>df</th>\n",
       "      <th>F</th>\n",
       "      <th>PR(&gt;F)</th>\n",
       "      <th>eta_sq</th>\n",
       "      <th>omega_sq</th>\n",
       "    </tr>\n",
       "  </thead>\n",
       "  <tbody>\n",
       "    <tr>\n",
       "      <th>C(embeddings)</th>\n",
       "      <td>0.032723</td>\n",
       "      <td>0.016362</td>\n",
       "      <td>2.0</td>\n",
       "      <td>152.530588</td>\n",
       "      <td>2.939200e-09</td>\n",
       "      <td>0.962152</td>\n",
       "      <td>0.952839</td>\n",
       "    </tr>\n",
       "    <tr>\n",
       "      <th>Residual</th>\n",
       "      <td>0.001287</td>\n",
       "      <td>0.000107</td>\n",
       "      <td>12.0</td>\n",
       "      <td>NaN</td>\n",
       "      <td>NaN</td>\n",
       "      <td>NaN</td>\n",
       "      <td>NaN</td>\n",
       "    </tr>\n",
       "  </tbody>\n",
       "</table>\n",
       "</div>"
      ],
      "text/plain": [
       "                 sum_sq   mean_sq    df           F        PR(>F)    eta_sq  \\\n",
       "C(embeddings)  0.032723  0.016362   2.0  152.530588  2.939200e-09  0.962152   \n",
       "Residual       0.001287  0.000107  12.0         NaN           NaN       NaN   \n",
       "\n",
       "               omega_sq  \n",
       "C(embeddings)  0.952839  \n",
       "Residual            NaN  "
      ]
     },
     "execution_count": 106,
     "metadata": {},
     "output_type": "execute_result"
    }
   ],
   "source": [
    "res = sm.stats.anova_lm(cl_10_model, typ= 1)\n",
    "anova_table(res)\n",
    "\n",
    "# The effect of the embeddings on the mapp_mrr yielded by 10-projection model is also strong, F(2,12)=152.53\n",
    "# p << 0.05 and omega^2 = 0.95"
   ]
  },
  {
   "cell_type": "code",
   "execution_count": 107,
   "metadata": {},
   "outputs": [
    {
     "name": "stdout",
     "output_type": "stream",
     "text": [
      "Multiple Comparison of Means - Tukey HSD,FWER=0.05\n",
      "=============================================\n",
      "group1 group2 meandiff  lower   upper  reject\n",
      "---------------------------------------------\n",
      "  ft   glove  -0.1035   -0.121 -0.0861  True \n",
      "  ft    w2v   -0.0939  -0.1114 -0.0765  True \n",
      "glove   w2v    0.0096  -0.0078  0.0271 False \n",
      "---------------------------------------------\n"
     ]
    }
   ],
   "source": [
    "mc = statsmodels.stats.multicomp.MultiComparison(cl_10['map_mrr'], cl_10['embeddings'])\n",
    "mc_results = mc.tukeyhsd()\n",
    "print(mc_results)\n",
    "\n",
    "# fastText embeddings are expected to increase the mean map_mrr 10.35 points and 9.39 against \n",
    "# GloVe and word2vec respectively\n",
    "# However, the 10-projection w2v CRIM model was sufficiently poor to be indistinguishable from \n",
    "# a 10-projection model trained on GloVe word vectors.\n",
    "\n",
    "# The poor performance of GloVe, is probably due to embeddings training algorithms makes use of \n",
    "# the dot product operator.  In word2vec and fastText, dot-product is used to estimate the similarity\n",
    "# of the context word and target word (and vice versa).  In GloVe the objective function\n",
    "# encourages the dot product of word vectors to approximate the log of the co-occurrence probability \n",
    "# of the words."
   ]
  },
  {
   "cell_type": "markdown",
   "metadata": {},
   "source": [
    "# Examine effect of embeddings  on Yamane"
   ]
  },
  {
   "cell_type": "code",
   "execution_count": 108,
   "metadata": {},
   "outputs": [],
   "source": [
    "# H0 = there is no difference of means between the best CRIM model and the best Yamane model\n",
    "\n",
    "df2 = pd.read_csv('upload_bce_harmonic_ANOVA.txt', header=0, sep=\"\\t\")\n",
    "df2.drop('metric',axis=1,inplace=True)"
   ]
  },
  {
   "cell_type": "code",
   "execution_count": 110,
   "metadata": {},
   "outputs": [],
   "source": [
    "df2 = df2.loc[df2.method == 'yamane',]\n",
    "df2.drop('method', axis=1, inplace=True)"
   ]
  },
  {
   "cell_type": "code",
   "execution_count": 112,
   "metadata": {},
   "outputs": [],
   "source": [
    "df2 = pd.melt(df2.reset_index(), id_vars=['embeddings', 'projections','lambda_c','negative_count'], value_vars=['hm_fold1','hm_fold2','hm_fold3','hm_fold4','hm_fold5'])\n",
    "df2.drop('variable',axis=1,inplace=True)\n",
    "\n",
    "# rename value to actual metric (our dependent variable)\n",
    "df2.rename(columns={'value':'map_mrr'}, inplace=True)"
   ]
  },
  {
   "cell_type": "code",
   "execution_count": 117,
   "metadata": {},
   "outputs": [
    {
     "name": "stdout",
     "output_type": "stream",
     "text": [
      "Overall model F( 2, 12) =  33.279, p =  0.0000127033\n"
     ]
    },
    {
     "name": "stderr",
     "output_type": "stream",
     "text": [
      "/users/cborg/jfarrugia/py3_venv/lib/python3.6/site-packages/scipy/stats/stats.py:1416: UserWarning: kurtosistest only valid for n>=20 ... continuing anyway, n=15\n",
      "  \"anyway, n=%i\" % int(n))\n"
     ]
    },
    {
     "data": {
      "text/html": [
       "<table class=\"simpletable\">\n",
       "<caption>OLS Regression Results</caption>\n",
       "<tr>\n",
       "  <th>Dep. Variable:</th>         <td>map_mrr</td>     <th>  R-squared:         </th> <td>   0.847</td>\n",
       "</tr>\n",
       "<tr>\n",
       "  <th>Model:</th>                   <td>OLS</td>       <th>  Adj. R-squared:    </th> <td>   0.822</td>\n",
       "</tr>\n",
       "<tr>\n",
       "  <th>Method:</th>             <td>Least Squares</td>  <th>  F-statistic:       </th> <td>   33.28</td>\n",
       "</tr>\n",
       "<tr>\n",
       "  <th>Date:</th>             <td>Tue, 19 Mar 2019</td> <th>  Prob (F-statistic):</th> <td>1.27e-05</td>\n",
       "</tr>\n",
       "<tr>\n",
       "  <th>Time:</th>                 <td>01:12:07</td>     <th>  Log-Likelihood:    </th> <td>  38.146</td>\n",
       "</tr>\n",
       "<tr>\n",
       "  <th>No. Observations:</th>      <td>    15</td>      <th>  AIC:               </th> <td>  -70.29</td>\n",
       "</tr>\n",
       "<tr>\n",
       "  <th>Df Residuals:</th>          <td>    12</td>      <th>  BIC:               </th> <td>  -68.17</td>\n",
       "</tr>\n",
       "<tr>\n",
       "  <th>Df Model:</th>              <td>     2</td>      <th>                     </th>     <td> </td>   \n",
       "</tr>\n",
       "<tr>\n",
       "  <th>Covariance Type:</th>      <td>nonrobust</td>    <th>                     </th>     <td> </td>   \n",
       "</tr>\n",
       "</table>\n",
       "<table class=\"simpletable\">\n",
       "<tr>\n",
       "             <td></td>               <th>coef</th>     <th>std err</th>      <th>t</th>      <th>P>|t|</th>  <th>[0.025</th>    <th>0.975]</th>  \n",
       "</tr>\n",
       "<tr>\n",
       "  <th>Intercept</th>              <td>    0.4547</td> <td>    0.010</td> <td>   47.795</td> <td> 0.000</td> <td>    0.434</td> <td>    0.475</td>\n",
       "</tr>\n",
       "<tr>\n",
       "  <th>C(embeddings)[T.glove]</th> <td>   -0.0964</td> <td>    0.013</td> <td>   -7.164</td> <td> 0.000</td> <td>   -0.126</td> <td>   -0.067</td>\n",
       "</tr>\n",
       "<tr>\n",
       "  <th>C(embeddings)[T.w2v]</th>   <td>   -0.0027</td> <td>    0.013</td> <td>   -0.202</td> <td> 0.843</td> <td>   -0.032</td> <td>    0.027</td>\n",
       "</tr>\n",
       "</table>\n",
       "<table class=\"simpletable\">\n",
       "<tr>\n",
       "  <th>Omnibus:</th>       <td> 0.598</td> <th>  Durbin-Watson:     </th> <td>   1.974</td>\n",
       "</tr>\n",
       "<tr>\n",
       "  <th>Prob(Omnibus):</th> <td> 0.742</td> <th>  Jarque-Bera (JB):  </th> <td>   0.624</td>\n",
       "</tr>\n",
       "<tr>\n",
       "  <th>Skew:</th>          <td>-0.364</td> <th>  Prob(JB):          </th> <td>   0.732</td>\n",
       "</tr>\n",
       "<tr>\n",
       "  <th>Kurtosis:</th>      <td> 2.315</td> <th>  Cond. No.          </th> <td>    3.73</td>\n",
       "</tr>\n",
       "</table><br/><br/>Warnings:<br/>[1] Standard Errors assume that the covariance matrix of the errors is correctly specified."
      ],
      "text/plain": [
       "<class 'statsmodels.iolib.summary.Summary'>\n",
       "\"\"\"\n",
       "                            OLS Regression Results                            \n",
       "==============================================================================\n",
       "Dep. Variable:                map_mrr   R-squared:                       0.847\n",
       "Model:                            OLS   Adj. R-squared:                  0.822\n",
       "Method:                 Least Squares   F-statistic:                     33.28\n",
       "Date:                Tue, 19 Mar 2019   Prob (F-statistic):           1.27e-05\n",
       "Time:                        01:12:07   Log-Likelihood:                 38.146\n",
       "No. Observations:                  15   AIC:                            -70.29\n",
       "Df Residuals:                      12   BIC:                            -68.17\n",
       "Df Model:                           2                                         \n",
       "Covariance Type:            nonrobust                                         \n",
       "==========================================================================================\n",
       "                             coef    std err          t      P>|t|      [0.025      0.975]\n",
       "------------------------------------------------------------------------------------------\n",
       "Intercept                  0.4547      0.010     47.795      0.000       0.434       0.475\n",
       "C(embeddings)[T.glove]    -0.0964      0.013     -7.164      0.000      -0.126      -0.067\n",
       "C(embeddings)[T.w2v]      -0.0027      0.013     -0.202      0.843      -0.032       0.027\n",
       "==============================================================================\n",
       "Omnibus:                        0.598   Durbin-Watson:                   1.974\n",
       "Prob(Omnibus):                  0.742   Jarque-Bera (JB):                0.624\n",
       "Skew:                          -0.364   Prob(JB):                        0.732\n",
       "Kurtosis:                       2.315   Cond. No.                         3.73\n",
       "==============================================================================\n",
       "\n",
       "Warnings:\n",
       "[1] Standard Errors assume that the covariance matrix of the errors is correctly specified.\n",
       "\"\"\""
      ]
     },
     "execution_count": 117,
     "metadata": {},
     "output_type": "execute_result"
    }
   ],
   "source": [
    "# Fits the model with the interaction term\n",
    "# This will also automatically include the main effects for each factor\n",
    "yamane_model = ols('map_mrr ~ C(embeddings)', df2).fit()\n",
    "\n",
    "# Seeing if the overall model is significant\n",
    "print_model(yamane_model)\n",
    "yamane_model.summary()"
   ]
  },
  {
   "cell_type": "code",
   "execution_count": 118,
   "metadata": {},
   "outputs": [
    {
     "data": {
      "text/html": [
       "<div>\n",
       "<style scoped>\n",
       "    .dataframe tbody tr th:only-of-type {\n",
       "        vertical-align: middle;\n",
       "    }\n",
       "\n",
       "    .dataframe tbody tr th {\n",
       "        vertical-align: top;\n",
       "    }\n",
       "\n",
       "    .dataframe thead th {\n",
       "        text-align: right;\n",
       "    }\n",
       "</style>\n",
       "<table border=\"1\" class=\"dataframe\">\n",
       "  <thead>\n",
       "    <tr style=\"text-align: right;\">\n",
       "      <th></th>\n",
       "      <th>sum_sq</th>\n",
       "      <th>mean_sq</th>\n",
       "      <th>df</th>\n",
       "      <th>F</th>\n",
       "      <th>PR(&gt;F)</th>\n",
       "      <th>eta_sq</th>\n",
       "      <th>omega_sq</th>\n",
       "    </tr>\n",
       "  </thead>\n",
       "  <tbody>\n",
       "    <tr>\n",
       "      <th>C(embeddings)</th>\n",
       "      <td>0.030114</td>\n",
       "      <td>0.015057</td>\n",
       "      <td>2.0</td>\n",
       "      <td>33.279414</td>\n",
       "      <td>0.000013</td>\n",
       "      <td>0.847248</td>\n",
       "      <td>0.81146</td>\n",
       "    </tr>\n",
       "    <tr>\n",
       "      <th>Residual</th>\n",
       "      <td>0.005429</td>\n",
       "      <td>0.000452</td>\n",
       "      <td>12.0</td>\n",
       "      <td>NaN</td>\n",
       "      <td>NaN</td>\n",
       "      <td>NaN</td>\n",
       "      <td>NaN</td>\n",
       "    </tr>\n",
       "  </tbody>\n",
       "</table>\n",
       "</div>"
      ],
      "text/plain": [
       "                 sum_sq   mean_sq    df          F    PR(>F)    eta_sq  \\\n",
       "C(embeddings)  0.030114  0.015057   2.0  33.279414  0.000013  0.847248   \n",
       "Residual       0.005429  0.000452  12.0        NaN       NaN       NaN   \n",
       "\n",
       "               omega_sq  \n",
       "C(embeddings)   0.81146  \n",
       "Residual            NaN  "
      ]
     },
     "execution_count": 118,
     "metadata": {},
     "output_type": "execute_result"
    }
   ],
   "source": [
    "res = sm.stats.anova_lm(yamane_model, typ= 1)\n",
    "anova_table(res)\n",
    "\n",
    "# the effect of embeddings is strongly significant on Yamane map_mrr score, F(2, 12) - 33.28, p < 0.05,\n",
    "# omega^2 = 0.81"
   ]
  },
  {
   "cell_type": "code",
   "execution_count": 119,
   "metadata": {},
   "outputs": [
    {
     "name": "stdout",
     "output_type": "stream",
     "text": [
      "Multiple Comparison of Means - Tukey HSD,FWER=0.05\n",
      "=============================================\n",
      "group1 group2 meandiff  lower   upper  reject\n",
      "---------------------------------------------\n",
      "  ft   glove  -0.0964  -0.1323 -0.0605  True \n",
      "  ft    w2v   -0.0027  -0.0386  0.0332 False \n",
      "glove   w2v    0.0937   0.0578  0.1295  True \n",
      "---------------------------------------------\n"
     ]
    }
   ],
   "source": [
    "mc = statsmodels.stats.multicomp.MultiComparison(df2['map_mrr'], df2['embeddings'])\n",
    "mc_results = mc.tukeyhsd()\n",
    "print(mc_results)\n",
    "\n",
    "# As we had notived in the results section, Yamane levels the fastText and word2vec performance; \n",
    "# there is no significant difference between "
   ]
  },
  {
   "cell_type": "code",
   "execution_count": null,
   "metadata": {},
   "outputs": [],
   "source": []
  },
  {
   "cell_type": "code",
   "execution_count": null,
   "metadata": {},
   "outputs": [],
   "source": []
  },
  {
   "cell_type": "code",
   "execution_count": null,
   "metadata": {},
   "outputs": [],
   "source": []
  },
  {
   "cell_type": "code",
   "execution_count": null,
   "metadata": {},
   "outputs": [],
   "source": []
  },
  {
   "cell_type": "code",
   "execution_count": null,
   "metadata": {},
   "outputs": [],
   "source": []
  },
  {
   "cell_type": "code",
   "execution_count": null,
   "metadata": {},
   "outputs": [],
   "source": []
  },
  {
   "cell_type": "code",
   "execution_count": null,
   "metadata": {},
   "outputs": [],
   "source": []
  },
  {
   "cell_type": "code",
   "execution_count": null,
   "metadata": {},
   "outputs": [],
   "source": []
  }
 ],
 "metadata": {
  "kernelspec": {
   "display_name": "Python 3",
   "language": "python",
   "name": "python3"
  },
  "language_info": {
   "codemirror_mode": {
    "name": "ipython",
    "version": 3
   },
   "file_extension": ".py",
   "mimetype": "text/x-python",
   "name": "python",
   "nbconvert_exporter": "python",
   "pygments_lexer": "ipython3",
   "version": "3.6.7"
  }
 },
 "nbformat": 4,
 "nbformat_minor": 2
}
